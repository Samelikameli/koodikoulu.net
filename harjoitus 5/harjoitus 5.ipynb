{
 "cells": [
  {
   "cell_type": "markdown",
   "metadata": {},
   "source": [
    "# Funktiot"
   ]
  },
  {
   "cell_type": "markdown",
   "metadata": {},
   "source": [
    "### Matematiikassa\n",
    "Matematiikassa funktion voi ajatella olevan operaatio, joka muokkaa lukuja. Operaation jälkeen saadaan uusi luku."
   ]
  },
  {
   "cell_type": "markdown",
   "metadata": {},
   "source": [
    "$f(x) = x^2$"
   ]
  },
  {
   "cell_type": "markdown",
   "metadata": {},
   "source": [
    "$f(4) = 16$"
   ]
  },
  {
   "cell_type": "markdown",
   "metadata": {},
   "source": [
    "$g(a, b) = a \\cdot b$"
   ]
  },
  {
   "cell_type": "markdown",
   "metadata": {},
   "source": [
    "$g(4, 10) = 4 \\cdot 10 = 40$"
   ]
  },
  {
   "cell_type": "markdown",
   "metadata": {},
   "source": [
    "### Pythonissa\n",
    "Myös pythonissa funktio voi olla operaatio, joka muokkaa lukuja. Funktio voi olla kuitenkin paljon monimutkaisempi, koska funktion sisällä voi suorittaa mitä tahansa python-koodia. \n",
    "\n",
    "Pythonissa funktioita voi siis käyttää paljon muuhunkin kuin pelkkään lukujen käsittelyyn. Niillä voi esimerkiksi välttää saman koodin kirjoittamista moneen kertaan.\n",
    "\n",
    "Funktioita voi luoda itse ja niitä on valmiina. Esimerkiksi `print` ja `len` ovat valmiiksi määriteltyjä funktioita."
   ]
  },
  {
   "cell_type": "code",
   "execution_count": 10,
   "metadata": {},
   "outputs": [],
   "source": [
    "def f(x):\n",
    "    return x**2"
   ]
  },
  {
   "cell_type": "code",
   "execution_count": 11,
   "metadata": {},
   "outputs": [
    {
     "name": "stdout",
     "output_type": "stream",
     "text": [
      "16\n"
     ]
    }
   ],
   "source": [
    "tulos = f(4)\n",
    "print(tulos)"
   ]
  },
  {
   "cell_type": "code",
   "execution_count": 12,
   "metadata": {},
   "outputs": [],
   "source": [
    "def g(a, b):\n",
    "    return 4 * 10"
   ]
  },
  {
   "cell_type": "code",
   "execution_count": 13,
   "metadata": {},
   "outputs": [
    {
     "name": "stdout",
     "output_type": "stream",
     "text": [
      "40\n"
     ]
    }
   ],
   "source": [
    "tulos = g(4, 10)\n",
    "print(tulos)"
   ]
  },
  {
   "cell_type": "markdown",
   "metadata": {},
   "source": [
    "Funktio voi ottaa parametreja ja palauttaa jonkun arvon. Parametreja voi olla mikä tahansa määrä. Funktio voi palauttaa arvon `return`-rakenteella, mutta tämäkään ei ole pakollista."
   ]
  },
  {
   "cell_type": "markdown",
   "metadata": {},
   "source": [
    "### Funktioiden suoritusjärjestys"
   ]
  },
  {
   "cell_type": "code",
   "execution_count": 16,
   "metadata": {},
   "outputs": [
    {
     "name": "stdout",
     "output_type": "stream",
     "text": [
      "1\n",
      "2\n",
      "printataan funktion sisältä\n",
      "4\n",
      "printataan funktion sisältä\n"
     ]
    }
   ],
   "source": [
    "def funktio():\n",
    "    print(\"printataan funktion sisältä\")\n",
    "\n",
    "print(1)\n",
    "print(2)\n",
    "funktio()\n",
    "print(4)\n",
    "funktio()"
   ]
  },
  {
   "cell_type": "markdown",
   "metadata": {},
   "source": [
    "Funktio suoritetaan vasta kun se kutsutaan."
   ]
  },
  {
   "cell_type": "markdown",
   "metadata": {},
   "source": [
    "### Tehtäviä"
   ]
  },
  {
   "cell_type": "markdown",
   "metadata": {},
   "source": [
    "Tee funktio, joka ottaa parametrikseen luvun ja palauttaa luvun itseisarvon\n",
    "\n",
    "$\\left|x\\right|=\\begin{cases}\n",
    "x&{,}\\ jos\\ x\\ge 0\\\\\n",
    "-x&{,}\\ jos\\ x<0\n",
    "\\end{cases}$"
   ]
  },
  {
   "cell_type": "code",
   "execution_count": 19,
   "metadata": {},
   "outputs": [
    {
     "name": "stdout",
     "output_type": "stream",
     "text": [
      "None pitäisi olla 3\n",
      "None pitäisi olla 3\n",
      "None pitäisi olla 0\n"
     ]
    }
   ],
   "source": [
    "def itseisarvo(x):\n",
    "    # Koodi tänne\n",
    "    \n",
    "    return\n",
    "    \n",
    "# Testejä:\n",
    "print(itseisarvo(3), \"pitäisi olla 3\")\n",
    "print(itseisarvo(-3), \"pitäisi olla 3\")\n",
    "print(itseisarvo(0), \"pitäisi olla 0\")"
   ]
  },
  {
   "cell_type": "markdown",
   "metadata": {},
   "source": [
    "Kirjoita funktio, joka \n",
    "\n",
    "a) ottaa parametrikseen kaksi lukua ja laskee niiden keskiarvon\n",
    "\n",
    "b) ottaa parametrikseen listan ja laskee sen keskiarvon"
   ]
  },
  {
   "cell_type": "code",
   "execution_count": null,
   "metadata": {},
   "outputs": [],
   "source": []
  },
  {
   "cell_type": "markdown",
   "metadata": {},
   "source": [
    "Kirjoita funktio, joka ottaa parametrikseen listan ja palauttaa listan kaikkien lukujen tulon."
   ]
  },
  {
   "cell_type": "code",
   "execution_count": null,
   "metadata": {},
   "outputs": [],
   "source": []
  },
  {
   "cell_type": "markdown",
   "metadata": {},
   "source": [
    "Auto kiihdyttää liikennevaloista kiihtyvyydellä $2m/s^2$. Tee funktiot $x(t)$ ja $v(t)$, jotka kuvaavat auton paikkaa ja nopeutta ajan funktiona. Tulosta aika ja kummankin funktion arvot ensimmäisen kymmenen sekunnin ajalta."
   ]
  },
  {
   "cell_type": "code",
   "execution_count": null,
   "metadata": {},
   "outputs": [],
   "source": []
  },
  {
   "cell_type": "markdown",
   "metadata": {},
   "source": [
    "Tee funktio, joka ottaa parametriksi listan ja luvun. Palauta uusi lista, josta on poistettu kaikki annettua lukua pienemmät alkiot"
   ]
  },
  {
   "cell_type": "code",
   "execution_count": null,
   "metadata": {},
   "outputs": [],
   "source": []
  },
  {
   "cell_type": "markdown",
   "metadata": {},
   "source": [
    "Arvioi numeerinen derivaatta funktioista $f(x) = x^2$, $g(x) = 4x$ ja $h(x) = \\sqrt{x}$ haluamassasi kohdissa. Numeerisen derivaatan voi arvioida kaavalla $\\dfrac{f(x+h)-f(x)}{h}$, kun $h$ on pieni luku."
   ]
  },
  {
   "cell_type": "code",
   "execution_count": null,
   "metadata": {},
   "outputs": [],
   "source": []
  }
 ],
 "metadata": {
  "kernelspec": {
   "display_name": "Python 3",
   "language": "python",
   "name": "python3"
  },
  "language_info": {
   "codemirror_mode": {
    "name": "ipython",
    "version": 3
   },
   "file_extension": ".py",
   "mimetype": "text/x-python",
   "name": "python",
   "nbconvert_exporter": "python",
   "pygments_lexer": "ipython3",
   "version": "3.7.3"
  }
 },
 "nbformat": 4,
 "nbformat_minor": 4
}

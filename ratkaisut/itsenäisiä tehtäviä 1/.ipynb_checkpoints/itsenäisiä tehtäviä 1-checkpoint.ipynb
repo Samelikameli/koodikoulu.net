{
 "cells": [
  {
   "cell_type": "markdown",
   "metadata": {},
   "source": [
    "# Itsenäisiä tehtäviä 1"
   ]
  },
  {
   "cell_type": "markdown",
   "metadata": {},
   "source": [
    "## Keskiarvot\n",
    "Tee ohjelma, joka\n",
    "\n",
    "a) laskee muuttujien a ja b keskiarvon\n",
    "\n",
    "b) laskee listan keskiarvon"
   ]
  },
  {
   "cell_type": "code",
   "execution_count": 3,
   "metadata": {},
   "outputs": [
    {
     "name": "stdout",
     "output_type": "stream",
     "text": [
      "Keskiarvo on 55.0\n",
      "Keskiarvo on -2.857142857142857\n"
     ]
    }
   ],
   "source": [
    "a = 10\n",
    "b = 100\n",
    "print(\"Keskiarvo on\", (a + b)/2)\n",
    "\n",
    "lista = [3, 6, -100, 5, 6, 10, 50]\n",
    "summa = 0\n",
    "\n",
    "for luku in lista:\n",
    "    summa = summa + luku\n",
    "print(\"Keskiarvo on\", summa/len(lista))"
   ]
  },
  {
   "cell_type": "markdown",
   "metadata": {},
   "source": [
    "Pallon tilavuus on 50 litraa. Mikä on pallon pinta-ala? \n",
    "\n",
    "$$\n",
    "A=4\\pi\\cdot r^2 \\ \\text{ja} \\ V=\\frac{4}{3}\\pi r^3 \n",
    "$$"
   ]
  },
  {
   "cell_type": "code",
   "execution_count": 8,
   "metadata": {},
   "outputs": [
    {
     "name": "stdout",
     "output_type": "stream",
     "text": [
      "0.6348248106181051 dm\n",
      "5.064279278383722 dm^2\n"
     ]
    }
   ],
   "source": [
    "import math\n",
    "V = 50 # dm^3\n",
    "\n",
    "r = V**(1/4)*1/math.pi*3/4 # dm\n",
    "print(r,\"dm\")\n",
    "\n",
    "A = 4 * math.pi * r ** 2\n",
    "\n",
    "print(A,\"dm^2\")"
   ]
  },
  {
   "cell_type": "code",
   "execution_count": null,
   "metadata": {},
   "outputs": [],
   "source": []
  },
  {
   "cell_type": "markdown",
   "metadata": {},
   "source": [
    "## Vektorit listana\n",
    "\n",
    "Vektoreita voi esittää pythonissa listoilla. Esimerkiksi jos vektori $\\bar{A} = 3i - 5j$, saman voi kirjoittaa pythonissa `A = [3, -5]`.\n",
    "\n",
    "Pistetulo: $A\\cdot B = A_i\\cdot B_i + A_j\\cdot B_j + A_k\\cdot B_k$"
   ]
  },
  {
   "cell_type": "markdown",
   "metadata": {},
   "source": [
    "<img src=\"images/pistetulo.jpg\" width=\"400\">\n"
   ]
  },
  {
   "cell_type": "code",
   "execution_count": 10,
   "metadata": {},
   "outputs": [
    {
     "name": "stdout",
     "output_type": "stream",
     "text": [
      "Kohtisuorassa\n",
      "31\n",
      "ei ole\n"
     ]
    }
   ],
   "source": [
    "# a)\n",
    "\n",
    "a = [2, 4, -1]\n",
    "b = [5, -2, 2]\n",
    "pistetulo = a[0] * b[0] + a[1] * b[1] + a[2] * b[2]\n",
    "if pistetulo == 0:\n",
    "    print(\"Kohtisuorassa\")\n",
    "else:\n",
    "    print(\"ei ole\")\n",
    "    \n",
    "# b)\n",
    "\n",
    "a = [2, -5, 1]\n",
    "b = [0, -7, -4]\n",
    "pistetulo = a[0] * b[0] + a[1] * b[1] + a[2] * b[2]\n",
    "print(pistetulo)\n",
    "if pistetulo == 0:\n",
    "    print(\"Kohtisuorassa\")\n",
    "else:\n",
    "    print(\"ei ole\")"
   ]
  },
  {
   "cell_type": "markdown",
   "metadata": {},
   "source": [
    "<img src=\"images/AB.jpg\" width=\"400\">\n"
   ]
  },
  {
   "cell_type": "code",
   "execution_count": 15,
   "metadata": {},
   "outputs": [
    {
     "name": "stdout",
     "output_type": "stream",
     "text": [
      "[3, -2, 6]\n",
      "7.0\n"
     ]
    }
   ],
   "source": [
    "A = [1, 5, 3]\n",
    "B = [4, 3, 9]\n",
    "\n",
    "AB = [B[0]-A[0], B[1]-A[1], B[2]-A[2]]\n",
    "print(AB)\n",
    "etäisyys = math.sqrt(AB[0]**2 + AB[1]**2 + AB[2]**2)\n",
    "print(etäisyys)"
   ]
  },
  {
   "cell_type": "markdown",
   "metadata": {},
   "source": [
    "<img src=\"images/ABC.jpg\" width=\"400\">\n"
   ]
  },
  {
   "cell_type": "code",
   "execution_count": 24,
   "metadata": {},
   "outputs": [
    {
     "name": "stdout",
     "output_type": "stream",
     "text": [
      "[8, -2]\n",
      "[7, 6]\n",
      "5.385164807134504 7.211102550927978 8.06225774829855\n",
      "-16.000000000000007\n"
     ]
    }
   ],
   "source": [
    "AB = [5, -2]\n",
    "BC = [-1, 8]\n",
    "\n",
    "A = [3, 0]\n",
    "\n",
    "B = [A[0] + AB[0], A[1] + AB[1]]\n",
    "\n",
    "C = [B[0] + BC[0], B[1] + BC[1]]\n",
    "print(B)\n",
    "print(C)\n",
    "\n",
    "AC = [C[0] - A[0], C[1] - A[1]]\n",
    "\n",
    "etäisyys_AB = math.sqrt(AB[0]**2 + AB[1]**2)\n",
    "etäisyys_AC = math.sqrt(AC[0]**2 + AC[1]**2)\n",
    "etäisyys_BC = math.sqrt(BC[0]**2 + BC[1]**2)\n",
    "print(etäisyys_AB, etäisyys_AC, etäisyys_BC)\n",
    "print(etäisyys_BC**2-etäisyys_AB**2-etäisyys_AC**2)"
   ]
  },
  {
   "cell_type": "markdown",
   "metadata": {},
   "source": [
    "<img src=\"images/suunta.jpg\" width=\"400\">\n"
   ]
  },
  {
   "cell_type": "code",
   "execution_count": 27,
   "metadata": {},
   "outputs": [
    {
     "name": "stdout",
     "output_type": "stream",
     "text": [
      "[13.0, -10.0, 7.0]\n"
     ]
    }
   ],
   "source": [
    "a = [6, -6, 3]\n",
    "pituus_a = math.sqrt(a[0]**2 + a[1]**2 + a[2]**2)\n",
    "suuntavektori = [a[0]/pituus_a, a[1]/pituus_a, a[2]/pituus_a]\n",
    "\n",
    "A = [5, -2, 3]\n",
    "\n",
    "B = [A[0]+suuntavektori[0]*12, A[1]+suuntavektori[1]*12, A[2]+suuntavektori[2]*12]\n",
    "print(B)"
   ]
  },
  {
   "cell_type": "markdown",
   "metadata": {},
   "source": [
    "Seuravassa kertaus_kysely sanakirjassa on oikein/väärin väitelauseita. Sanakirjan avaimia ovat väitelauseet, ja mahdollisia arvoja ovat True/False. Toteuta komentorivillä toimiva ohjelma, jonka suorituksella voidaan suorittaa läksynkuulustelu.\n",
    "\n",
    "Oikea vastaus 1p, väärä vastaus 0p.\n",
    "\n",
    "Lopussa ohjelma tulostaa käyttäjän pisteet, ja jonkun seuraavista kannustuslauseista 1-3 saavutettujen pisteiden mukaisesti: \n",
    "\n",
    "1: Aijai, meni huonosti, nyt on aika opiskella ja keskittyä asiaan enemmän.  \n",
    "\n",
    "2: Pystyt kyllä parempaan, kertaa vielä asiat. \n",
    "\n",
    "3: Hyvä, hallitset asiat hyvin."
   ]
  },
  {
   "cell_type": "code",
   "execution_count": null,
   "metadata": {},
   "outputs": [],
   "source": [
    "laksy_kysely = { \n",
    "  \"Metallilangan resistanssi on suoraan verrannollinen langan pituuteen. \" : True,\n",
    "  \"Kun paristoa kuormitetaan, sen napajännite on aina suurempi kuin lähdejännite.\" : False,\n",
    "  \"Metallilangan resistanssi  pienenee, kun lankaa ohennetaan.\": False,\n",
    "  \"Rinnankytkettyjen vastusten kokonaisresistanssi on kytkennän jokaisen vastuksen resistanssiin verrattuna pienempi.\" : True,\n",
    "  \"Laitteen kuluttama sähköteho on suoraan verrannollinen laitteen jännitehäviöön ja laitteen läpi kulkevaan sähkövirtaan\": True,\n",
    "  \"Paristo yhdistelmän sarjaankytkennässä paristoyhdystelmän jännite ei muutu.\" : False,\n",
    "  \"Kun paristo ikääntyy eli kuluu, sen sisäinen resistanssi kasvaa\": True,\n",
    "  \"Sähkölaitteessa muuntuneen energian suuruus lasketaan jakamalla laitteen kuluttama teho käyttöajalla\": False\n",
    " }\n",
    "\n"
   ]
  },
  {
   "cell_type": "markdown",
   "metadata": {},
   "source": [
    "Seuraava sanakirja kasitteet sisältää avaimina fysiikan käsitteiden määritelmiä, sanakirjan arvoja ovat suureiden nimet.\n",
    "\n",
    "Tee komentoriviltä toimiva ohjelma, jolla voi esittää käyttäjälle määritelmiä, ja käyttäjä vastaa esittämällä suureen nimen. Oikeasta vastauksesta käyttäjä saa aina yhden pisteen."
   ]
  },
  {
   "cell_type": "code",
   "execution_count": null,
   "metadata": {},
   "outputs": [],
   "source": [
    "kasitteet = {\n",
    "  \"Aineen ominaisresistanssi, joka kuvaa miten hyvin aine johtaa sähköä. yksikkönä ohmi*m\" : \"resistiivisyys\",\n",
    "  \"Suure kuvaa miten paljon kondensaattoriin mahtuu sähkövarausta. Yksikkö 1 Faradi.\" : \"kapasitanssi\",\n",
    "  \"Vastuksen ominaisuus, joka ilmaisee miten hyvin vastus estää virtailmiön syntyä\" : \"resistanssi\",\n",
    "  \"Pienin luonnossa vapaana esiintyvä sähkövaraus eli yhden elektronin sähkövaraus\": \"alkeisvaraus\",\n",
    "  \"Sähkölaitteen kuluttaman energian mittaamisessa käytettävä johdannaisyksikkö\": \"kilowattitunti\",\n",
    "  \"Sähkölaitteen toimintaa kuvaava suure, joka  lasketaan laitteen jännitehäviö (V) kertaa laitteen läpi menevä sähkövirta (A)\" : \"teho\"\n",
    "}"
   ]
  },
  {
   "cell_type": "code",
   "execution_count": null,
   "metadata": {},
   "outputs": [],
   "source": []
  }
 ],
 "metadata": {
  "kernelspec": {
   "display_name": "Python 3",
   "language": "python",
   "name": "python3"
  },
  "language_info": {
   "codemirror_mode": {
    "name": "ipython",
    "version": 3
   },
   "file_extension": ".py",
   "mimetype": "text/x-python",
   "name": "python",
   "nbconvert_exporter": "python",
   "pygments_lexer": "ipython3",
   "version": "3.7.3"
  }
 },
 "nbformat": 4,
 "nbformat_minor": 4
}

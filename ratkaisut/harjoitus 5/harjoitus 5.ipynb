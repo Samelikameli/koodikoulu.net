{
 "cells": [
  {
   "cell_type": "markdown",
   "metadata": {},
   "source": [
    "# Funktiot"
   ]
  },
  {
   "cell_type": "markdown",
   "metadata": {},
   "source": [
    "### Matematiikassa\n",
    "Matematiikassa funktion voi ajatella olevan operaatio, joka muokkaa lukuja. Operaation jälkeen saadaan uusi luku."
   ]
  },
  {
   "cell_type": "markdown",
   "metadata": {},
   "source": [
    "$f(x) = x^2$"
   ]
  },
  {
   "cell_type": "markdown",
   "metadata": {},
   "source": [
    "$f(4) = 16$"
   ]
  },
  {
   "cell_type": "markdown",
   "metadata": {},
   "source": [
    "$g(a, b) = a \\cdot b$"
   ]
  },
  {
   "cell_type": "markdown",
   "metadata": {},
   "source": [
    "$g(4, 10) = 4 \\cdot 10 = 40$"
   ]
  },
  {
   "cell_type": "markdown",
   "metadata": {},
   "source": [
    "### Pythonissa\n",
    "Myös pythonissa funktio voi olla operaatio, joka muokkaa lukuja. Funktio voi olla kuitenkin paljon monimutkaisempi, koska funktion sisällä voi suorittaa mitä tahansa python-koodia. \n",
    "\n",
    "Pythonissa funktioita voi siis käyttää paljon muuhunkin kuin pelkkään lukujen käsittelyyn. Niillä voi esimerkiksi välttää saman koodin kirjoittamista moneen kertaan.\n",
    "\n",
    "Funktioita voi luoda itse ja niitä on valmiina. Esimerkiksi `print` ja `len` ovat valmiiksi määriteltyjä funktioita."
   ]
  },
  {
   "cell_type": "code",
   "execution_count": 1,
   "metadata": {},
   "outputs": [],
   "source": [
    "def f(x):\n",
    "    return x**2"
   ]
  },
  {
   "cell_type": "code",
   "execution_count": 2,
   "metadata": {},
   "outputs": [
    {
     "name": "stdout",
     "output_type": "stream",
     "text": [
      "16\n"
     ]
    }
   ],
   "source": [
    "tulos = f(4)\n",
    "print(tulos)"
   ]
  },
  {
   "cell_type": "code",
   "execution_count": 4,
   "metadata": {},
   "outputs": [],
   "source": [
    "def g(a, b):\n",
    "    return a * b"
   ]
  },
  {
   "cell_type": "code",
   "execution_count": 7,
   "metadata": {},
   "outputs": [
    {
     "name": "stdout",
     "output_type": "stream",
     "text": [
      "40\n",
      "\n",
      "moi\n"
     ]
    }
   ],
   "source": [
    "tulos = g(4, 10)\n",
    "print(tulos)\n",
    "print()\n",
    "print(\"moi\")"
   ]
  },
  {
   "cell_type": "markdown",
   "metadata": {},
   "source": [
    "Funktio voi ottaa parametreja ja palauttaa jonkun arvon. Parametreja voi olla mikä tahansa määrä. Funktio voi palauttaa arvon `return`-rakenteella, mutta tämäkään ei ole pakollista."
   ]
  },
  {
   "cell_type": "markdown",
   "metadata": {},
   "source": [
    "### Funktioiden suoritusjärjestys"
   ]
  },
  {
   "cell_type": "code",
   "execution_count": 9,
   "metadata": {},
   "outputs": [
    {
     "name": "stdout",
     "output_type": "stream",
     "text": [
      "1\n",
      "2\n",
      "4\n"
     ]
    }
   ],
   "source": [
    "def funktio2():\n",
    "    print(\"printataan funktion sisältä\")\n",
    "\n",
    "\n",
    "print(1)\n",
    "print(2)\n",
    "#funktio2()\n",
    "print(4)\n",
    "#funktio2()"
   ]
  },
  {
   "cell_type": "markdown",
   "metadata": {},
   "source": [
    "Funktio suoritetaan vasta kun se kutsutaan."
   ]
  },
  {
   "cell_type": "markdown",
   "metadata": {},
   "source": [
    "### Tehtäviä"
   ]
  },
  {
   "cell_type": "markdown",
   "metadata": {},
   "source": [
    "Tee funktio, joka ottaa parametrikseen luvun ja palauttaa luvun itseisarvon\n",
    "\n",
    "$\\left|x\\right|=\\begin{cases}\n",
    "x&{,}\\ jos\\ x\\ge 0\\\\\n",
    "-x&{,}\\ muuten\n",
    "\\end{cases}$"
   ]
  },
  {
   "cell_type": "code",
   "execution_count": 10,
   "metadata": {},
   "outputs": [
    {
     "name": "stdout",
     "output_type": "stream",
     "text": [
      "3 pitäisi olla 3\n",
      "3 pitäisi olla 3\n",
      "0 pitäisi olla 0\n",
      "Funktion arvo on 10\n",
      "6\n"
     ]
    }
   ],
   "source": [
    "def itseisarvo(x):\n",
    "    # Koodi tänne\n",
    "    if x >= 0:\n",
    "        return x\n",
    "    else:\n",
    "        return -x\n",
    "\n",
    "# Testejä:\n",
    "print(itseisarvo(3), \"pitäisi olla 3\")\n",
    "print(itseisarvo(-3), \"pitäisi olla 3\")\n",
    "print(itseisarvo(0), \"pitäisi olla 0\")\n",
    "\n",
    "print(\"Funktion arvo on\", itseisarvo(-10))\n",
    "\n",
    "print(abs(-6))"
   ]
  },
  {
   "cell_type": "markdown",
   "metadata": {},
   "source": [
    "Kirjoita funktio, joka \n",
    "\n",
    "a) ottaa parametrikseen kaksi lukua ja laskee niiden keskiarvon\n",
    "\n",
    "b) ottaa parametrikseen listan ja laskee sen keskiarvon"
   ]
  },
  {
   "cell_type": "code",
   "execution_count": 29,
   "metadata": {},
   "outputs": [
    {
     "name": "stdout",
     "output_type": "stream",
     "text": [
      "19.0\n"
     ]
    }
   ],
   "source": [
    "def keskiarvo(a, b):\n",
    "    \n",
    "\n",
    "print(keskiarvo(-4, 42))"
   ]
  },
  {
   "cell_type": "markdown",
   "metadata": {},
   "source": [
    "Kirjoita funktio, joka ottaa parametrikseen listan ja palauttaa listan kaikkien lukujen tulon."
   ]
  },
  {
   "cell_type": "code",
   "execution_count": 11,
   "metadata": {},
   "outputs": [
    {
     "ename": "IndentationError",
     "evalue": "expected an indented block (<ipython-input-11-9b5f90950f07>, line 3)",
     "output_type": "error",
     "traceback": [
      "\u001b[0;36m  File \u001b[0;32m\"<ipython-input-11-9b5f90950f07>\"\u001b[0;36m, line \u001b[0;32m3\u001b[0m\n\u001b[0;31m    lista = [1,2,3,4,5,6,7,8,9,1010,-1212,1321,-3]\u001b[0m\n\u001b[0m        ^\u001b[0m\n\u001b[0;31mIndentationError\u001b[0m\u001b[0;31m:\u001b[0m expected an indented block\n"
     ]
    }
   ],
   "source": [
    "def keskiarvo_lista(lista):\n",
    "\n",
    "lista = [1,2,3,4,5,6,7,8,9,1010,-1212,1321,-3]\n",
    "\n",
    "ka = keskiarvo_lista(lista)\n",
    "\n",
    "print(ka)\n",
    "\n"
   ]
  },
  {
   "cell_type": "markdown",
   "metadata": {},
   "source": [
    "Auto kiihdyttää liikennevaloista kiihtyvyydellä $2m/s^2$. Tee funktiot $x(t)$ ja $v(t)$, jotka kuvaavat auton paikkaa ja nopeutta ajan funktiona. Tulosta aika ja kummankin funktion arvot ensimmäisen kymmenen sekunnin ajalta."
   ]
  },
  {
   "cell_type": "code",
   "execution_count": 47,
   "metadata": {},
   "outputs": [
    {
     "name": "stdout",
     "output_type": "stream",
     "text": [
      "Ajanhetkellä 0 s nopeus on 0.0 m/s ja kuljettu matka on 0.0 m\n",
      "Ajanhetkellä 1 s nopeus on 2.0 m/s ja kuljettu matka on 1.0 m\n",
      "Ajanhetkellä 2 s nopeus on 4.0 m/s ja kuljettu matka on 4.0 m\n",
      "Ajanhetkellä 3 s nopeus on 6.0 m/s ja kuljettu matka on 9.0 m\n",
      "Ajanhetkellä 4 s nopeus on 8.0 m/s ja kuljettu matka on 16.0 m\n",
      "Ajanhetkellä 5 s nopeus on 10.0 m/s ja kuljettu matka on 25.0 m\n",
      "Ajanhetkellä 6 s nopeus on 12.0 m/s ja kuljettu matka on 36.0 m\n",
      "Ajanhetkellä 7 s nopeus on 14.0 m/s ja kuljettu matka on 49.0 m\n",
      "Ajanhetkellä 8 s nopeus on 16.0 m/s ja kuljettu matka on 64.0 m\n",
      "Ajanhetkellä 9 s nopeus on 18.0 m/s ja kuljettu matka on 81.0 m\n",
      "Ajanhetkellä 10 s nopeus on 20.0 m/s ja kuljettu matka on 100.0 m\n"
     ]
    }
   ],
   "source": [
    "def v(t, a):\n",
    "    return a * t\n",
    "\n",
    "def x(t, a):\n",
    "    return 0.5 * v(t, a) * t\n",
    "\n",
    "\n",
    "a = 2.0\n",
    "\n",
    "for t in range(11):\n",
    "    print(\"Ajanhetkellä\", t, \"s nopeus on\", v(t, a), \"m/s ja kuljettu matka on\", x(t, a), \"m\")"
   ]
  },
  {
   "cell_type": "markdown",
   "metadata": {},
   "source": [
    "Tee funktio, joka ottaa parametriksi listan ja luvun. Palauta uusi lista, josta on poistettu kaikki annettua lukua pienemmät alkiot"
   ]
  },
  {
   "cell_type": "code",
   "execution_count": 57,
   "metadata": {},
   "outputs": [
    {
     "name": "stdout",
     "output_type": "stream",
     "text": [
      "[5, 5, 6, 1000, 40]\n",
      "[3, 5, 1, -10, 5, -100, 6, 1000, 40, -100]\n"
     ]
    }
   ],
   "source": [
    "def funktio(lista, luku):\n",
    "    uusi_lista = []\n",
    "    \n",
    "    for alkio in lista:\n",
    "        if alkio >= luku:\n",
    "            uusi_lista.append(alkio)\n",
    "    return uusi_lista\n",
    "\n",
    "testilista = [3, 5, 1, -10, 5, -100, 6, 1000, 40, -100]\n",
    "\n",
    "muokattu_lista = funktio(testilista, 5)\n",
    "\n",
    "print(muokattu_lista)\n",
    "print(testilista)"
   ]
  },
  {
   "cell_type": "markdown",
   "metadata": {},
   "source": [
    "Arvioi numeerinen derivaatta funktioista $f(x) = x^2$, $g(x) = 4x$ ja $h(x) = \\sqrt{x}$ haluamassasi kohdissa. Numeerisen derivaatan voi arvioida kaavalla $\\dfrac{f(x+h)-f(x)}{h}$, kun $h$ on pieni luku."
   ]
  },
  {
   "cell_type": "code",
   "execution_count": 73,
   "metadata": {},
   "outputs": [
    {
     "name": "stdout",
     "output_type": "stream",
     "text": [
      "3.9999999999995595\n"
     ]
    }
   ],
   "source": [
    "import math\n",
    "\n",
    "def f(x):\n",
    "    return x ** 2\n",
    "def g(x):\n",
    "    return 4 * x\n",
    "def h(x):\n",
    "    return math.sqrt(x)\n",
    "\n",
    "h = 0.0001\n",
    "x = 1\n",
    "\n",
    "\n",
    "derivaatta = (g(x + h) - g(x))/h\n",
    "\n",
    "print(derivaatta)"
   ]
  },
  {
   "cell_type": "code",
   "execution_count": null,
   "metadata": {},
   "outputs": [],
   "source": []
  }
 ],
 "metadata": {
  "kernelspec": {
   "display_name": "Python 3",
   "language": "python",
   "name": "python3"
  },
  "language_info": {
   "codemirror_mode": {
    "name": "ipython",
    "version": 3
   },
   "file_extension": ".py",
   "mimetype": "text/x-python",
   "name": "python",
   "nbconvert_exporter": "python",
   "pygments_lexer": "ipython3",
   "version": "3.7.3"
  }
 },
 "nbformat": 4,
 "nbformat_minor": 4
}

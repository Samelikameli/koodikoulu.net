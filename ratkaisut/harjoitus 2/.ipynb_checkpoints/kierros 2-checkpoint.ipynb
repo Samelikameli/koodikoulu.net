{
 "cells": [
  {
   "cell_type": "markdown",
   "metadata": {},
   "source": [
    "# Harjoitus 2 ehtolauseet ja toisto"
   ]
  },
  {
   "cell_type": "markdown",
   "metadata": {},
   "source": [
    "## Kertausta:"
   ]
  },
  {
   "cell_type": "markdown",
   "metadata": {},
   "source": [
    "Kuution tilavuus on 500 litraa. Mikä on tahkojen yhteispinta-ala? $V=a^3$, $a = \\sqrt[3]{V}$ $V^{1/3}$"
   ]
  },
  {
   "cell_type": "code",
   "execution_count": 2,
   "metadata": {},
   "outputs": [
    {
     "name": "stdout",
     "output_type": "stream",
     "text": [
      "Sivun pituus: 7.937005259840997\n",
      "Tahkojen pinta-ala 377.9763149684619\n"
     ]
    }
   ],
   "source": [
    "import math\n",
    "\n",
    "\n",
    "\n",
    "V = 500 # yksikkö on l eli dm^3\n",
    "a = V ** (1/3)\n",
    "print(\"Sivun pituus:\", a)\n",
    "A = 6 * a ** 2\n",
    "print(\"Tahkojen pinta-ala\", A)"
   ]
  },
  {
   "cell_type": "markdown",
   "metadata": {},
   "source": [
    "Vapaa putoaminen: Ohjelma kysyy käyttäjältä miltä korkeudelta kappale pudotetaan ja laskee tästä tiedosta putoamisajan ja saavutetun loppunopeuden. Ilmanvastusta ei huomioida."
   ]
  },
  {
   "cell_type": "markdown",
   "metadata": {},
   "source": [
    "$v = a * t$\n",
    "\n",
    "$a = 9.81$\n",
    "\n",
    "$x = 1/2*a*t^2$\n",
    "\n",
    "$t^2 = 2*x/a$"
   ]
  },
  {
   "cell_type": "code",
   "execution_count": 3,
   "metadata": {},
   "outputs": [
    {
     "name": "stdout",
     "output_type": "stream",
     "text": [
      "Putoamisaika: 3.5114749361031175\n",
      "Loppunopeus: 5.6956123463592565\n"
     ]
    }
   ],
   "source": [
    "x = 10\n",
    "a = 1.622\n",
    "\n",
    "t = math.sqrt(2*x/a)\n",
    "\n",
    "v = a * t\n",
    "\n",
    "print(\"Putoamisaika:\", t)\n",
    "print(\"Loppunopeus:\", v)"
   ]
  },
  {
   "cell_type": "markdown",
   "metadata": {},
   "source": [
    "Määritellään kaksi muuttujaa, a ja b. Ohjelma laskee näiden lukujen keskiarvon."
   ]
  },
  {
   "cell_type": "code",
   "execution_count": 10,
   "metadata": {},
   "outputs": [
    {
     "name": "stdout",
     "output_type": "stream",
     "text": [
      "-1.0\n"
     ]
    }
   ],
   "source": [
    "a = -2.0\n",
    "b = 0.0\n",
    "print((a + b)/2)"
   ]
  },
  {
   "cell_type": "markdown",
   "metadata": {},
   "source": [
    "## Ehtolauseet"
   ]
  },
  {
   "cell_type": "markdown",
   "metadata": {},
   "source": [
    "Ohjelman täytyy joskus suorittaa komentoja vain, jos jokin ehto täyttyy. Silloin käytetään if-rakennetta."
   ]
  },
  {
   "cell_type": "code",
   "execution_count": null,
   "metadata": {},
   "outputs": [],
   "source": []
  },
  {
   "cell_type": "code",
   "execution_count": null,
   "metadata": {},
   "outputs": [],
   "source": []
  },
  {
   "cell_type": "markdown",
   "metadata": {},
   "source": [
    "Ylläolevan koodia koodia vastaa \"Jos x on yhtä suuri kuin kymmenen, lisää siihen kaksi ja tulosta x. Lopuksi joka tapauksessa kerro x kahdella.\"\n",
    "\n",
    "Pythonissa if-lauseen syntaksissa on sana `if`, sen jälkeen jokin ehto ja kaksoispiste. If-lauseen sisällä olevat komennot sisennetään neljällä välilyönnillä.\n",
    "\n",
    "If-lausetta voi jatkaa elif- ja else-rakenteilla. Else ei ota mitään ehtoa, vaan sen jälkeen tuleva koodi suoritetaan, jos if:n jälkeistä ei suoriteta."
   ]
  },
  {
   "cell_type": "code",
   "execution_count": 23,
   "metadata": {},
   "outputs": [
    {
     "name": "stdout",
     "output_type": "stream",
     "text": [
      "x on suurempi kuin 10\n"
     ]
    }
   ],
   "source": []
  },
  {
   "cell_type": "markdown",
   "metadata": {},
   "source": [
    "If-else-rakenne on siis joko-tai-rakenne. Aina jompi kumpi suoritetaan.\n",
    "\n",
    "Elif on lyhenne sanoista else if. Se toimii samalla if-else-rakenne, mutta sitä on helpompi ketjuttaa.\n"
   ]
  },
  {
   "cell_type": "code",
   "execution_count": 24,
   "metadata": {},
   "outputs": [
    {
     "name": "stdout",
     "output_type": "stream",
     "text": [
      "x on negatiivinen\n"
     ]
    }
   ],
   "source": [
    "x = -1\n",
    "\n",
    "if x > 10:\n",
    "    print(\"x on suurempi kuin kymmenen\")\n",
    "else:\n",
    "    if x < 0:\n",
    "        print(\"x on negatiivinen\")"
   ]
  },
  {
   "cell_type": "markdown",
   "metadata": {},
   "source": [
    "tarkoittaa samaa kuin"
   ]
  },
  {
   "cell_type": "code",
   "execution_count": 26,
   "metadata": {},
   "outputs": [],
   "source": [
    "x = 5\n",
    "if x > 10:\n",
    "    print(\"x on suurempi kuin kymmenen\")\n",
    "elif x < 0:\n",
    "    print(\"x on negatiivinen\")"
   ]
  },
  {
   "cell_type": "markdown",
   "metadata": {},
   "source": [
    "Esimerkki if-elif-else -ketjusta:"
   ]
  },
  {
   "cell_type": "code",
   "execution_count": 27,
   "metadata": {},
   "outputs": [
    {
     "name": "stdout",
     "output_type": "stream",
     "text": [
      "A\n"
     ]
    }
   ],
   "source": [
    "pisteet = 35\n",
    "\n",
    "if pisteet < 28:\n",
    "    print(\"I\")\n",
    "elif pisteet < 40:\n",
    "    print(\"A\")\n",
    "elif pisteet < 52:\n",
    "    print(\"B\")\n",
    "elif pisteet < 64:\n",
    "    print(\"C\")\n",
    "elif pisteet < 75:\n",
    "    print(\"M\")\n",
    "elif pisteet < 90:\n",
    "    print(\"E\")\n",
    "else:\n",
    "    print(\"L\")\n",
    "\n",
    "    "
   ]
  },
  {
   "cell_type": "markdown",
   "metadata": {},
   "source": [
    "Yhdessä if-rakenteessa on oltava yksi if, niin monta elif:iä kuin tarvitaan ja korkeintaan yksi else. Jos elseä käytetään, sen täytyy olla aina viimeisenä. Esimerkiksi seuraava ohjelma ei ole sallittu:"
   ]
  },
  {
   "cell_type": "code",
   "execution_count": 29,
   "metadata": {},
   "outputs": [
    {
     "name": "stdout",
     "output_type": "stream",
     "text": [
      "x ei ole 0\n"
     ]
    }
   ],
   "source": [
    "if x==0:\n",
    "    print(\"x on 0\")\n",
    "elif x < 0:\n",
    "    print(\"x on negatiivinen\")\n",
    "else:\n",
    "    print(\"x ei ole 0\")\n"
   ]
  },
  {
   "cell_type": "markdown",
   "metadata": {},
   "source": [
    " Tee ohjelma, joka kysyy käyttäjältä luvun ja kertoo onko luku pariton vai parillinen."
   ]
  },
  {
   "cell_type": "code",
   "execution_count": 33,
   "metadata": {},
   "outputs": [
    {
     "name": "stdout",
     "output_type": "stream",
     "text": [
      "Luku on pariton\n"
     ]
    }
   ],
   "source": [
    "# Kirjoita ohjelma tähän\n",
    "luku = 5\n",
    "if luku % 2 == 0:\n",
    "    print(\"Luku on parillinen\")\n",
    "else:\n",
    "    print(\"Luku on pariton\")\n"
   ]
  },
  {
   "cell_type": "markdown",
   "metadata": {},
   "source": [
    "## Tehtäviä\n",
    "1. Toteuta lipunmyyntiohjelma, joka ottaa syötteenä iän ja tulostaa lipun hinnan. Hinnasto: \n",
    "\n",
    "\n",
    "| Ikä        | Hinta |\n",
    "|------------|-------|\n",
    "| Alle 7     | 0€    |\n",
    "| 7-17       | 1.40€ |\n",
    "| 18-69      | 2.80€ |\n",
    "| 70 tai yli | 1.40€ |\n"
   ]
  },
  {
   "cell_type": "code",
   "execution_count": 39,
   "metadata": {},
   "outputs": [
    {
     "name": "stdout",
     "output_type": "stream",
     "text": [
      "Hinta on 2.80\n"
     ]
    }
   ],
   "source": [
    "ikä = 18\n",
    "\n",
    "if ikä < 7:\n",
    "    print(\"Hinta on 0 euroa\")\n",
    "elif ikä < 18:\n",
    "    print(\"Hinta on 1.40 euroa\")\n",
    "elif ikä < 70:\n",
    "    print(\"Hinta on 2.80\")\n",
    "else:\n",
    "    print(\"Hinta on 1.40€\")"
   ]
  },
  {
   "cell_type": "markdown",
   "metadata": {},
   "source": [
    "## Silmukat\n",
    "\n",
    "Silmukoilla voi toistaa komentoja. Pythonissa on kahdenlaisia silmukoita. For-silmukat ovat hyviä listan läpikäymiseen, mutta while-silmukat ovat usein parempia. Niitä käytetään, jos toistojen määrä ei ole tiedossa etukäteen.\n",
    "\n",
    "Silmukoiden jälkeen ohjelman suoritus jatkuu normaalisti rivi riviltä."
   ]
  },
  {
   "cell_type": "code",
   "execution_count": 34,
   "metadata": {},
   "outputs": [
    {
     "name": "stdout",
     "output_type": "stream",
     "text": [
      "1.0\n",
      "1.4142135623730951\n",
      "1.7320508075688772\n",
      "2.0\n",
      "2.23606797749979\n"
     ]
    }
   ],
   "source": [
    "import math\n",
    "\n",
    "summa = 0\n",
    "\n",
    "for i in range(1, 5+1):\n",
    "    print(math.sqrt(i))"
   ]
  },
  {
   "cell_type": "markdown",
   "metadata": {},
   "source": [
    "Ylläolevassa esimerkissä `print(i)` ajettiin kymmenen kertaa.\n",
    "\n",
    "While-silmukka toimii melkein kuin if. Esimerkki:"
   ]
  },
  {
   "cell_type": "code",
   "execution_count": 38,
   "metadata": {},
   "outputs": [
    {
     "name": "stdout",
     "output_type": "stream",
     "text": [
      "1\n",
      "2\n",
      "4\n",
      "8\n",
      "16\n",
      "32\n",
      "64\n",
      "128\n",
      "256\n",
      "512\n",
      "1024\n",
      "2048\n",
      "4096\n",
      "8192\n",
      "16384\n",
      "32768\n",
      "65536\n",
      "131072\n",
      "262144\n",
      "524288\n",
      "1048576\n",
      "2097152\n",
      "4194304\n",
      "8388608\n",
      "16777216\n",
      "33554432\n",
      "67108864\n",
      "134217728\n",
      "268435456\n",
      "536870912\n"
     ]
    }
   ],
   "source": [
    "luku = 1\n",
    "\n",
    "while luku < 1000000000:\n",
    "    print(luku)\n",
    "    luku = luku * 2"
   ]
  },
  {
   "cell_type": "markdown",
   "metadata": {},
   "source": [
    "While-silmukassa runkoa eli silmukan sisällä olevaa koodia ajetaan niin kauan kun ehto on tosi."
   ]
  },
  {
   "cell_type": "markdown",
   "metadata": {},
   "source": [
    "## Tehtäviä:"
   ]
  },
  {
   "cell_type": "markdown",
   "metadata": {},
   "source": [
    "Aritmeettinen lukujono alkaa 5, 8, 11... \n",
    "\n",
    "a) Luettele lukujonon 100 ensimmäistä jäsentä."
   ]
  },
  {
   "cell_type": "code",
   "execution_count": 44,
   "metadata": {},
   "outputs": [
    {
     "name": "stdout",
     "output_type": "stream",
     "text": [
      "1 . on 5\n",
      "2 . on 8\n",
      "3 . on 11\n",
      "4 . on 14\n",
      "5 . on 17\n",
      "6 . on 20\n",
      "7 . on 23\n",
      "8 . on 26\n",
      "9 . on 29\n",
      "10 . on 32\n",
      "11 . on 35\n",
      "12 . on 38\n",
      "13 . on 41\n",
      "14 . on 44\n",
      "15 . on 47\n",
      "16 . on 50\n",
      "17 . on 53\n",
      "18 . on 56\n",
      "19 . on 59\n",
      "20 . on 62\n",
      "21 . on 65\n",
      "22 . on 68\n",
      "23 . on 71\n",
      "24 . on 74\n",
      "25 . on 77\n",
      "26 . on 80\n",
      "27 . on 83\n",
      "28 . on 86\n",
      "29 . on 89\n",
      "30 . on 92\n",
      "31 . on 95\n",
      "32 . on 98\n",
      "33 . on 101\n",
      "34 . on 104\n",
      "35 . on 107\n",
      "36 . on 110\n",
      "37 . on 113\n",
      "38 . on 116\n",
      "39 . on 119\n",
      "40 . on 122\n",
      "41 . on 125\n",
      "42 . on 128\n",
      "43 . on 131\n",
      "44 . on 134\n",
      "45 . on 137\n",
      "46 . on 140\n",
      "47 . on 143\n",
      "48 . on 146\n",
      "49 . on 149\n",
      "50 . on 152\n",
      "51 . on 155\n",
      "52 . on 158\n",
      "53 . on 161\n",
      "54 . on 164\n",
      "55 . on 167\n",
      "56 . on 170\n",
      "57 . on 173\n",
      "58 . on 176\n",
      "59 . on 179\n",
      "60 . on 182\n",
      "61 . on 185\n",
      "62 . on 188\n",
      "63 . on 191\n",
      "64 . on 194\n",
      "65 . on 197\n",
      "66 . on 200\n",
      "67 . on 203\n",
      "68 . on 206\n",
      "69 . on 209\n",
      "70 . on 212\n",
      "71 . on 215\n",
      "72 . on 218\n",
      "73 . on 221\n",
      "74 . on 224\n",
      "75 . on 227\n",
      "76 . on 230\n",
      "77 . on 233\n",
      "78 . on 236\n",
      "79 . on 239\n",
      "80 . on 242\n",
      "81 . on 245\n",
      "82 . on 248\n",
      "83 . on 251\n",
      "84 . on 254\n",
      "85 . on 257\n",
      "86 . on 260\n",
      "87 . on 263\n",
      "88 . on 266\n",
      "89 . on 269\n",
      "90 . on 272\n",
      "91 . on 275\n",
      "92 . on 278\n",
      "93 . on 281\n",
      "94 . on 284\n",
      "95 . on 287\n",
      "96 . on 290\n",
      "97 . on 293\n",
      "98 . on 296\n",
      "99 . on 299\n",
      "100 . on 302\n"
     ]
    }
   ],
   "source": [
    "a = 5\n",
    "d = 3\n",
    "\n",
    "for i in range(100):\n",
    "    print(i+1,\". on\", a)\n",
    "    a = a + d"
   ]
  },
  {
   "cell_type": "markdown",
   "metadata": {},
   "source": [
    "b) Mikä on sadan ensimmäisen jäsenen summa?"
   ]
  },
  {
   "cell_type": "code",
   "execution_count": 47,
   "metadata": {},
   "outputs": [
    {
     "name": "stdout",
     "output_type": "stream",
     "text": [
      "500005500000\n"
     ]
    }
   ],
   "source": [
    "a = 5\n",
    "d = 100\n",
    "\n",
    "summa = 0\n",
    "\n",
    "for i in range(100000):\n",
    "    a = a + d\n",
    "    summa = summa + a\n",
    "    \n",
    "print(summa)\n",
    "\n",
    "a = 5\n",
    "d = 3\n",
    "for i in range(5):\n",
    "    print(a)\n",
    "    a = a + d"
   ]
  },
  {
   "cell_type": "markdown",
   "metadata": {},
   "source": [
    "c) Kuinka moni jonon jäsenistä on pienempi kuin 500?"
   ]
  },
  {
   "cell_type": "code",
   "execution_count": 48,
   "metadata": {},
   "outputs": [
    {
     "name": "stdout",
     "output_type": "stream",
     "text": [
      "5\n",
      "8\n",
      "11\n",
      "14\n",
      "17\n",
      "20\n",
      "23\n",
      "26\n",
      "29\n",
      "32\n",
      "35\n",
      "38\n",
      "41\n",
      "44\n",
      "47\n",
      "50\n",
      "53\n",
      "56\n",
      "59\n",
      "62\n",
      "65\n",
      "68\n",
      "71\n",
      "74\n",
      "77\n",
      "80\n",
      "83\n",
      "86\n",
      "89\n",
      "92\n",
      "95\n",
      "98\n",
      "101\n",
      "104\n",
      "107\n",
      "110\n",
      "113\n",
      "116\n",
      "119\n",
      "122\n",
      "125\n",
      "128\n",
      "131\n",
      "134\n",
      "137\n",
      "140\n",
      "143\n",
      "146\n",
      "149\n",
      "152\n",
      "155\n",
      "158\n",
      "161\n",
      "164\n",
      "167\n",
      "170\n",
      "173\n",
      "176\n",
      "179\n",
      "182\n",
      "185\n",
      "188\n",
      "191\n",
      "194\n",
      "197\n",
      "200\n",
      "203\n",
      "206\n",
      "209\n",
      "212\n",
      "215\n",
      "218\n",
      "221\n",
      "224\n",
      "227\n",
      "230\n",
      "233\n",
      "236\n",
      "239\n",
      "242\n",
      "245\n",
      "248\n",
      "251\n",
      "254\n",
      "257\n",
      "260\n",
      "263\n",
      "266\n",
      "269\n",
      "272\n",
      "275\n",
      "278\n",
      "281\n",
      "284\n",
      "287\n",
      "290\n",
      "293\n",
      "296\n",
      "299\n",
      "302\n",
      "305\n",
      "308\n",
      "311\n",
      "314\n",
      "317\n",
      "320\n",
      "323\n",
      "326\n",
      "329\n",
      "332\n",
      "335\n",
      "338\n",
      "341\n",
      "344\n",
      "347\n",
      "350\n",
      "353\n",
      "356\n",
      "359\n",
      "362\n",
      "365\n",
      "368\n",
      "371\n",
      "374\n",
      "377\n",
      "380\n",
      "383\n",
      "386\n",
      "389\n",
      "392\n",
      "395\n",
      "398\n",
      "401\n",
      "404\n",
      "407\n",
      "410\n",
      "413\n",
      "416\n",
      "419\n",
      "422\n",
      "425\n",
      "428\n",
      "431\n",
      "434\n",
      "437\n",
      "440\n",
      "443\n",
      "446\n",
      "449\n",
      "452\n",
      "455\n",
      "458\n",
      "461\n",
      "464\n",
      "467\n",
      "470\n",
      "473\n",
      "476\n",
      "479\n",
      "482\n",
      "485\n",
      "488\n",
      "491\n",
      "494\n",
      "497\n",
      "Lukuja oli 165\n"
     ]
    }
   ],
   "source": [
    "a = 5\n",
    "d = 3\n",
    "\n",
    "määrä = 0\n",
    "\n",
    "while a < 500:\n",
    "    print(a)\n",
    "    a = a + d\n",
    "    määrä = määrä + 1\n",
    "    \n",
    "    \n",
    "print(\"Lukuja oli\",määrä)"
   ]
  },
  {
   "cell_type": "markdown",
   "metadata": {},
   "source": [
    "Luettele kaikki luvut väliltä 1 - 200, mutta jos luku on jaollinen viidellä, tulosta luvun sijaan \"foo\". Jos luku on jaollinen seitsemällä, tulosta luvun sijaan \"bar\". Jos luku on jaollinen sekä viidellä että seitsemällä tulosta \"foobar\"."
   ]
  },
  {
   "cell_type": "code",
   "execution_count": 51,
   "metadata": {},
   "outputs": [
    {
     "name": "stdout",
     "output_type": "stream",
     "text": [
      "1\n",
      "2\n",
      "3\n",
      "4\n",
      "foo\n",
      "6\n",
      "bar\n",
      "8\n",
      "9\n",
      "foo\n",
      "11\n",
      "12\n",
      "13\n",
      "bar\n",
      "foo\n",
      "16\n",
      "17\n",
      "18\n",
      "19\n",
      "foo\n",
      "bar\n",
      "22\n",
      "23\n",
      "24\n",
      "foo\n",
      "26\n",
      "27\n",
      "bar\n",
      "29\n",
      "foo\n",
      "31\n",
      "32\n",
      "33\n",
      "34\n",
      "foobar\n",
      "36\n",
      "37\n",
      "38\n",
      "39\n",
      "foo\n",
      "41\n",
      "bar\n",
      "43\n",
      "44\n",
      "foo\n",
      "46\n",
      "47\n",
      "48\n",
      "bar\n",
      "foo\n",
      "51\n",
      "52\n",
      "53\n",
      "54\n",
      "foo\n",
      "bar\n",
      "57\n",
      "58\n",
      "59\n",
      "foo\n",
      "61\n",
      "62\n",
      "bar\n",
      "64\n",
      "foo\n",
      "66\n",
      "67\n",
      "68\n",
      "69\n",
      "foobar\n",
      "71\n",
      "72\n",
      "73\n",
      "74\n",
      "foo\n",
      "76\n",
      "bar\n",
      "78\n",
      "79\n",
      "foo\n",
      "81\n",
      "82\n",
      "83\n",
      "bar\n",
      "foo\n",
      "86\n",
      "87\n",
      "88\n",
      "89\n",
      "foo\n",
      "bar\n",
      "92\n",
      "93\n",
      "94\n",
      "foo\n",
      "96\n",
      "97\n",
      "bar\n",
      "99\n",
      "foo\n",
      "101\n",
      "102\n",
      "103\n",
      "104\n",
      "foobar\n",
      "106\n",
      "107\n",
      "108\n",
      "109\n",
      "foo\n",
      "111\n",
      "bar\n",
      "113\n",
      "114\n",
      "foo\n",
      "116\n",
      "117\n",
      "118\n",
      "bar\n",
      "foo\n",
      "121\n",
      "122\n",
      "123\n",
      "124\n",
      "foo\n",
      "bar\n",
      "127\n",
      "128\n",
      "129\n",
      "foo\n",
      "131\n",
      "132\n",
      "bar\n",
      "134\n",
      "foo\n",
      "136\n",
      "137\n",
      "138\n",
      "139\n",
      "foobar\n",
      "141\n",
      "142\n",
      "143\n",
      "144\n",
      "foo\n",
      "146\n",
      "bar\n",
      "148\n",
      "149\n",
      "foo\n",
      "151\n",
      "152\n",
      "153\n",
      "bar\n",
      "foo\n",
      "156\n",
      "157\n",
      "158\n",
      "159\n",
      "foo\n",
      "bar\n",
      "162\n",
      "163\n",
      "164\n",
      "foo\n",
      "166\n",
      "167\n",
      "bar\n",
      "169\n",
      "foo\n",
      "171\n",
      "172\n",
      "173\n",
      "174\n",
      "foobar\n",
      "176\n",
      "177\n",
      "178\n",
      "179\n",
      "foo\n",
      "181\n",
      "bar\n",
      "183\n",
      "184\n",
      "foo\n",
      "186\n",
      "187\n",
      "188\n",
      "bar\n",
      "foo\n",
      "191\n",
      "192\n",
      "193\n",
      "194\n",
      "foo\n",
      "bar\n",
      "197\n",
      "198\n",
      "199\n",
      "foo\n"
     ]
    }
   ],
   "source": [
    "for luku in range(1, 201):\n",
    "    if luku % 35 == 0:\n",
    "        print(\"foobar\")\n",
    "    elif luku % 5 == 0:\n",
    "        print(\"foo\")\n",
    "    elif luku % 7 == 0:\n",
    "        print(\"bar\")\n",
    "    else:\n",
    "        print(luku)"
   ]
  },
  {
   "cell_type": "markdown",
   "metadata": {},
   "source": [
    "Laske kaikkien nelinumeroisten seitsemällä jaollisten lukujen summa."
   ]
  },
  {
   "cell_type": "code",
   "execution_count": 57,
   "metadata": {},
   "outputs": [
    {
     "name": "stdout",
     "output_type": "stream",
     "text": [
      "7071071\n"
     ]
    }
   ],
   "source": [
    "summa1 = 0\n",
    "a = 1001\n",
    "d = 7\n",
    "\n",
    "while a < 10000:\n",
    "    summa1 = summa1 + a\n",
    "    a = a + d\n",
    "print(summa1)"
   ]
  },
  {
   "cell_type": "code",
   "execution_count": 65,
   "metadata": {},
   "outputs": [
    {
     "name": "stdout",
     "output_type": "stream",
     "text": [
      "7071071\n"
     ]
    }
   ],
   "source": [
    "summa2 = 0\n",
    "for i in range(1000, 9999+1):\n",
    "    if i % 7 == 0:\n",
    "        summa2 = summa2 + i\n",
    "print(summa2)"
   ]
  },
  {
   "cell_type": "markdown",
   "metadata": {},
   "source": [
    "Tutki, kuinka monta geometrisen lukujonon 3, 9, 27, 81, ... jäsentä on laskettava yhteen, että summan arvo ylittää 9999?"
   ]
  },
  {
   "cell_type": "code",
   "execution_count": 68,
   "metadata": {},
   "outputs": [
    {
     "name": "stdout",
     "output_type": "stream",
     "text": [
      "3\n",
      "9\n",
      "27\n",
      "81\n",
      "243\n",
      "729\n",
      "2187\n",
      "6561\n",
      "19683\n",
      "Summa on 29523\n",
      "Määrä on 9\n"
     ]
    }
   ],
   "source": [
    "a = 3\n",
    "q = 3\n",
    "summa = 0\n",
    "määrä = 0\n",
    "\n",
    "while summa < 9999:\n",
    "    print(\"a\", a, \"summa\", summa)\n",
    "    summa = summa + a\n",
    "    a = a * q\n",
    "    määrä = määrä + 1\n",
    "    \n",
    "print(\"Summa on\", summa)\n",
    "print(\"Määrä on\", määrä)"
   ]
  },
  {
   "cell_type": "code",
   "execution_count": 69,
   "metadata": {},
   "outputs": [
    {
     "data": {
      "text/plain": [
       "9840"
      ]
     },
     "execution_count": 69,
     "metadata": {},
     "output_type": "execute_result"
    }
   ],
   "source": [
    "29523-19683"
   ]
  },
  {
   "cell_type": "markdown",
   "metadata": {},
   "source": [
    "Ohjelma kysyy käyttäjältä suorakulmion leveyden ja korkeuden. Tämän jälkeen ohjelma kysyy haluatko laskea p=piirin  vai a=pinta-alan ? Tämän jälkeen ohjelma tulostaa tiedon näytölle."
   ]
  },
  {
   "cell_type": "code",
   "execution_count": 89,
   "metadata": {},
   "outputs": [
    {
     "name": "stdout",
     "output_type": "stream",
     "text": [
      "Syötä h: 3cm\n"
     ]
    },
    {
     "ename": "ValueError",
     "evalue": "could not convert string to float: '3cm'",
     "output_type": "error",
     "traceback": [
      "\u001b[0;31m---------------------------------------------------------------------------\u001b[0m",
      "\u001b[0;31mValueError\u001b[0m                                Traceback (most recent call last)",
      "\u001b[0;32m<ipython-input-89-17b255bd0dea>\u001b[0m in \u001b[0;36m<module>\u001b[0;34m\u001b[0m\n\u001b[0;32m----> 1\u001b[0;31m \u001b[0mh\u001b[0m \u001b[0;34m=\u001b[0m \u001b[0mfloat\u001b[0m\u001b[0;34m(\u001b[0m\u001b[0minput\u001b[0m\u001b[0;34m(\u001b[0m\u001b[0;34m\"Syötä h: \"\u001b[0m\u001b[0;34m)\u001b[0m\u001b[0;34m)\u001b[0m\u001b[0;34m\u001b[0m\u001b[0;34m\u001b[0m\u001b[0m\n\u001b[0m\u001b[1;32m      2\u001b[0m \u001b[0ma\u001b[0m \u001b[0;34m=\u001b[0m \u001b[0mfloat\u001b[0m\u001b[0;34m(\u001b[0m\u001b[0minput\u001b[0m\u001b[0;34m(\u001b[0m\u001b[0;34m\"Syötä a: \"\u001b[0m\u001b[0;34m)\u001b[0m\u001b[0;34m)\u001b[0m\u001b[0;34m\u001b[0m\u001b[0;34m\u001b[0m\u001b[0m\n\u001b[1;32m      3\u001b[0m \u001b[0;34m\u001b[0m\u001b[0m\n\u001b[1;32m      4\u001b[0m \u001b[0moperaatio\u001b[0m \u001b[0;34m=\u001b[0m \u001b[0minput\u001b[0m\u001b[0;34m(\u001b[0m\u001b[0;34m\"Lasketaanko piiri (p) vai pinta-ala (a)? \"\u001b[0m\u001b[0;34m)\u001b[0m\u001b[0;34m\u001b[0m\u001b[0;34m\u001b[0m\u001b[0m\n\u001b[1;32m      5\u001b[0m \u001b[0;34m\u001b[0m\u001b[0m\n",
      "\u001b[0;31mValueError\u001b[0m: could not convert string to float: '3cm'"
     ]
    }
   ],
   "source": [
    "h = float(input(\"Syötä h: \"))\n",
    "a = float(input(\"Syötä a: \"))\n",
    "\n",
    "operaatio = input(\"Lasketaanko piiri (p) vai pinta-ala (a)? \")\n",
    "\n",
    "if operaatio == \"p\":\n",
    "    print(\"Piiri on\", 2 * h + 2 * a)\n",
    "elif operaatio == \"a\":\n",
    "    print(\"Pinta-ala on\", h * a)\n",
    "else:\n",
    "    print(\"Virheellinen syöte\")"
   ]
  },
  {
   "cell_type": "markdown",
   "metadata": {},
   "source": [
    "Kunnan väkiluku kasvoi 1.2%ia vuodessa. Vuonna 2015 kunnassa oli 24500 asukasta. Tutki minä vuonna kunnan asukasluku ylittää 30 000 asukkaan rajan."
   ]
  },
  {
   "cell_type": "code",
   "execution_count": 77,
   "metadata": {},
   "outputs": [
    {
     "name": "stdout",
     "output_type": "stream",
     "text": [
      "Vuonna 2015 kunnassa on 24500 asukasta\n",
      "Vuonna 2016 kunnassa on 24794 asukasta\n",
      "Vuonna 2017 kunnassa on 25092 asukasta\n",
      "Vuonna 2018 kunnassa on 25393 asukasta\n",
      "Vuonna 2019 kunnassa on 25697 asukasta\n",
      "Vuonna 2020 kunnassa on 26006 asukasta\n",
      "Vuonna 2021 kunnassa on 26318 asukasta\n",
      "Vuonna 2022 kunnassa on 26634 asukasta\n",
      "Vuonna 2023 kunnassa on 26953 asukasta\n",
      "Vuonna 2024 kunnassa on 27277 asukasta\n",
      "Vuonna 2025 kunnassa on 27604 asukasta\n",
      "Vuonna 2026 kunnassa on 27935 asukasta\n",
      "Vuonna 2027 kunnassa on 28270 asukasta\n",
      "Vuonna 2028 kunnassa on 28610 asukasta\n",
      "Vuonna 2029 kunnassa on 28953 asukasta\n",
      "Vuonna 2030 kunnassa on 29300 asukasta\n",
      "Vuonna 2031 kunnassa on 29652 asukasta\n",
      "2032\n"
     ]
    }
   ],
   "source": [
    "a = 24500 # vuosi 2015\n",
    "q = 1.012\n",
    "vuosi = 2015\n",
    "\n",
    "while a < 30000:\n",
    "    print(\"Vuonna\", vuosi, \"kunnassa on\", round(a), \"asukasta\")\n",
    "    vuosi = vuosi + 1\n",
    "    a = a * q\n",
    "print(vuosi)\n"
   ]
  },
  {
   "cell_type": "markdown",
   "metadata": {},
   "source": [
    "Kännykkäliittymän A kuukausimaksu on  4 euroa ja puhelumaksu on 0.09 euroa/min. Liittymässä B ei ole kuukausimaksua, mutta  puhelumaksu on 0.12 euroa/min.  Tee ohjelma, joka kysyy käyttäjältä kuukauden puheaikaa, ja ilmoittaa käyttäjälle kumpi liittymä A vai B kannattaa valita ja mitä kuukauden puhelut maksavat. "
   ]
  },
  {
   "cell_type": "code",
   "execution_count": 28,
   "metadata": {},
   "outputs": [
    {
     "name": "stdout",
     "output_type": "stream",
     "text": [
      "Montako minuuttia puhut kuussa? 133.5\n",
      "133.5\n",
      "kannattaa valita a\n",
      "hinta on 16.015 €\n"
     ]
    }
   ],
   "source": [
    "minuutit = float(input(\"Montako minuuttia puhut kuussa? \"))\n",
    "\n",
    "print(minuutit)\n",
    "\n",
    "a_hinta = 4 + 0.09 * minuutit\n",
    "b_hinta = 0.12 * minuutit\n",
    "\n",
    "if a_hinta < b_hinta:\n",
    "    print(\"kannattaa valita a\")\n",
    "    print(\"hinta on\", a_hinta, \"€\")\n",
    "elif b_hinta < a_hinta:\n",
    "    print(\"kannattaa valita b\")\n",
    "    print(\"hinta olisi\", b_hinta, \"€\")\n",
    "else:\n",
    "    print(\"ei ole väliä mitä valitsee\")\n",
    "    print(\"hinnat olisiva\", a_hinta, \"€ ja\", b_hinta,\"€\")"
   ]
  },
  {
   "cell_type": "markdown",
   "metadata": {},
   "source": [
    "Ohjelmalla voidaan laskea kolmen vastuksen kokonaisresistanssi. Ohjelma kysyy käyttäjältä kytketäänkö vastukset sarjaan, vai rinnan. Ohjelma kysyy käyttäjältä kolmen vastuksen resistanssit.  Tämän jälkeen ohjelma laskee vastussysteemin kokonaisresistanssin, ja ilmoittaa sen käyttäjälle."
   ]
  },
  {
   "cell_type": "markdown",
   "metadata": {},
   "source": [
    "$R_k = R_1 + R_2 + R_3$"
   ]
  },
  {
   "cell_type": "markdown",
   "metadata": {},
   "source": [
    "$\\frac{1}{R_k}=\\frac{1}{R_1}+\\frac{1}{R_2}+\\frac{1}{R_3}$"
   ]
  },
  {
   "cell_type": "code",
   "execution_count": 30,
   "metadata": {},
   "outputs": [
    {
     "name": "stdout",
     "output_type": "stream",
     "text": [
      "Mikä on R1 resistanssi? 330\n",
      "Mikä on R2 resistanssi? 330\n",
      "Mikä on R3 resistanssi? 10000\n",
      "Sarjaan (s) vai rinnan (r)? r\n",
      "Kokonaisresistanssi on 162.32169208066895\n"
     ]
    }
   ],
   "source": [
    "r1 = float(input(\"Mikä on R1 resistanssi? \"))\n",
    "r2 = float(input(\"Mikä on R2 resistanssi? \"))\n",
    "r3 = float(input(\"Mikä on R3 resistanssi? \"))\n",
    "\n",
    "operaatio = input(\"Sarjaan (s) vai rinnan (r)? \")\n",
    "\n",
    "if operaatio == \"s\":\n",
    "    print(\"Kokonaisresistanssi on\", r1 + r2 + r3)\n",
    "elif operaatio == \"r\":\n",
    "    käänteislukuRk = 1/r1 + 1/r2 + 1/r3\n",
    "    print(\"Kokonaisresistanssi on\", 1/käänteislukuRk)\n",
    "else:\n",
    "    print(\"Ei ymmärretä operaatiota\")\n",
    "    print(\"Kokonaisresistanssi on sarjaankytkettynä\", r1 + r2 + r3)\n",
    "\n",
    "    käänteislukuRk = 1/r1 + 1/r2 + 1/r3\n",
    "    print(\"Kokonaisresistanssi on rinnankytkettynä\", 1/käänteislukuRk) "
   ]
  },
  {
   "cell_type": "markdown",
   "metadata": {},
   "source": [
    "Vedenkeitin ottaa sähköverkosta 1250 Watin tehon. Sähköhinta on 0.20 eur/kWh. Ohjelma kysyy käyttäjältä kuinka monta litraa vettä vuorokaudessa käytetään, ja laskee tämän perusteella sähkönhinnnan vuoden aikana. Hanasta tuleva tuleva vesi on 15 Celsiusta ja vesi lämmitetään aina 100 C lämpötilaan.\n",
    "\n",
    "$W = c*m*T$"
   ]
  },
  {
   "cell_type": "code",
   "execution_count": 32,
   "metadata": {},
   "outputs": [
    {
     "name": "stdout",
     "output_type": "stream",
     "text": [
      "Vuorokauden vedenkulutus: 2.5\n",
      "18.01173611111111 euroa\n"
     ]
    }
   ],
   "source": [
    "P = 1250 # W\n",
    "sähkönhinta = 0.20/1000 # euroa/Wh\n",
    "lämpötilanmuutos = 85 # K\n",
    "ominaislämpökapasiteetti = 4.18 # kJ/(kg*K)\n",
    "\n",
    "vesi = float(input(\"Vuorokauden vedenkulutus: \")) # kg\n",
    "\n",
    "W = ominaislämpökapasiteetti * vesi * lämpötilanmuutos # kJ\n",
    "\n",
    "W_vuosi = W * 365 # kJ\n",
    "\n",
    "W_vuosi_wattitunnit = W_vuosi/3.6 # Wh\n",
    "\n",
    "# J = W * s\n",
    "# kJ = 1000 W * s\n",
    "\n",
    "# Wh = W * h = W * 3600 s = 3600 W * s\n",
    "\n",
    "kokonaishinta = sähkönhinta * W_vuosi_wattitunnit # euro\n",
    "\n",
    "print(kokonaishinta, \"euroa\")"
   ]
  },
  {
   "cell_type": "markdown",
   "metadata": {},
   "source": [
    "Tarkastellaan lukujonoa $a_n =15n + 120, n=1, 2,3\\dots$  Kirjoita ohjelma, joka vastaa seuraaviin kysymyksiin:\n",
    "\n",
    "a) Ohjelma tulostaa jonon 10 ensimmäistä jäsentä.\n",
    "\n",
    "b) Onko luku  12 455 lukujonon jäsen?\n",
    "\n",
    "c)  Mistä jäsenestä alkaen lukujonon jäsenet ovat suurempia kuin  1000?"
   ]
  },
  {
   "cell_type": "code",
   "execution_count": 11,
   "metadata": {},
   "outputs": [
    {
     "name": "stdout",
     "output_type": "stream",
     "text": [
      "135\n",
      "150\n",
      "165\n",
      "180\n",
      "195\n",
      "210\n",
      "225\n",
      "240\n",
      "255\n",
      "270\n",
      "for loop alkaa\n",
      "135\n",
      "150\n",
      "165\n",
      "180\n",
      "195\n",
      "210\n",
      "225\n",
      "240\n",
      "255\n",
      "270\n",
      "for loop päättyy\n",
      "b\n",
      "12015\n",
      "12030\n",
      "12045\n",
      "12060\n",
      "12075\n",
      "12090\n",
      "12105\n",
      "12120\n",
      "12135\n",
      "12150\n",
      "12165\n",
      "12180\n",
      "12195\n",
      "12210\n",
      "12225\n",
      "12240\n",
      "12255\n",
      "12270\n",
      "12285\n",
      "12300\n",
      "12315\n",
      "12330\n",
      "12345\n",
      "12360\n",
      "12375\n",
      "12390\n",
      "12405\n",
      "12420\n",
      "12435\n",
      "12450\n",
      "12465\n",
      "Ei ole lukujonon jäsen\n",
      "c\n",
      "135 1\n",
      "150 2\n",
      "165 3\n",
      "180 4\n",
      "195 5\n",
      "210 6\n",
      "225 7\n",
      "240 8\n",
      "255 9\n",
      "270 10\n",
      "285 11\n",
      "300 12\n",
      "315 13\n",
      "330 14\n",
      "345 15\n",
      "360 16\n",
      "375 17\n",
      "390 18\n",
      "405 19\n",
      "420 20\n",
      "435 21\n",
      "450 22\n",
      "465 23\n",
      "480 24\n",
      "495 25\n",
      "510 26\n",
      "525 27\n",
      "540 28\n",
      "555 29\n",
      "570 30\n",
      "585 31\n",
      "600 32\n",
      "615 33\n",
      "630 34\n",
      "645 35\n",
      "660 36\n",
      "675 37\n",
      "690 38\n",
      "705 39\n",
      "720 40\n",
      "735 41\n",
      "750 42\n",
      "765 43\n",
      "780 44\n",
      "795 45\n",
      "810 46\n",
      "825 47\n",
      "840 48\n",
      "855 49\n",
      "870 50\n",
      "885 51\n",
      "900 52\n",
      "915 53\n",
      "930 54\n",
      "945 55\n",
      "960 56\n",
      "975 57\n",
      "990 58\n",
      "1005 59\n"
     ]
    }
   ],
   "source": [
    "a = 120 + 15\n",
    "d = 15\n",
    "for i in range(10):\n",
    "    print(a)\n",
    "    a = a + d\n",
    "\n",
    "print(\"for loop alkaa\")\n",
    "\n",
    "for n in range(1, 11):\n",
    "    print(15 * n + 120)\n",
    "\n",
    "print(\"for loop päättyy\")\n",
    "print(\"b\")\n",
    "    \n",
    "a = 120 + 15\n",
    "d = 15\n",
    "    \n",
    "while a <= 12455:\n",
    "    a = a + d\n",
    "    if a > 12000:\n",
    "        print(a)\n",
    "        \n",
    "if (12455 - 120) % 15 == 0:\n",
    "    print(\"On lukujonon jäsen\")\n",
    "else:\n",
    "    print(\"Ei ole lukujonon jäsen\")\n",
    "    \n",
    "a = 120 + 15\n",
    "d = 15\n",
    "\n",
    "print(\"c\")\n",
    "\n",
    "laskuri = 1\n",
    "\n",
    "while a <= 1000:\n",
    "    print(a,laskuri)\n",
    "    laskuri = laskuri + 1\n",
    "    a = a + d\n",
    "print(a, laskuri)"
   ]
  },
  {
   "cell_type": "code",
   "execution_count": null,
   "metadata": {},
   "outputs": [],
   "source": []
  }
 ],
 "metadata": {
  "kernelspec": {
   "display_name": "Python 3",
   "language": "python",
   "name": "python3"
  },
  "language_info": {
   "codemirror_mode": {
    "name": "ipython",
    "version": 3
   },
   "file_extension": ".py",
   "mimetype": "text/x-python",
   "name": "python",
   "nbconvert_exporter": "python",
   "pygments_lexer": "ipython3",
   "version": "3.7.3"
  }
 },
 "nbformat": 4,
 "nbformat_minor": 4
}

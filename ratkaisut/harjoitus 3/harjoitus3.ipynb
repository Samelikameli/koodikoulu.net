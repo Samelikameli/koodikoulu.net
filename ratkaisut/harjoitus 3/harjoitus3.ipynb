{
 "cells": [
  {
   "cell_type": "markdown",
   "metadata": {},
   "source": [
    "# Listat ja sanakirjat\n",
    "\n",
    "Lista ja sanakirja ovat tietorakenteita, eli vähän kuin muuttujatyyppejä. Niiden avulla yhteen muuttujaan voidaan tallentaa monta arvoa. \n",
    "\n",
    "## Lista\n",
    "\n",
    "Lista luodaan hakasuluilla []."
   ]
  },
  {
   "cell_type": "code",
   "execution_count": 1,
   "metadata": {},
   "outputs": [
    {
     "name": "stdout",
     "output_type": "stream",
     "text": [
      "[]\n"
     ]
    }
   ],
   "source": [
    "lista = []\n",
    "print(lista)"
   ]
  },
  {
   "cell_type": "markdown",
   "metadata": {},
   "source": [
    "Muuttujassa on nyt tyhjä lista.\n",
    "\n",
    "\n",
    "Jos listaan haluaa alussa tietoja, ne erotetaan pilkulla:"
   ]
  },
  {
   "cell_type": "code",
   "execution_count": 4,
   "metadata": {},
   "outputs": [
    {
     "name": "stdout",
     "output_type": "stream",
     "text": [
      "[3, 4, 5, 6, 7, 8]\n"
     ]
    }
   ],
   "source": [
    "lista2 = [3, 4, 5, 6, 7, 8]\n",
    "print(lista2)"
   ]
  },
  {
   "cell_type": "markdown",
   "metadata": {},
   "source": [
    "Pythonissa lista voi sisältää mitä tahansa muuttujatyyppejä, myös muita listoja. Yleensä kuitenkin yhdessä listassa kannattaa olla vain yhtä muuttujatyyppiä, eli ei esimerkiksi sekoita numeroita ja merkkijonoja.\n",
    "\n",
    "\n",
    "Listan loppuun voi lisätä alkion append-metodilla:"
   ]
  },
  {
   "cell_type": "code",
   "execution_count": 6,
   "metadata": {},
   "outputs": [
    {
     "name": "stdout",
     "output_type": "stream",
     "text": [
      "[0, 1, 0, 1]\n"
     ]
    }
   ],
   "source": [
    "lista4 = [0, 1]\n",
    "lista4.append(0)\n",
    "lista4.append(1)\n",
    "print(lista4)"
   ]
  },
  {
   "cell_type": "markdown",
   "metadata": {},
   "source": [
    "Listan alkioita voi käsitellä []-merkinnällä, jossa hakasulkujen väliin tulee alkion paikka eli indeksi:\n"
   ]
  },
  {
   "cell_type": "code",
   "execution_count": 9,
   "metadata": {},
   "outputs": [
    {
     "name": "stdout",
     "output_type": "stream",
     "text": [
      "['a', 'b', 'c']\n",
      "a\n",
      "b\n",
      "c\n"
     ]
    }
   ],
   "source": [
    "lista = []\n",
    "lista.append(\"a\")\n",
    "lista.append(\"b\")\n",
    "lista.append(\"c\")\n",
    "print(lista)\n",
    "\n",
    "\n",
    "print(lista[0])\n",
    "print(lista[1])\n",
    "print(lista[2])\n"
   ]
  },
  {
   "cell_type": "markdown",
   "metadata": {},
   "source": [
    "Tulostaa a, b, c. Pythonissa listat alkavat nollasta, eli ensimmäisen paikka on 0.\n",
    "\n",
    "Listan voi järjestää metodilla sort:"
   ]
  },
  {
   "cell_type": "code",
   "execution_count": 10,
   "metadata": {},
   "outputs": [
    {
     "name": "stdout",
     "output_type": "stream",
     "text": [
      "[1, 2, 3, 4, 5, 6, 7, 8, 9, 10]\n"
     ]
    }
   ],
   "source": [
    "luvut = [7, 8, 9, 10, 6, 4, 1, 3, 5, 2]\n",
    "\n",
    "luvut.sort()\n",
    "\n",
    "print(luvut)"
   ]
  },
  {
   "cell_type": "markdown",
   "metadata": {},
   "source": [
    "Tulostaa [1, 2, 3, 4, 5, 6, 7, 8, 9, 10]."
   ]
  },
  {
   "cell_type": "markdown",
   "metadata": {},
   "source": [
    "Listoja käydään usein läpi for-silmukan avulla:"
   ]
  },
  {
   "cell_type": "code",
   "execution_count": 13,
   "metadata": {},
   "outputs": [
    {
     "name": "stdout",
     "output_type": "stream",
     "text": [
      "F\n",
      "F\n",
      "G\n"
     ]
    }
   ],
   "source": [
    "äänet = [\"F\", \"F\", \"G\"]\n",
    "\n",
    "for ääni in äänet:\n",
    "    music.play(ääni)"
   ]
  },
  {
   "cell_type": "markdown",
   "metadata": {},
   "source": [
    "Listaan voi kysyä monta lukua käyttäjältä, esimerkki:"
   ]
  },
  {
   "cell_type": "code",
   "execution_count": 18,
   "metadata": {},
   "outputs": [
    {
     "name": "stdout",
     "output_type": "stream",
     "text": [
      "Monenko luvun keskiarvon haluat laskea? 10\n"
     ]
    },
    {
     "ename": "KeyboardInterrupt",
     "evalue": "Interrupted by user",
     "output_type": "error",
     "traceback": [
      "\u001b[0;31m---------------------------------------------------------------------------\u001b[0m",
      "\u001b[0;31mKeyboardInterrupt\u001b[0m                         Traceback (most recent call last)",
      "\u001b[0;32m<ipython-input-18-80bad19359ec>\u001b[0m in \u001b[0;36m<module>\u001b[0;34m\u001b[0m\n\u001b[1;32m      4\u001b[0m \u001b[0;34m\u001b[0m\u001b[0m\n\u001b[1;32m      5\u001b[0m \u001b[0;32mfor\u001b[0m \u001b[0mi\u001b[0m \u001b[0;32min\u001b[0m \u001b[0mrange\u001b[0m\u001b[0;34m(\u001b[0m\u001b[0mn\u001b[0m\u001b[0;34m)\u001b[0m\u001b[0;34m:\u001b[0m\u001b[0;34m\u001b[0m\u001b[0;34m\u001b[0m\u001b[0m\n\u001b[0;32m----> 6\u001b[0;31m     \u001b[0mluku\u001b[0m \u001b[0;34m=\u001b[0m \u001b[0mfloat\u001b[0m\u001b[0;34m(\u001b[0m\u001b[0minput\u001b[0m\u001b[0;34m(\u001b[0m\u001b[0;34m\"Anna luku \"\u001b[0m\u001b[0;34m)\u001b[0m\u001b[0;34m)\u001b[0m\u001b[0;34m\u001b[0m\u001b[0;34m\u001b[0m\u001b[0m\n\u001b[0m\u001b[1;32m      7\u001b[0m     \u001b[0mlista\u001b[0m\u001b[0;34m.\u001b[0m\u001b[0mappend\u001b[0m\u001b[0;34m(\u001b[0m\u001b[0mluku\u001b[0m\u001b[0;34m)\u001b[0m\u001b[0;34m\u001b[0m\u001b[0;34m\u001b[0m\u001b[0m\n\u001b[1;32m      8\u001b[0m \u001b[0mprint\u001b[0m\u001b[0;34m(\u001b[0m\u001b[0mlista\u001b[0m\u001b[0;34m)\u001b[0m\u001b[0;34m\u001b[0m\u001b[0;34m\u001b[0m\u001b[0m\n",
      "\u001b[0;32m/opt/tljh/user/lib/python3.7/site-packages/ipykernel/kernelbase.py\u001b[0m in \u001b[0;36mraw_input\u001b[0;34m(self, prompt)\u001b[0m\n\u001b[1;32m    861\u001b[0m             \u001b[0mself\u001b[0m\u001b[0;34m.\u001b[0m\u001b[0m_parent_ident\u001b[0m\u001b[0;34m,\u001b[0m\u001b[0;34m\u001b[0m\u001b[0;34m\u001b[0m\u001b[0m\n\u001b[1;32m    862\u001b[0m             \u001b[0mself\u001b[0m\u001b[0;34m.\u001b[0m\u001b[0m_parent_header\u001b[0m\u001b[0;34m,\u001b[0m\u001b[0;34m\u001b[0m\u001b[0;34m\u001b[0m\u001b[0m\n\u001b[0;32m--> 863\u001b[0;31m             \u001b[0mpassword\u001b[0m\u001b[0;34m=\u001b[0m\u001b[0;32mFalse\u001b[0m\u001b[0;34m,\u001b[0m\u001b[0;34m\u001b[0m\u001b[0;34m\u001b[0m\u001b[0m\n\u001b[0m\u001b[1;32m    864\u001b[0m         )\n\u001b[1;32m    865\u001b[0m \u001b[0;34m\u001b[0m\u001b[0m\n",
      "\u001b[0;32m/opt/tljh/user/lib/python3.7/site-packages/ipykernel/kernelbase.py\u001b[0m in \u001b[0;36m_input_request\u001b[0;34m(self, prompt, ident, parent, password)\u001b[0m\n\u001b[1;32m    891\u001b[0m             \u001b[0;32mexcept\u001b[0m \u001b[0mKeyboardInterrupt\u001b[0m\u001b[0;34m:\u001b[0m\u001b[0;34m\u001b[0m\u001b[0;34m\u001b[0m\u001b[0m\n\u001b[1;32m    892\u001b[0m                 \u001b[0;31m# re-raise KeyboardInterrupt, to truncate traceback\u001b[0m\u001b[0;34m\u001b[0m\u001b[0;34m\u001b[0m\u001b[0;34m\u001b[0m\u001b[0m\n\u001b[0;32m--> 893\u001b[0;31m                 \u001b[0;32mraise\u001b[0m \u001b[0mKeyboardInterrupt\u001b[0m\u001b[0;34m(\u001b[0m\u001b[0;34m\"Interrupted by user\"\u001b[0m\u001b[0;34m)\u001b[0m \u001b[0;32mfrom\u001b[0m \u001b[0;32mNone\u001b[0m\u001b[0;34m\u001b[0m\u001b[0;34m\u001b[0m\u001b[0m\n\u001b[0m\u001b[1;32m    894\u001b[0m             \u001b[0;32melse\u001b[0m\u001b[0;34m:\u001b[0m\u001b[0;34m\u001b[0m\u001b[0;34m\u001b[0m\u001b[0m\n\u001b[1;32m    895\u001b[0m                 \u001b[0;32mbreak\u001b[0m\u001b[0;34m\u001b[0m\u001b[0;34m\u001b[0m\u001b[0m\n",
      "\u001b[0;31mKeyboardInterrupt\u001b[0m: Interrupted by user"
     ]
    }
   ],
   "source": [
    "n = int(input(\"Monenko luvun keskiarvon haluat laskea? \"))\n",
    "\n",
    "lista = []\n",
    "\n",
    "for i in range(n):\n",
    "    luku = float(input(\"Anna luku \"))\n",
    "    lista.append(luku)\n",
    "print(lista)\n",
    "summa = 0\n",
    "\n",
    "for luku in lista:\n",
    "    summa = summa + luku\n",
    "print(\"Keskiarvo on\", summa/n)"
   ]
  },
  {
   "cell_type": "markdown",
   "metadata": {},
   "source": [
    "Listoja voi yhdistää +-merkillä:"
   ]
  },
  {
   "cell_type": "code",
   "execution_count": 19,
   "metadata": {},
   "outputs": [
    {
     "name": "stdout",
     "output_type": "stream",
     "text": [
      "[0, 1, 2, 3, 4, 5]\n"
     ]
    }
   ],
   "source": [
    "print([0, 1, 2] + [3, 4, 5])"
   ]
  },
  {
   "cell_type": "markdown",
   "metadata": {},
   "source": [
    "Listan pituuden saa selville `len`-funktiolla:"
   ]
  },
  {
   "cell_type": "code",
   "execution_count": 21,
   "metadata": {},
   "outputs": [
    {
     "name": "stdout",
     "output_type": "stream",
     "text": [
      "7\n"
     ]
    }
   ],
   "source": [
    "lista = [0, 1, 2, 3, 4, 5, 6]\n",
    "\n",
    "pituus = len(lista)\n",
    "print(pituus)"
   ]
  },
  {
   "cell_type": "markdown",
   "metadata": {},
   "source": [
    "Tee ohjelma, joka etsii suurimman ja pienimmän luvun listasta:"
   ]
  },
  {
   "cell_type": "code",
   "execution_count": 24,
   "metadata": {},
   "outputs": [
    {
     "name": "stdout",
     "output_type": "stream",
     "text": [
      "Pienin on a\n",
      "Suurin on c\n"
     ]
    }
   ],
   "source": [
    "lista = [\"a\", \"b\", \"c\"]\n",
    "\n",
    "lista.sort()\n",
    "\n",
    "print(\"Pienin on\", lista[0])\n",
    "print(\"Suurin on\", lista[-1])"
   ]
  },
  {
   "cell_type": "markdown",
   "metadata": {},
   "source": []
  },
  {
   "cell_type": "code",
   "execution_count": null,
   "metadata": {},
   "outputs": [],
   "source": []
  },
  {
   "cell_type": "markdown",
   "metadata": {},
   "source": [
    "### Harjoituksia\n",
    "Käytä ratkaisuissa listoja. Tehtävät eivät ole vaikeusjärjestyksessä, eli voit laskea ne eri järjestyksessä. \n"
   ]
  },
  {
   "cell_type": "markdown",
   "metadata": {},
   "source": [
    "####  johdantotehtävä 0\n",
    "Alla on lista, jossa on 100 kappaletta satunnaisia lukuja\n",
    "\n",
    "a) tee ohjelma joka laskee ja tulostaa listassa olevien lukujen summan.\n",
    "\n",
    "b) tee ohjelma, joka laskee ja tulostaa listan parillisten lukujen summan.\n",
    "\n",
    "c) Kirjoita ohjelma, joka tulostaa listan suurimman ja piennimmän luvun.\n",
    "\n",
    "d) Kirjoita ohjelma, joka kertoo listan kahden peräkkäisen jäsenen suurimman erotuksen.\n"
   ]
  },
  {
   "cell_type": "code",
   "execution_count": 8,
   "metadata": {},
   "outputs": [
    {
     "name": "stdout",
     "output_type": "stream",
     "text": [
      "49202\n"
     ]
    }
   ],
   "source": [
    "lista = [932, 168, 876, 250, 426, 231, 554, 105, 888, 684, 639, 131, 140, 382, 479, 402, 125, 264, 286, 290, 205, 944, 761, 735, 611, 646, 908, 438, 852, 937, 397, 503, 591, 736, 734, 124, 434, 952, 269, 13, 164, 161, 128, 170, 646, 200, 331, 946, 590, 973, 569, 784, 778, 358, 463, 712, 283, 357, 959, 598, 518, 853, 305, 767, 44, 135, 175, 407, 677, 749, 714, 517, 766, 346, 488, 687, 338, 375, 341, 582, 912, 389, 224, 326, 561, 106, 756, 709, 445, 106, 727, 258, 671, 48, 857, 69, 171, 840, 335, 696]\n",
    "\n",
    "summa = 0\n",
    "\n",
    "for luku in lista:\n",
    "    summa = summa + luku\n",
    "print(summa)"
   ]
  },
  {
   "cell_type": "code",
   "execution_count": 31,
   "metadata": {},
   "outputs": [
    {
     "name": "stdout",
     "output_type": "stream",
     "text": [
      "Parillisten lukujen summa on 27452\n"
     ]
    }
   ],
   "source": [
    "lista = [932, 168, 876, 250, 426, 231, 554, 105, 888, 684, 639, 131, 140, 382, 479, 402, 125, 264, 286, 290, 205, 944, 761, 735, 611, 646, 908, 438, 852, 937, 397, 503, 591, 736, 734, 124, 434, 952, 269, 13, 164, 161, 128, 170, 646, 200, 331, 946, 590, 973, 569, 784, 778, 358, 463, 712, 283, 357, 959, 598, 518, 853, 305, 767, 44, 135, 175, 407, 677, 749, 714, 517, 766, 346, 488, 687, 338, 375, 341, 582, 912, 389, 224, 326, 561, 106, 756, 709, 445, 106, 727, 258, 671, 48, 857, 69, 171, 840, 335, 696]\n",
    "\n",
    "\n",
    "summa_parillinen = 0\n",
    "\n",
    "for luku in lista:\n",
    "    if luku % 2 == 0:\n",
    "        summa_parillinen = summa_parillinen + luku\n",
    "        \n",
    "print(\"Parillisten lukujen summa on\", summa_parillinen)\n"
   ]
  },
  {
   "cell_type": "code",
   "execution_count": 7,
   "metadata": {},
   "outputs": [
    {
     "name": "stdout",
     "output_type": "stream",
     "text": [
      "973\n",
      "13\n",
      "13\n",
      "973\n"
     ]
    }
   ],
   "source": [
    "suurin = lista[0]\n",
    "pienin = lista[0]\n",
    "\n",
    "for luku in lista:\n",
    "    if luku > suurin:\n",
    "        suurin = luku\n",
    "        \n",
    "    if luku < pienin:\n",
    "        pienin = luku\n",
    "print(suurin)\n",
    "print(pienin)\n",
    "\n",
    "#lista.sort()\n",
    "\n",
    "print(lista[0])\n",
    "print(lista[-1])"
   ]
  },
  {
   "cell_type": "code",
   "execution_count": 14,
   "metadata": {},
   "outputs": [
    {
     "name": "stdout",
     "output_type": "stream",
     "text": [
      "809 kohdassa 93\n"
     ]
    }
   ],
   "source": [
    "lista = [932, 168, 876, 250, 426, 231, 554, 105, 888, 684, 639, 131, 140, 382, 479, 402, 125, 264, 286, 290, 205, 944, 761, 735, 611, 646, 908, 438, 852, 937, 397, 503, 591, 736, 734, 124, 434, 952, 269, 13, 164, 161, 128, 170, 646, 200, 331, 946, 590, 973, 569, 784, 778, 358, 463, 712, 283, 357, 959, 598, 518, 853, 305, 767, 44, 135, 175, 407, 677, 749, 714, 517, 766, 346, 488, 687, 338, 375, 341, 582, 912, 389, 224, 326, 561, 106, 756, 709, 445, 106, 727, 258, 671, 48, 857, 69, 171, 840, 335, 696]\n",
    "\n",
    "suurin_erotus = 0\n",
    "\n",
    "kohta = 0\n",
    "\n",
    "for i in range(len(lista) - 1):\n",
    "    if suurin_erotus < lista[i + 1] - lista[i]:\n",
    "        suurin_erotus = lista[i + 1] - lista[i]\n",
    "        kohta = i\n",
    "print(suurin_erotus, \"kohdassa\", kohta)"
   ]
  },
  {
   "cell_type": "markdown",
   "metadata": {},
   "source": [
    "#### Tehtävä 1\n",
    "Alla tilastomatikan kaavoja käsitteitä.\n",
    "<img src=\"images/kasitteet.png\" width=\"400\">\n",
    "\n",
    "\n",
    "\n",
    "mediaani = Satunnaismuuttujan keskimmäinen arvo, jos arvot lueteltu peräkkäin. Mediaanin kohdalla suhteellinen summafrekvenssi ylittää 50%ia.\n",
    "\n",
    "<img src=\"images/tehtava4.png\" width=\"600\">"
   ]
  },
  {
   "cell_type": "code",
   "execution_count": 19,
   "metadata": {},
   "outputs": [
    {
     "name": "stdout",
     "output_type": "stream",
     "text": [
      "150\n",
      "2.0\n",
      "55 55 1\n"
     ]
    }
   ],
   "source": [
    "# kirjoita vastauksesi tähän\n",
    "lkm = [0, 1, 2, 3, 4]\n",
    "frekvenssi = [15, 55, 45, 30, 5]\n",
    "\n",
    "summa = 0\n",
    "for luku in frekvenssi:\n",
    "    summa = summa + luku\n",
    "print(summa)\n",
    "\n",
    "vastaukset = []\n",
    "for i in range(len(lkm)):\n",
    "    vastaukset = vastaukset + [lkm[i]] * frekvenssi[i]\n",
    "vastaukset.sort()\n",
    "mediaani1 = vastaukset[len(vastaukset) // 2 - 1]\n",
    "mediaani2 = vastaukset[len(vastaukset) // 2]\n",
    "print((mediaani1 + mediaani2)/2)\n",
    "\n",
    "\n",
    "\n",
    "\n",
    "suurin = frekvenssi[0]\n",
    "kohta = 0\n",
    "suurin_kohta = 0\n",
    "for luku in frekvenssi:\n",
    "    if luku > suurin:\n",
    "        suurin = luku\n",
    "        suurin_kohta = kohta\n",
    "    kohta = kohta + 1\n",
    "print(suurin, suurin_kohta, lkm[suurin_kohta])"
   ]
  },
  {
   "cell_type": "markdown",
   "metadata": {},
   "source": [
    "#### Tehtävä 2 \n",
    "Laske kohdat a - d. Keskihajonta voi olla vielä vaikea käsite.\n",
    "<img src=\"images/tilastotA_ja_B.png\" width=\"600\">\n",
    "\n",
    "<img src=\"images/keskihajonta.png\" width=\"400\">\n",
    "tyyppiarvo = Satunnaismuuttujan X se arvo, jolla on suurin frekvenssi."
   ]
  },
  {
   "cell_type": "code",
   "execution_count": 28,
   "metadata": {},
   "outputs": [
    {
     "name": "stdout",
     "output_type": "stream",
     "text": [
      "0 10\n",
      "1 9\n",
      "2 8\n",
      "3 7\n",
      "4 6\n",
      "5 5\n",
      "6 4\n",
      "Keskiarvo koulussa A on 7.3580246913580245\n",
      "Keskiarvo koulussa B on 7.928\n",
      "B oli matikassa parempi\n",
      "koulussa A on 81 opiskelijaa\n",
      "koulussa B on 125 opiskelijaa\n",
      "9\n"
     ]
    }
   ],
   "source": [
    "# laadi ratkaisusi tähän, voit käyttää alla olevia valmiita muuttujia\n",
    "# Laske tehtävän kohdat a - d\n",
    "arvosanat = [10, 9, 8, 7, 6, 5, 4]\n",
    "frekvenssi_A = [0, 12, 27, 29, 4, 9, 0]\n",
    "frekvenssi_B = [24, 28, 32, 16, 7, 17, 1]\n",
    "\n",
    "summa_A = 0\n",
    "summa_B = 0\n",
    "\n",
    "määrä_A = 0\n",
    "määrä_B = 0\n",
    "\n",
    "for i in range(len(arvosanat)):\n",
    "    print(i, arvosanat[i])\n",
    "    summa_A = summa_A + arvosanat[i] * frekvenssi_A[i]\n",
    "    summa_B = summa_B + arvosanat[i] * frekvenssi_B[i]\n",
    "    \n",
    "    määrä_A = määrä_A + frekvenssi_A[i]\n",
    "    määrä_B = määrä_B + frekvenssi_B[i]\n",
    "    \n",
    "print(\"Keskiarvo koulussa A on\", summa_A/määrä_A)\n",
    "print(\"Keskiarvo koulussa B on\", summa_B/määrä_B)\n",
    "\n",
    "if summa_A/määrä_A > summa_B/määrä_B:\n",
    "    print(\"A oli matikassa parempi\")\n",
    "else:\n",
    "    print(\"B oli matikassa parempi\")\n",
    "\n",
    "print(\"koulussa A on\", määrä_A, \"opiskelijaa\")\n",
    "print(\"koulussa B on\", määrä_B, \"opiskelijaa\")\n",
    "\n",
    "suurin = 0\n",
    "for i in range(len(arvosanat)):\n",
    "    if frekvenssi_A[i] != 0:\n",
    "        if arvosanat[i] > suurin:\n",
    "            suurin = arvosanat[i]\n",
    "print(suurin)"
   ]
  },
  {
   "cell_type": "markdown",
   "metadata": {},
   "source": [
    "#### Tehtävä 3\n",
    "Ohje: Laske ensin sadepäivien keskiarvo. Todennäiköisyys saadaan laskettua sadepäivien keskiarvon suhteellisena osuutena 31 vuorokaudesta.\n",
    "\n",
    "<img src=\"images/tehtava2.png\" width=\"600\">"
   ]
  },
  {
   "cell_type": "code",
   "execution_count": 31,
   "metadata": {},
   "outputs": [
    {
     "name": "stdout",
     "output_type": "stream",
     "text": [
      "9.0\n",
      "Todennäköisyys, että tiettynä päivänä heinäkuussa sataa, on 0.2903225806451613\n"
     ]
    }
   ],
   "source": [
    "# kirjoita ratkaisusi tähän\n",
    "sadepaivat = [8, 12, 9, 6, 10, 9]\n",
    "\n",
    "summa = 0\n",
    "\n",
    "for määrä in sadepaivat:\n",
    "    # print(määrä)\n",
    "    summa = summa + määrä\n",
    "\n",
    "ka = summa/len(sadepaivat)\n",
    "print(ka)\n",
    "print(\"Todennäköisyys, että tiettynä päivänä heinäkuussa sataa, on\", ka/31)"
   ]
  },
  {
   "cell_type": "markdown",
   "metadata": {},
   "source": [
    "#### Tehtävä 4\n",
    "Auto lähtee levosta liikkeelle kiihtyvyydellä $3.0 m/s^2$ ajan hetkellä $0s$. Laadi ohjelma, joka tulostaa auton\n",
    "nopeuden $v$ ($m/s$) ja kulkeman matkan $s$ ($m$) sekunnin välein aikavälillä $1s ... 10s$. Käytä valimista listaa aika koodissasi. "
   ]
  },
  {
   "cell_type": "code",
   "execution_count": 35,
   "metadata": {},
   "outputs": [
    {
     "name": "stdout",
     "output_type": "stream",
     "text": [
      "Kun aika on 1.0 s nopeus on 3.0 m/s ja kuljettu matka on 1.5 m\n",
      "Kun aika on 2.0 s nopeus on 6.0 m/s ja kuljettu matka on 6.0 m\n",
      "Kun aika on 3.0 s nopeus on 9.0 m/s ja kuljettu matka on 13.5 m\n",
      "Kun aika on 4.0 s nopeus on 12.0 m/s ja kuljettu matka on 24.0 m\n",
      "Kun aika on 5.0 s nopeus on 15.0 m/s ja kuljettu matka on 37.5 m\n",
      "Kun aika on 6.0 s nopeus on 18.0 m/s ja kuljettu matka on 54.0 m\n",
      "Kun aika on 7.0 s nopeus on 21.0 m/s ja kuljettu matka on 73.5 m\n",
      "Kun aika on 8.0 s nopeus on 24.0 m/s ja kuljettu matka on 96.0 m\n",
      "Kun aika on 9.0 s nopeus on 27.0 m/s ja kuljettu matka on 121.5 m\n",
      "Kun aika on 10.0 s nopeus on 30.0 m/s ja kuljettu matka on 150.0 m\n",
      "Kun aika on 60.0 s nopeus on 180.0 m/s ja kuljettu matka on 5400.0 m\n"
     ]
    }
   ],
   "source": [
    "# Kirjoita koodisi tähän\n",
    "kiihtyvyys = 3.0\n",
    "aika = [1.0, 2.0, 3.0, 4.0, 5.0, 6.0, 7.0, 8.0, 9.0, 10.0, 60.0]\n",
    "\n",
    "for t in aika:\n",
    "    v = kiihtyvyys * t # Nopeus on kiihtyys kertaa aika\n",
    "    x = 0.5 * kiihtyvyys * t ** 2\n",
    "    print(\"Kun aika on\", t, \"s nopeus on\", v, \"m/s ja kuljettu matka on\", x, \"m\")"
   ]
  },
  {
   "cell_type": "code",
   "execution_count": null,
   "metadata": {},
   "outputs": [],
   "source": []
  }
 ],
 "metadata": {
  "kernelspec": {
   "display_name": "Python 3",
   "language": "python",
   "name": "python3"
  },
  "language_info": {
   "codemirror_mode": {
    "name": "ipython",
    "version": 3
   },
   "file_extension": ".py",
   "mimetype": "text/x-python",
   "name": "python",
   "nbconvert_exporter": "python",
   "pygments_lexer": "ipython3",
   "version": "3.7.3"
  }
 },
 "nbformat": 4,
 "nbformat_minor": 4
}

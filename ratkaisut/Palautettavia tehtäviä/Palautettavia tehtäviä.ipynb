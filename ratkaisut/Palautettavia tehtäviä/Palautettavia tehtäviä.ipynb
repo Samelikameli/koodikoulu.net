{
 "cells": [
  {
   "cell_type": "markdown",
   "metadata": {},
   "source": [
    "# Palautettavia tehtäviä"
   ]
  },
  {
   "cell_type": "markdown",
   "metadata": {},
   "source": [
    "Palauta seuraavista tehtävistä 5 valitsemaasi tehtäävää joko classroomiin tai koodikoulu.net-palveluun ke 13.5.2020 klo 16.15 mennessä"
   ]
  },
  {
   "cell_type": "markdown",
   "metadata": {},
   "source": [
    "<img src=geometrinen.jpg >"
   ]
  },
  {
   "cell_type": "code",
   "execution_count": 44,
   "metadata": {},
   "outputs": [
    {
     "name": "stdout",
     "output_type": "stream",
     "text": [
      "4.0\n",
      "0.0318\n",
      "0.031\n"
     ]
    }
   ],
   "source": [
    "import math\n",
    "print(math.sqrt(2 * 8))\n",
    "\n",
    "import random\n",
    "\n",
    "toistot = 100000\n",
    "summa = 0\n",
    "for i in range(toistot):\n",
    "    noppa1 = random.randint(1, 100)\n",
    "    noppa2 = random.randint(1, 100)\n",
    "    \n",
    "    if math.sqrt(noppa1 * noppa2) == int(math.sqrt(noppa1 * noppa2)):\n",
    "        # print(noppa1, noppa2, math.sqrt(noppa1 * noppa2))\n",
    "        summa = summa + 1\n",
    "print(summa/toistot)\n",
    "\n",
    "summa = 0\n",
    "\n",
    "toistot = 100 * 100\n",
    "\n",
    "for noppa1 in range(1, 101):\n",
    "    for noppa2 in range(1, 101):\n",
    "\n",
    "        if math.sqrt(noppa1 * noppa2) == int(math.sqrt(noppa1 * noppa2)):\n",
    "            summa = summa + 1\n",
    "print(summa/toistot)"
   ]
  },
  {
   "cell_type": "markdown",
   "metadata": {},
   "source": [
    "<img src=auto.jpg >"
   ]
  },
  {
   "cell_type": "code",
   "execution_count": 50,
   "metadata": {},
   "outputs": [
    {
     "data": {
      "image/png": "[encoded data removed]",
      "text/plain": [
       "<Figure size 432x288 with 1 Axes>"
      ]
     },
     "metadata": {
      "needs_background": "light"
     },
     "output_type": "display_data"
    },
    {
     "name": "stdout",
     "output_type": "stream",
     "text": [
      "1.0\n",
      "277.19999999999993\n",
      "320.0\n"
     ]
    }
   ],
   "source": [
    "t_lista = [0.0, 1.0, 2.0, 3.0,  4.0, 5.0, 6.0, 7.0, 8.0]\n",
    "v_lista = [0, 7.8, 15.8, 23.9, 32.2, 41.4, 52.2, 65.6, 76.6]\n",
    "\n",
    "import matplotlib.pyplot as kuvaaja\n",
    "\n",
    "kuvaaja.plot(t_lista, v_lista)\n",
    "kuvaaja.grid()\n",
    "kuvaaja.show()\n",
    "\n",
    "\n",
    "h = t_lista[1] - t_lista[0]\n",
    "print(h)\n",
    "\n",
    "\n",
    "summa = 0\n",
    "\n",
    "summa = summa + 0.5 * v_lista[0] + 0.5 * v_lista[len(v_lista) - 1]\n",
    "\n",
    "for i in range(1, len(v_lista) - 1):\n",
    "    summa = summa + v_lista[i]\n",
    "    \n",
    "pinta_ala = h * summa\n",
    "\n",
    "print(pinta_ala)\n",
    "\n",
    "print(8*80*0.5)"
   ]
  },
  {
   "cell_type": "markdown",
   "metadata": {},
   "source": [
    "<img src=arvuuttelu.jpg >\n",
    "Toteuta ohjelma, joka arvuuttelee käyttäjältä lukuja väliltä 0 - n ylläolevan algoritmin mukaisesti."
   ]
  },
  {
   "cell_type": "code",
   "execution_count": null,
   "metadata": {},
   "outputs": [],
   "source": []
  },
  {
   "cell_type": "markdown",
   "metadata": {},
   "source": [
    "<img src=keitto.jpg >"
   ]
  },
  {
   "cell_type": "code",
   "execution_count": null,
   "metadata": {},
   "outputs": [],
   "source": []
  },
  {
   "cell_type": "markdown",
   "metadata": {},
   "source": [
    "<img src=putoamiskiihtyvyys.jpg >"
   ]
  },
  {
   "cell_type": "code",
   "execution_count": null,
   "metadata": {},
   "outputs": [],
   "source": [
    "with open(\"putoamisliike.csv\") as f:\n",
    "    rivit = f.read().splitlines()"
   ]
  },
  {
   "cell_type": "markdown",
   "metadata": {},
   "source": [
    "<img src=rekursio.jpg >"
   ]
  },
  {
   "cell_type": "code",
   "execution_count": 51,
   "metadata": {},
   "outputs": [
    {
     "name": "stdout",
     "output_type": "stream",
     "text": [
      "-68891\n",
      "-50221175\n"
     ]
    }
   ],
   "source": [
    "def a(n):\n",
    "    if n == 1:\n",
    "        return -4\n",
    "    return 1 + 3 * a(n-1)\n",
    "    \n",
    "print(a(10))\n",
    "print(a(16))"
   ]
  },
  {
   "cell_type": "markdown",
   "metadata": {},
   "source": [
    "<img src=summa.jpg >"
   ]
  },
  {
   "cell_type": "code",
   "execution_count": 55,
   "metadata": {},
   "outputs": [
    {
     "name": "stdout",
     "output_type": "stream",
     "text": [
      "3 3 1\n",
      "9 12 2\n",
      "27 39 3\n",
      "81 120 4\n",
      "243 363 5\n",
      "729 1092 6\n",
      "2187 3279 7\n",
      "6561 9840 8\n",
      "19683 29523 9\n",
      "29523\n",
      "9\n"
     ]
    }
   ],
   "source": [
    "a = 3\n",
    "q = 3\n",
    "\n",
    "summa = 0\n",
    "määrä = 0\n",
    "while summa < 9999:\n",
    "    summa = summa + a\n",
    "    määrä = määrä + 1\n",
    "    print(a, summa, määrä)\n",
    "    a = a * q\n",
    "print(summa)\n",
    "print(määrä)"
   ]
  },
  {
   "cell_type": "markdown",
   "metadata": {},
   "source": [
    "<img src=vektorit.jpg >"
   ]
  },
  {
   "cell_type": "code",
   "execution_count": null,
   "metadata": {},
   "outputs": [],
   "source": []
  },
  {
   "cell_type": "markdown",
   "metadata": {},
   "source": [
    "Seuravassa kertaus_kysely sanakirjassa on oikein/väärin väitelauseita. Sanakirjan avaimia ovat väitelauseet, ja mahdollisia arvoja ovat True/False. Toteuta komentorivillä toimiva ohjelma, jonka suorituksella voidaan suorittaa läksynkuulustelu.\n",
    "\n",
    "Seuraava sanakirja kasitteet sisältää avaimina fysiikan käsitteiden määritelmiä, sanakirjan arvoja ovat suureiden nimet.\n",
    "\n",
    "Tee komentoriviltä toimiva ohjelma, jolla voi esittää käyttäjälle määritelmiä ja väitteitä, ja käyttäjä vastaa esittämällä suureen nimen tai kyllä/ei -vastauksen. Oikeasta vastauksesta käyttäjä saa aina yhden pisteen.\n",
    "\n",
    "Oikea vastaus 1p, väärä vastaus 0p.\n",
    "\n",
    "Lopussa ohjelma tulostaa käyttäjän pisteet, ja jonkun seuraavista kannustuslauseista 1-3 saavutettujen pisteiden mukaisesti: \n",
    "\n",
    "1: Aijai, meni huonosti, nyt on aika opiskella ja keskittyä asiaan enemmän.  \n",
    "\n",
    "2: Pystyt kyllä parempaan, kertaa vielä asiat. \n",
    "\n",
    "3: Hyvä, hallitset asiat hyvin.\n",
    "\n"
   ]
  },
  {
   "cell_type": "code",
   "execution_count": null,
   "metadata": {},
   "outputs": [
    {
     "name": "stdout",
     "output_type": "stream",
     "text": [
      "Totta vai tarua?\n",
      "Metallilangan resistanssi on suoraan verrannollinen langan pituuteen. \n"
     ]
    }
   ],
   "source": [
    "laksy_kysely = { \n",
    "  \"Metallilangan resistanssi on suoraan verrannollinen langan pituuteen. \" : True,\n",
    "  \"Kun paristoa kuormitetaan, sen napajännite on aina suurempi kuin lähdejännite.\" : False,\n",
    "  \"Metallilangan resistanssi  pienenee, kun lankaa ohennetaan.\": False,\n",
    "  \"Rinnankytkettyjen vastusten kokonaisresistanssi on kytkennän jokaisen vastuksen resistanssiin verrattuna pienempi.\" : True,\n",
    "  \"Laitteen kuluttama sähköteho on suoraan verrannollinen laitteen jännitehäviöön ja laitteen läpi kulkevaan sähkövirtaan\": True,\n",
    "  \"Paristo yhdistelmän sarjaankytkennässä paristoyhdystelmän jännite ei muutu.\" : False,\n",
    "  \"Kun paristo ikääntyy eli kuluu, sen sisäinen resistanssi kasvaa\": True,\n",
    "  \"Sähkölaitteessa muuntuneen energian suuruus lasketaan jakamalla laitteen kuluttama teho käyttöajalla\": False\n",
    " }\n",
    "\n",
    "\n",
    "kasitteet = {\n",
    "  \"Aineen ominaisresistanssi, joka kuvaa miten hyvin aine johtaa sähköä. yksikkönä ohmi*m\" : \"resistiivisyys\",\n",
    "  \"Suure kuvaa miten paljon kondensaattoriin mahtuu sähkövarausta. Yksikkö 1 Faradi.\" : \"kapasitanssi\",\n",
    "  \"Vastuksen ominaisuus, joka ilmaisee miten hyvin vastus estää virtailmiön syntyä\" : \"resistanssi\",\n",
    "  \"Pienin luonnossa vapaana esiintyvä sähkövaraus eli yhden elektronin sähkövaraus\": \"alkeisvaraus\",\n",
    "  \"Sähkölaitteen kuluttaman energian mittaamisessa käytettävä johdannaisyksikkö\": \"kilowattitunti\",\n",
    "  \"Sähkölaitteen toimintaa kuvaava suure, joka  lasketaan laitteen jännitehäviö (V) kertaa laitteen läpi menevä sähkövirta (A)\" : \"teho\"\n",
    "}\n",
    "\n",
    "pisteet = 0\n",
    "\n",
    "for kylläeikysymys in laksy_kysely:\n",
    "    print(\"Totta vai tarua?\")\n",
    "    print(kylläeikysymys)\n",
    "    vastaus = input(\"Vastaa kyllä tai ei: \")\n",
    "    print() # Tyhjä rivi, näyttää paremmalta\n",
    "    \n",
    "    if laksy_kysely[kylläeikysymys] == True:\n",
    "        oikea_vastaus = \"kyllä\"\n",
    "    else:\n",
    "        oikea_vastaus = \"ei\"\n",
    "        \n",
    "    if vastaus == oikea_vastaus:\n",
    "        print(\"Oikein!\")\n",
    "        pisteet = pisteet + 1\n",
    "    else:\n",
    "        print(\"Väärin\")\n",
    "\n",
    "    print() # Tyhjä rivi, näyttää paremmalta\n",
    "    \n",
    "print(\"Pisteet:\", pisteet, \"/\", len(laksy_kysely))\n",
    "\n",
    "for käsite in kasitteet:\n",
    "    print(\"Mikä käsite?\")\n",
    "    print(käsite)\n",
    "    vastaus = input(\"Käsite: \")\n",
    "    print()\n",
    "    \n",
    "    if kasitteet[käsite] == vastaus:\n",
    "        print(\"oikein!\")\n",
    "        pisteet = pisteet + 1\n",
    "    else:\n",
    "        print(\"väärin\")\n",
    "        print(\"oikea vastaus olisi ollut\", kasitteet[käsite])\n",
    "    print() # kiva tyhjä rivi    \n",
    "    \n",
    "kysymyksiä_yhteensä = len(laksy_kysely) + len(kasitteet)\n",
    "print(\"pisteet:\", pisteet, \"/\", kysymyksiä_yhteensä)\n",
    "\n",
    "if pisteet > 10: # maksimipisteet on 14\n",
    "    print(\"Hyvä, hallitset asiat hyvin\")\n",
    "elif pisteet > 5:\n",
    "    print(\"Pystyt kyllä parempaan, kertaa vielä asiat\")\n",
    "else:\n",
    "    print(\"Aijai, meni huonosti, nyt on aika opiskella ja keskittyä asiaan enemmän\")"
   ]
  }
 ],
 "metadata": {
  "kernelspec": {
   "display_name": "Python 3",
   "language": "python",
   "name": "python3"
  },
  "language_info": {
   "codemirror_mode": {
    "name": "ipython",
    "version": 3
   },
   "file_extension": ".py",
   "mimetype": "text/x-python",
   "name": "python",
   "nbconvert_exporter": "python",
   "pygments_lexer": "ipython3",
   "version": "3.7.3"
  }
 },
 "nbformat": 4,
 "nbformat_minor": 4
}

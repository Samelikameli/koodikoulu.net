{
 "cells": [
  {
   "cell_type": "markdown",
   "metadata": {},
   "source": [
    "# Todennäköisyyslaskenta ja simulointi"
   ]
  },
  {
   "cell_type": "markdown",
   "metadata": {},
   "source": [
    "Pythonissa voi luoda satunnaislukuja, esimerkiksi kokonaislukuja tietyltä väliltä tai desimaaliluvun väliltä 0 - 1. Kokonaisluvuilla voi simuloida esimerkiksi noppaa:"
   ]
  },
  {
   "cell_type": "code",
   "execution_count": 21,
   "metadata": {},
   "outputs": [
    {
     "name": "stdout",
     "output_type": "stream",
     "text": [
      "6\n"
     ]
    }
   ],
   "source": [
    "import random\n",
    "\n",
    "print(random.randint(1, 6))"
   ]
  },
  {
   "cell_type": "markdown",
   "metadata": {},
   "source": [
    "Jos simulaatiota toistetaan tarpeeksi monta kertaa, voidaan arvioida todennäköisyyksiä. Esimerkiksi jos tehtävä on selvittää, millä todennäköisyydellä nopasta tulee 1, voidaan ajaa seuraava koodi:"
   ]
  },
  {
   "cell_type": "code",
   "execution_count": 36,
   "metadata": {},
   "outputs": [
    {
     "name": "stdout",
     "output_type": "stream",
     "text": [
      "0.1667135\n",
      "0.16666666666666666\n"
     ]
    }
   ],
   "source": [
    "toistot = 10000000\n",
    "ykköset = 0\n",
    "for i in range(toistot):\n",
    "    noppa = random.randint(1, 6)\n",
    "    if noppa == 1:\n",
    "        ykköset = ykköset + 1\n",
    "print(ykköset/toistot)\n",
    "print(1/6)"
   ]
  },
  {
   "cell_type": "markdown",
   "metadata": {},
   "source": [
    "## Tehtäviä"
   ]
  },
  {
   "cell_type": "markdown",
   "metadata": {},
   "source": [
    "<img src=noppa1.jpg >"
   ]
  },
  {
   "cell_type": "code",
   "execution_count": 40,
   "metadata": {},
   "outputs": [
    {
     "name": "stdout",
     "output_type": "stream",
     "text": [
      "0.50177\n",
      "0.66955\n",
      "0.32999\n",
      "0.66315\n"
     ]
    }
   ],
   "source": [
    "toistot = 100000\n",
    "parillinen = 0\n",
    "for i in range(toistot):\n",
    "    noppa = random.randint(1, 6)\n",
    "    if noppa % 2 == 0:\n",
    "        parillinen = parillinen + 1\n",
    "print(parillinen/toistot)\n",
    "\n",
    "pariton_tai_6 = 0\n",
    "for i in range(toistot):\n",
    "    noppa = random.randint(1, 6)\n",
    "    if noppa % 2 == 1:\n",
    "        pariton_tai_6 = pariton_tai_6 + 1\n",
    "    elif noppa == 6:\n",
    "        pariton_tai_6 = pariton_tai_6 + 1\n",
    "        \n",
    "print(pariton_tai_6/toistot)\n",
    "\n",
    "\n",
    "korkeintaan_2 = 0\n",
    "for i in range(toistot):\n",
    "    noppa = random.randint(1, 6)\n",
    "    if noppa <= 2:\n",
    "        korkeintaan_2 = korkeintaan_2 + 1\n",
    "print(korkeintaan_2/toistot)\n",
    "\n",
    "vähintään_3 = 0\n",
    "for i in range(toistot):\n",
    "    noppa = random.randint(1, 6)\n",
    "    if noppa >= 3:\n",
    "        vähintään_3 = vähintään_3 + 1\n",
    "print(vähintään_3/toistot)"
   ]
  },
  {
   "cell_type": "markdown",
   "metadata": {},
   "source": [
    "<img src=noppa2.jpg >"
   ]
  },
  {
   "cell_type": "code",
   "execution_count": 43,
   "metadata": {},
   "outputs": [
    {
     "name": "stdout",
     "output_type": "stream",
     "text": [
      "0.16571\n",
      "0.74713\n",
      "0.75\n"
     ]
    }
   ],
   "source": [
    "toistot = 100000\n",
    "summa = 0\n",
    "for i in range(toistot):\n",
    "    noppa1 = random.randint(1, 6)\n",
    "    noppa2 = random.randint(1, 6)\n",
    "    if noppa1 == noppa2:\n",
    "        summa = summa + 1\n",
    "print(summa/toistot)\n",
    "\n",
    "\n",
    "summa = 0\n",
    "for i in range(toistot):\n",
    "    noppa1 = random.randint(1, 6)\n",
    "    noppa2 = random.randint(1, 6)\n",
    "    if noppa1 >= 4:\n",
    "        summa = summa + 1\n",
    "    elif noppa2 >= 4:\n",
    "        summa = summa + 1\n",
    "print(summa/toistot)\n",
    "print(27/36)"
   ]
  },
  {
   "cell_type": "markdown",
   "metadata": {},
   "source": [
    "<img src=noppa3.jpg >"
   ]
  },
  {
   "cell_type": "code",
   "execution_count": 50,
   "metadata": {},
   "outputs": [
    {
     "name": "stdout",
     "output_type": "stream",
     "text": [
      "0.11068\n",
      "0.1111111111111111\n"
     ]
    }
   ],
   "source": [
    "toistot = 100000\n",
    "summa = 0\n",
    "for i in range(toistot):\n",
    "    noppa1 = random.randint(1, 6)\n",
    "    noppa2 = random.randint(1, 6)\n",
    "    if noppa1 >= 5:\n",
    "        if noppa2 >= 5:\n",
    "            summa = summa + 1\n",
    "print(summa/toistot)\n",
    "\n",
    "\n",
    "toistot = 36\n",
    "summa = 0\n",
    "for noppa1 in range(1,7):\n",
    "    for noppa2 in range(1, 7):\n",
    "        if noppa1 >= 5:\n",
    "            if noppa2 >= 5:\n",
    "                summa = summa + 1\n",
    "print(summa/toistot)"
   ]
  },
  {
   "cell_type": "markdown",
   "metadata": {},
   "source": [
    "<img src=tutkimus.jpg >"
   ]
  },
  {
   "cell_type": "code",
   "execution_count": null,
   "metadata": {},
   "outputs": [],
   "source": []
  },
  {
   "cell_type": "markdown",
   "metadata": {},
   "source": [
    "<img src=binomi.jpg >"
   ]
  },
  {
   "cell_type": "code",
   "execution_count": null,
   "metadata": {},
   "outputs": [],
   "source": []
  },
  {
   "cell_type": "markdown",
   "metadata": {},
   "source": [
    "<img src=logaritmi.jpg >"
   ]
  },
  {
   "cell_type": "code",
   "execution_count": 49,
   "metadata": {},
   "outputs": [
    {
     "name": "stdout",
     "output_type": "stream",
     "text": [
      "1.784\n"
     ]
    }
   ],
   "source": [
    "import math\n",
    "\n",
    "toistot = 500\n",
    "\n",
    "summa  = 0\n",
    "\n",
    "for n in range(1, 501):\n",
    "    #n = random.randint(1, 500)\n",
    "    X = int(math.log10(n))\n",
    "    summa = summa + X\n",
    "\n",
    "print(summa/toistot)"
   ]
  },
  {
   "cell_type": "markdown",
   "metadata": {},
   "source": [
    "<img src=ruudukko.jpg >"
   ]
  },
  {
   "cell_type": "code",
   "execution_count": null,
   "metadata": {},
   "outputs": [],
   "source": []
  }
 ],
 "metadata": {
  "kernelspec": {
   "display_name": "Python 3",
   "language": "python",
   "name": "python3"
  },
  "language_info": {
   "codemirror_mode": {
    "name": "ipython",
    "version": 3
   },
   "file_extension": ".py",
   "mimetype": "text/x-python",
   "name": "python",
   "nbconvert_exporter": "python",
   "pygments_lexer": "ipython3",
   "version": "3.7.3"
  }
 },
 "nbformat": 4,
 "nbformat_minor": 4
}

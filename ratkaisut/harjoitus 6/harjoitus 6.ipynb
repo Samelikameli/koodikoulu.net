{
 "cells": [
  {
   "cell_type": "markdown",
   "metadata": {},
   "source": [
    "# Lisää funktioista ja kuvaajien piirto"
   ]
  },
  {
   "cell_type": "markdown",
   "metadata": {},
   "source": [
    "## Rekursio\n",
    "Rekursio tarkoittaa sitä, että funktio kutsuu itseään. Näin saadaan toistorakenne ilman silmukkaa.\n",
    "\n",
    "Yleinen rekursiolla määritelty lukujono on Fibonaccin lukujono. $F_1 = 1, F_2 = 1, F_n = F_{n-1} + F_{n-2}$\n",
    "\n",
    "Pythonissa tämän voi ohjelmoida rekursiivisesti:"
   ]
  },
  {
   "cell_type": "code",
   "execution_count": 8,
   "metadata": {},
   "outputs": [
    {
     "name": "stdout",
     "output_type": "stream",
     "text": [
      "funktiota kutsuttiin parametrilla 10\n",
      "funktiota kutsuttiin parametrilla 9\n",
      "funktiota kutsuttiin parametrilla 8\n",
      "funktiota kutsuttiin parametrilla 7\n",
      "funktiota kutsuttiin parametrilla 6\n",
      "funktiota kutsuttiin parametrilla 5\n",
      "funktiota kutsuttiin parametrilla 4\n",
      "funktiota kutsuttiin parametrilla 3\n",
      "funktiota kutsuttiin parametrilla 2\n",
      "funktiota kutsuttiin parametrilla 1\n",
      "funktiota kutsuttiin parametrilla 2\n",
      "funktiota kutsuttiin parametrilla 3\n",
      "funktiota kutsuttiin parametrilla 2\n",
      "funktiota kutsuttiin parametrilla 1\n",
      "funktiota kutsuttiin parametrilla 4\n",
      "funktiota kutsuttiin parametrilla 3\n",
      "funktiota kutsuttiin parametrilla 2\n",
      "funktiota kutsuttiin parametrilla 1\n",
      "funktiota kutsuttiin parametrilla 2\n",
      "funktiota kutsuttiin parametrilla 5\n",
      "funktiota kutsuttiin parametrilla 4\n",
      "funktiota kutsuttiin parametrilla 3\n",
      "funktiota kutsuttiin parametrilla 2\n",
      "funktiota kutsuttiin parametrilla 1\n",
      "funktiota kutsuttiin parametrilla 2\n",
      "funktiota kutsuttiin parametrilla 3\n",
      "funktiota kutsuttiin parametrilla 2\n",
      "funktiota kutsuttiin parametrilla 1\n",
      "funktiota kutsuttiin parametrilla 6\n",
      "funktiota kutsuttiin parametrilla 5\n",
      "funktiota kutsuttiin parametrilla 4\n",
      "funktiota kutsuttiin parametrilla 3\n",
      "funktiota kutsuttiin parametrilla 2\n",
      "funktiota kutsuttiin parametrilla 1\n",
      "funktiota kutsuttiin parametrilla 2\n",
      "funktiota kutsuttiin parametrilla 3\n",
      "funktiota kutsuttiin parametrilla 2\n",
      "funktiota kutsuttiin parametrilla 1\n",
      "funktiota kutsuttiin parametrilla 4\n",
      "funktiota kutsuttiin parametrilla 3\n",
      "funktiota kutsuttiin parametrilla 2\n",
      "funktiota kutsuttiin parametrilla 1\n",
      "funktiota kutsuttiin parametrilla 2\n",
      "funktiota kutsuttiin parametrilla 7\n",
      "funktiota kutsuttiin parametrilla 6\n",
      "funktiota kutsuttiin parametrilla 5\n",
      "funktiota kutsuttiin parametrilla 4\n",
      "funktiota kutsuttiin parametrilla 3\n",
      "funktiota kutsuttiin parametrilla 2\n",
      "funktiota kutsuttiin parametrilla 1\n",
      "funktiota kutsuttiin parametrilla 2\n",
      "funktiota kutsuttiin parametrilla 3\n",
      "funktiota kutsuttiin parametrilla 2\n",
      "funktiota kutsuttiin parametrilla 1\n",
      "funktiota kutsuttiin parametrilla 4\n",
      "funktiota kutsuttiin parametrilla 3\n",
      "funktiota kutsuttiin parametrilla 2\n",
      "funktiota kutsuttiin parametrilla 1\n",
      "funktiota kutsuttiin parametrilla 2\n",
      "funktiota kutsuttiin parametrilla 5\n",
      "funktiota kutsuttiin parametrilla 4\n",
      "funktiota kutsuttiin parametrilla 3\n",
      "funktiota kutsuttiin parametrilla 2\n",
      "funktiota kutsuttiin parametrilla 1\n",
      "funktiota kutsuttiin parametrilla 2\n",
      "funktiota kutsuttiin parametrilla 3\n",
      "funktiota kutsuttiin parametrilla 2\n",
      "funktiota kutsuttiin parametrilla 1\n",
      "funktiota kutsuttiin parametrilla 8\n",
      "funktiota kutsuttiin parametrilla 7\n",
      "funktiota kutsuttiin parametrilla 6\n",
      "funktiota kutsuttiin parametrilla 5\n",
      "funktiota kutsuttiin parametrilla 4\n",
      "funktiota kutsuttiin parametrilla 3\n",
      "funktiota kutsuttiin parametrilla 2\n",
      "funktiota kutsuttiin parametrilla 1\n",
      "funktiota kutsuttiin parametrilla 2\n",
      "funktiota kutsuttiin parametrilla 3\n",
      "funktiota kutsuttiin parametrilla 2\n",
      "funktiota kutsuttiin parametrilla 1\n",
      "funktiota kutsuttiin parametrilla 4\n",
      "funktiota kutsuttiin parametrilla 3\n",
      "funktiota kutsuttiin parametrilla 2\n",
      "funktiota kutsuttiin parametrilla 1\n",
      "funktiota kutsuttiin parametrilla 2\n",
      "funktiota kutsuttiin parametrilla 5\n",
      "funktiota kutsuttiin parametrilla 4\n",
      "funktiota kutsuttiin parametrilla 3\n",
      "funktiota kutsuttiin parametrilla 2\n",
      "funktiota kutsuttiin parametrilla 1\n",
      "funktiota kutsuttiin parametrilla 2\n",
      "funktiota kutsuttiin parametrilla 3\n",
      "funktiota kutsuttiin parametrilla 2\n",
      "funktiota kutsuttiin parametrilla 1\n",
      "funktiota kutsuttiin parametrilla 6\n",
      "funktiota kutsuttiin parametrilla 5\n",
      "funktiota kutsuttiin parametrilla 4\n",
      "funktiota kutsuttiin parametrilla 3\n",
      "funktiota kutsuttiin parametrilla 2\n",
      "funktiota kutsuttiin parametrilla 1\n",
      "funktiota kutsuttiin parametrilla 2\n",
      "funktiota kutsuttiin parametrilla 3\n",
      "funktiota kutsuttiin parametrilla 2\n",
      "funktiota kutsuttiin parametrilla 1\n",
      "funktiota kutsuttiin parametrilla 4\n",
      "funktiota kutsuttiin parametrilla 3\n",
      "funktiota kutsuttiin parametrilla 2\n",
      "funktiota kutsuttiin parametrilla 1\n",
      "funktiota kutsuttiin parametrilla 2\n"
     ]
    },
    {
     "data": {
      "text/plain": [
       "55"
      ]
     },
     "execution_count": 8,
     "metadata": {},
     "output_type": "execute_result"
    }
   ],
   "source": [
    "def fibonacci(n):\n",
    "    print(\"funktiota kutsuttiin parametrilla\", n)\n",
    "    if n == 1:\n",
    "        return 1\n",
    "    if n == 2:\n",
    "        return 1\n",
    "    return fibonacci(n - 1) + fibonacci(n - 2)\n",
    "\n",
    "fibonacci(10)"
   ]
  },
  {
   "cell_type": "markdown",
   "metadata": {},
   "source": [
    "## Kuvaajien piirto pythonissa\n",
    "\n",
    "Pythonissa määritellyistä funktioista voi piirtää kuvaajia matplotlib-kirjastolla:"
   ]
  },
  {
   "cell_type": "code",
   "execution_count": 44,
   "metadata": {},
   "outputs": [
    {
     "data": {
      "image/png": "[encoded data removed]",
      "text/plain": [
       "<Figure size 432x288 with 1 Axes>"
      ]
     },
     "metadata": {
      "needs_background": "light"
     },
     "output_type": "display_data"
    }
   ],
   "source": [
    "import matplotlib.pyplot as kuvaaja\n",
    "\n",
    "#kuvaaja = matplotlib.pyplot\n",
    "\n",
    "x_lista = []\n",
    "y_lista = []\n",
    "\n",
    "def f(x):\n",
    "    return x ** 2\n",
    "\n",
    "x = -3 # start\n",
    "while x <= 3: #end\n",
    "    x_lista.append(x)\n",
    "    y = f(x)\n",
    "    y_lista.append(y)\n",
    "    \n",
    "    x = x + 0.01\n",
    "    \n",
    "#matplotlib.pyplot.plot(x_lista, y_lista)\n",
    "#matplotlib.pyplot.grid()\n",
    "#matplotlib.pyplot.show()\n",
    "kuvaaja.plot(x_lista, y_lista)\n",
    "kuvaaja.xlabel(\"x\")\n",
    "kuvaaja.ylabel(\"y\")\n",
    "kuvaaja.grid()\n",
    "kuvaaja.show()"
   ]
  },
  {
   "cell_type": "markdown",
   "metadata": {},
   "source": [
    "## Tehtäviä"
   ]
  },
  {
   "cell_type": "markdown",
   "metadata": {},
   "source": [
    "Ohjelmoi kaksi funktiota, joista toinen laskee kertoman rekursiivisesti ja toinen silmukalla. Kertoma on määritelty $n! = n\\cdot(n-1)!$ tai $n! = 1 \\cdot 2\\cdot \\ldots \\cdot n$"
   ]
  },
  {
   "cell_type": "code",
   "execution_count": 38,
   "metadata": {},
   "outputs": [
    {
     "name": "stdout",
     "output_type": "stream",
     "text": [
      "funktiota kutsuttiin parametrillä 5\n",
      "funktiota kutsuttiin parametrillä 4\n",
      "funktiota kutsuttiin parametrillä 3\n",
      "funktiota kutsuttiin parametrillä 2\n",
      "funktiota kutsuttiin parametrillä 1\n",
      "120\n",
      "120\n"
     ]
    }
   ],
   "source": [
    "def kertoma_rekursiivinen(n):\n",
    "    print(\"funktiota kutsuttiin parametrillä\", n)\n",
    "    if n == 1:\n",
    "        return 1\n",
    "    return n * kertoma_rekursiivinen(n - 1)\n",
    "print(kertoma_rekursiivinen(5))\n",
    "\n",
    "\n",
    "# 5! = 1*2*3*4*5\n",
    "\n",
    "def kertoma_silmukka(n):\n",
    "    tulo = 1\n",
    "    for luku in range(1, n+1):\n",
    "        tulo = tulo * luku\n",
    "    return tulo\n",
    "print(kertoma_silmukka(5))"
   ]
  },
  {
   "cell_type": "markdown",
   "metadata": {},
   "source": [
    "<img src=\"images/sfunktio.jpg\" width=\"400\">"
   ]
  },
  {
   "cell_type": "code",
   "execution_count": 48,
   "metadata": {},
   "outputs": [
    {
     "data": {
      "image/png": "[encoded data removed]",
      "text/plain": [
       "<Figure size 432x288 with 1 Axes>"
      ]
     },
     "metadata": {
      "needs_background": "light"
     },
     "output_type": "display_data"
    }
   ],
   "source": [
    "import matplotlib.pyplot as kuvaaja\n",
    "\n",
    "x_lista = []\n",
    "y_lista = []\n",
    "\n",
    "def f(x):\n",
    "    return 2*x - 7\n",
    "\n",
    "x = 0 # start\n",
    "while x <= 5: #end\n",
    "    x_lista.append(x)\n",
    "    y = f(x)\n",
    "    y_lista.append(y)\n",
    "    \n",
    "    x = x + 0.1\n",
    "    \n",
    "\n",
    "kuvaaja.plot(x_lista, y_lista)\n",
    "kuvaaja.xlabel(\"x\")\n",
    "kuvaaja.ylabel(\"y\")\n",
    "kuvaaja.plot([3.5], [0], marker='o', markersize=5, color=\"red\")\n",
    "kuvaaja.grid()\n",
    "kuvaaja.show()"
   ]
  },
  {
   "cell_type": "code",
   "execution_count": 54,
   "metadata": {},
   "outputs": [
    {
     "name": "stdout",
     "output_type": "stream",
     "text": [
      "X:n arvolla 0 funktion arvo on -6\n",
      "X:n arvolla 1 funktion arvo on -4\n",
      "X:n arvolla 2 funktion arvo on -2\n",
      "X:n arvolla 3 funktion arvo on 0\n"
     ]
    },
    {
     "data": {
      "image/png": "[encoded data removed]",
      "text/plain": [
       "<Figure size 432x288 with 1 Axes>"
      ]
     },
     "metadata": {
      "needs_background": "light"
     },
     "output_type": "display_data"
    },
    {
     "name": "stdout",
     "output_type": "stream",
     "text": [
      "piste on kuvaajalla\n"
     ]
    }
   ],
   "source": [
    "import matplotlib.pyplot as kuvaaja\n",
    "\n",
    "x_lista = []\n",
    "y_lista = []\n",
    "\n",
    "def f(x):\n",
    "    return 2*x - 6\n",
    "\n",
    "x = 0 # start\n",
    "while x <= 5: #end\n",
    "    x_lista.append(x)\n",
    "    y = f(x)\n",
    "    y_lista.append(y)\n",
    "    \n",
    "    x = x + 0.1\n",
    "\n",
    "print(\"X:n arvolla 0 funktion arvo on\", f(0))\n",
    "print(\"X:n arvolla 1 funktion arvo on\", f(1))\n",
    "print(\"X:n arvolla 2 funktion arvo on\", f(2))\n",
    "print(\"X:n arvolla 3 funktion arvo on\", f(3))\n",
    "\n",
    "\n",
    "kuvaaja.plot(x_lista, y_lista)\n",
    "kuvaaja.xlabel(\"x\")\n",
    "kuvaaja.ylabel(\"y\")\n",
    "kuvaaja.plot([4], [2], marker='o', markersize=5, color=\"red\")\n",
    "kuvaaja.plot([5], [3], marker='o', markersize=5, color=\"red\")\n",
    "\n",
    "kuvaaja.grid()\n",
    "kuvaaja.show()\n",
    "\n",
    "if f(4) == 2:\n",
    "    print(\"piste on kuvaajalla\")\n",
    "else:\n",
    "    print(\"ei oo kuvaajalla\")"
   ]
  },
  {
   "cell_type": "markdown",
   "metadata": {},
   "source": [
    "<img src=\"images/sfunktio2.jpg\" width=\"400\">"
   ]
  },
  {
   "cell_type": "code",
   "execution_count": null,
   "metadata": {},
   "outputs": [],
   "source": []
  },
  {
   "cell_type": "markdown",
   "metadata": {},
   "source": [
    "<img src=\"images/sähkö.jpg\" width=\"400\">"
   ]
  },
  {
   "cell_type": "code",
   "execution_count": 64,
   "metadata": {},
   "outputs": [
    {
     "data": {
      "image/png": "[encoded data removed]",
      "text/plain": [
       "<Figure size 432x288 with 1 Axes>"
      ]
     },
     "metadata": {
      "needs_background": "light"
     },
     "output_type": "display_data"
    },
    {
     "name": "stdout",
     "output_type": "stream",
     "text": [
      "sähkönkulutus on 1970 21583.0\n",
      "sähkönkulutus on 2000 79885.0\n"
     ]
    }
   ],
   "source": [
    "import matplotlib.pyplot as kuvaaja\n",
    "\n",
    "x_lista = []\n",
    "y_lista = []\n",
    "\n",
    "def f(x):\n",
    "    return -1.3 * x**3 + 58.8 * x**2 + 1349.4 * x + 21583\n",
    "\n",
    "x = 0 # start\n",
    "while x <= 44: #end\n",
    "    x_lista.append(x)\n",
    "    y = f(x)\n",
    "    y_lista.append(y)\n",
    "    \n",
    "    x = x + 0.1\n",
    "\n",
    "\n",
    "kuvaaja.plot(x_lista, y_lista)\n",
    "kuvaaja.xlabel(\"Aika, vuosi 1970=0\")\n",
    "kuvaaja.ylabel(\"Sähkönkulutus (GWh)\")\n",
    "kuvaaja.plot([0], [f(0)], marker='o', markersize=5, color=\"red\")\n",
    "kuvaaja.plot([30], [f(30)], marker='o', markersize=5, color=\"red\")\n",
    "\n",
    "kuvaaja.grid()\n",
    "kuvaaja.show()\n",
    "\n",
    "print(\"sähkönkulutus on 1970\", f(0))\n",
    "print(\"sähkönkulutus on 2000\",f(30))"
   ]
  },
  {
   "cell_type": "markdown",
   "metadata": {},
   "source": [
    "<img src=\"images/pesäpallo.jpg\" width=\"400\">"
   ]
  },
  {
   "cell_type": "code",
   "execution_count": 77,
   "metadata": {},
   "outputs": [
    {
     "name": "stdout",
     "output_type": "stream",
     "text": [
      "pallo osuu maahan kun t= 3.1199999999999775\n"
     ]
    },
    {
     "data": {
      "image/png": "[encoded data removed]",
      "text/plain": [
       "<Figure size 432x288 with 1 Axes>"
      ]
     },
     "metadata": {
      "needs_background": "light"
     },
     "output_type": "display_data"
    },
    {
     "name": "stdout",
     "output_type": "stream",
     "text": [
      "h on hetkellä 0 1.7\n",
      "h on hetkellä 2 11.499999999999996\n",
      "d on hetkellä 0 0.0\n",
      "d on hetkellä 1 31.5\n",
      "d on hetkellä 2 63.0\n"
     ]
    }
   ],
   "source": [
    "import matplotlib.pyplot as kuvaaja\n",
    "\n",
    "x_lista = []\n",
    "y_lista = []\n",
    "\n",
    "def h(t):\n",
    "    return 1.7 + 14.7 *t - 4.9 * t**2\n",
    "def d(t):\n",
    "    return 31.5*t\n",
    "\n",
    "t = 0 # start\n",
    "while h(t) >= 0: #end\n",
    "    x_lista.append(d(t))\n",
    "    y_lista.append(h(t))\n",
    "    \n",
    "    t = t + 0.01\n",
    "print(\"pallo osuu maahan kun t=\",t)\n",
    "\n",
    "kuvaaja.plot(x_lista, y_lista)\n",
    "kuvaaja.xlabel(\"Pituus (m)\")\n",
    "kuvaaja.ylabel(\"Korkeus (m)\")\n",
    "#kuvaaja.plot([0], [f(0)], marker='o', markersize=5, color=\"red\")\n",
    "#kuvaaja.plot([30], [f(30)], marker='o', markersize=5, color=\"red\")\n",
    "\n",
    "kuvaaja.grid()\n",
    "kuvaaja.show()\n",
    "\n",
    "print(\"h on hetkellä 0\", h(0))\n",
    "print(\"h on hetkellä 2\", h(2))\n",
    "print(\"d on hetkellä 0\", d(0))\n",
    "print(\"d on hetkellä 1\", d(1))\n",
    "print(\"d on hetkellä 2\", d(2))\n"
   ]
  },
  {
   "cell_type": "markdown",
   "metadata": {},
   "source": [
    "<img src=\"images/aitaus.jpg\" width=\"400\">"
   ]
  },
  {
   "cell_type": "code",
   "execution_count": null,
   "metadata": {},
   "outputs": [],
   "source": []
  }
 ],
 "metadata": {
  "kernelspec": {
   "display_name": "Python 3",
   "language": "python",
   "name": "python3"
  },
  "language_info": {
   "codemirror_mode": {
    "name": "ipython",
    "version": 3
   },
   "file_extension": ".py",
   "mimetype": "text/x-python",
   "name": "python",
   "nbconvert_exporter": "python",
   "pygments_lexer": "ipython3",
   "version": "3.7.3"
  }
 },
 "nbformat": 4,
 "nbformat_minor": 4
}

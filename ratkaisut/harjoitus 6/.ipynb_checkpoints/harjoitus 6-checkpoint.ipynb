{
 "cells": [
  {
   "cell_type": "markdown",
   "metadata": {},
   "source": [
    "# Lisää funktioista ja kuvaajien piirto"
   ]
  },
  {
   "cell_type": "markdown",
   "metadata": {},
   "source": [
    "## Rekursio\n",
    "Rekursio tarkoittaa sitä, että funktio kutsuu itseään. Näin saadaan toistorakenne ilman silmukkaa.\n",
    "\n",
    "Yleinen rekursiolla määritelty lukujono on Fibonaccin lukujono. $F_1 = 1, F_2 = 1, F_n = F_{n-1} + F_{n-2}$\n",
    "\n",
    "Pythonissa tämän voi ohjelmoida rekursiivisesti:"
   ]
  },
  {
   "cell_type": "code",
   "execution_count": 4,
   "metadata": {},
   "outputs": [
    {
     "data": {
      "text/plain": [
       "55"
      ]
     },
     "execution_count": 4,
     "metadata": {},
     "output_type": "execute_result"
    }
   ],
   "source": [
    "def fibonacci(n):\n",
    "    if n == 1:\n",
    "        return 1\n",
    "    if n == 2:\n",
    "        return 1\n",
    "    return fibonacci(n - 1) + fibonacci(n - 2)\n",
    "\n",
    "fibonacci(10)"
   ]
  },
  {
   "cell_type": "markdown",
   "metadata": {},
   "source": [
    "## Kuvaajien piirto pythonissa\n",
    "\n",
    "Pythonissa määritellyistä funktioista voi piirtää kuvaajia matplotlib-kirjastolla:"
   ]
  },
  {
   "cell_type": "code",
   "execution_count": null,
   "metadata": {},
   "outputs": [],
   "source": [
    "import matplotlib\n",
    "\n",
    "x_lista = []\n",
    "y_lista = []\n",
    "\n",
    "def f(x):\n",
    "    return x ** 2\n",
    "\n",
    "x = -3 # start\n",
    "while x <= 3: #end\n",
    "    x_lista.append(x)\n",
    "    y = f(x)\n",
    "    y_lista.append(y)\n",
    "    \n",
    "    x = x + 0.01\n",
    "matplotlib.pyplot.plot(x_lista, y_lista)\n",
    "matplotlib.pyplot.grid()\n",
    "matplotlib.pyplot.show()"
   ]
  },
  {
   "cell_type": "markdown",
   "metadata": {},
   "source": [
    "## Tehtäviä"
   ]
  },
  {
   "cell_type": "markdown",
   "metadata": {},
   "source": [
    "Ohjelmoi kaksi funktiota, joista toinen laskee kertoman rekursiivisesti ja toinen silmukalla. Kertoma on määritelty $n! = n\\cdot(n-1)!$ tai $n! = 1 \\cdot 2\\cdot \\ldots \\cdot n$"
   ]
  },
  {
   "cell_type": "code",
   "execution_count": null,
   "metadata": {},
   "outputs": [],
   "source": []
  },
  {
   "cell_type": "markdown",
   "metadata": {},
   "source": [
    "<img src=\"images/sfunktio.jpg\" width=\"400\">"
   ]
  },
  {
   "cell_type": "code",
   "execution_count": null,
   "metadata": {},
   "outputs": [],
   "source": []
  },
  {
   "cell_type": "markdown",
   "metadata": {},
   "source": [
    "<img src=\"images/sfunktio2.jpg\" width=\"400\">"
   ]
  },
  {
   "cell_type": "code",
   "execution_count": null,
   "metadata": {},
   "outputs": [],
   "source": []
  },
  {
   "cell_type": "markdown",
   "metadata": {},
   "source": [
    "<img src=\"images/sähkö.jpg\" width=\"400\">"
   ]
  },
  {
   "cell_type": "code",
   "execution_count": null,
   "metadata": {},
   "outputs": [],
   "source": []
  },
  {
   "cell_type": "markdown",
   "metadata": {},
   "source": [
    "<img src=\"images/pesäpallo.jpg\" width=\"400\">"
   ]
  },
  {
   "cell_type": "code",
   "execution_count": null,
   "metadata": {},
   "outputs": [],
   "source": []
  },
  {
   "cell_type": "markdown",
   "metadata": {},
   "source": [
    "<img src=\"images/aitaus.jpg\" width=\"400\">"
   ]
  },
  {
   "cell_type": "code",
   "execution_count": null,
   "metadata": {},
   "outputs": [],
   "source": []
  }
 ],
 "metadata": {
  "kernelspec": {
   "display_name": "Python 3",
   "language": "python",
   "name": "python3"
  },
  "language_info": {
   "codemirror_mode": {
    "name": "ipython",
    "version": 3
   },
   "file_extension": ".py",
   "mimetype": "text/x-python",
   "name": "python",
   "nbconvert_exporter": "python",
   "pygments_lexer": "ipython3",
   "version": "3.7.3"
  }
 },
 "nbformat": 4,
 "nbformat_minor": 4
}

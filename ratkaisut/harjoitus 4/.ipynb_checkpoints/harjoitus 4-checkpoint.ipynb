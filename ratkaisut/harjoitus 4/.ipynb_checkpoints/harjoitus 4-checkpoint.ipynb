{
 "cells": [
  {
   "cell_type": "markdown",
   "metadata": {},
   "source": [
    "# Sanakirjat\n",
    "Sanakirjat ovat listan kaltaisia rakenteita, joissa yhteen muuttujaan voi tallentaa enemmän tietoa.\n",
    "Erona on se, että sanakirjassa tieto ei ole järjestyksessä, vaan jokaiselle arvolle on oma avain."
   ]
  },
  {
   "cell_type": "code",
   "execution_count": 1,
   "metadata": {},
   "outputs": [],
   "source": [
    "sanakirja = {}"
   ]
  },
  {
   "cell_type": "markdown",
   "metadata": {},
   "source": [
    "Sanakirjaan lisätään arvoja []-merkinnällä:"
   ]
  },
  {
   "cell_type": "code",
   "execution_count": 2,
   "metadata": {},
   "outputs": [],
   "source": [
    "sanakirja[\"a\"] = 10"
   ]
  },
  {
   "cell_type": "markdown",
   "metadata": {},
   "source": [
    "Hakasulkujen sisällä on avain (\"a\") ja arvo on yhtäsuuruusmerkin oikealla puolella (10). Avain voi olla mitä tahansa tyyppiä, mutta harvoin käytetään mitään muita kuin kokonaislukuja tai merkkijonoja."
   ]
  },
  {
   "cell_type": "markdown",
   "metadata": {},
   "source": [
    "Sanakirjasta voidaan hakea arvoja myös []-merkinnällä:"
   ]
  },
  {
   "cell_type": "code",
   "execution_count": 3,
   "metadata": {},
   "outputs": [
    {
     "name": "stdout",
     "output_type": "stream",
     "text": [
      "10\n"
     ]
    }
   ],
   "source": [
    "print(sanakirja[\"a\"])"
   ]
  },
  {
   "cell_type": "markdown",
   "metadata": {},
   "source": [
    "## Tehtäviä"
   ]
  },
  {
   "cell_type": "markdown",
   "metadata": {},
   "source": [
    "Tee sanakirja, jossa avain on luku ja arvo luvun neliö. Toteuta sanakirja luvuille 1 - 100:"
   ]
  },
  {
   "cell_type": "code",
   "execution_count": 12,
   "metadata": {},
   "outputs": [
    {
     "name": "stdout",
     "output_type": "stream",
     "text": [
      "{1: 1, 2: 4, 3: 9, 4: 16, 5: 25, 6: 36, 7: 49, 8: 64, 9: 81, 10: 100, 11: 121, 12: 144, 13: 169, 14: 196, 15: 225, 16: 256, 17: 289, 18: 324, 19: 361, 20: 400, 21: 441, 22: 484, 23: 529, 24: 576, 25: 625, 26: 676, 27: 729, 28: 784, 29: 841, 30: 900, 31: 961, 32: 1024, 33: 1089, 34: 1156, 35: 1225, 36: 1296, 37: 1369, 38: 1444, 39: 1521, 40: 1600, 41: 1681, 42: 1764, 43: 1849, 44: 1936, 45: 2025, 46: 2116, 47: 2209, 48: 2304, 49: 2401, 50: 2500, 51: 2601, 52: 2704, 53: 2809, 54: 2916, 55: 3025, 56: 3136, 57: 3249, 58: 3364, 59: 3481, 60: 3600, 61: 3721, 62: 3844, 63: 3969, 64: 4096, 65: 4225, 66: 4356, 67: 4489, 68: 4624, 69: 4761, 70: 4900, 71: 5041, 72: 5184, 73: 5329, 74: 5476, 75: 5625, 76: 5776, 77: 5929, 78: 6084, 79: 6241, 80: 6400, 81: 6561, 82: 6724, 83: 6889, 84: 7056, 85: 7225, 86: 7396, 87: 7569, 88: 7744, 89: 7921, 90: 8100, 91: 8281, 92: 8464, 93: 8649, 94: 8836, 95: 9025, 96: 9216, 97: 9409, 98: 9604, 99: 9801, 100: 10000}\n",
      "Luvun 1 neliö on 1\n",
      "Luvun 2 neliö on 4\n",
      "Luvun 3 neliö on 9\n",
      "Luvun 4 neliö on 16\n",
      "Luvun 5 neliö on 25\n",
      "Luvun 6 neliö on 36\n",
      "Luvun 7 neliö on 49\n",
      "Luvun 8 neliö on 64\n",
      "Luvun 9 neliö on 81\n",
      "Luvun 10 neliö on 100\n",
      "Luvun 11 neliö on 121\n",
      "Luvun 12 neliö on 144\n",
      "Luvun 13 neliö on 169\n",
      "Luvun 14 neliö on 196\n",
      "Luvun 15 neliö on 225\n",
      "Luvun 16 neliö on 256\n",
      "Luvun 17 neliö on 289\n",
      "Luvun 18 neliö on 324\n",
      "Luvun 19 neliö on 361\n",
      "Luvun 20 neliö on 400\n",
      "Luvun 21 neliö on 441\n",
      "Luvun 22 neliö on 484\n",
      "Luvun 23 neliö on 529\n",
      "Luvun 24 neliö on 576\n",
      "Luvun 25 neliö on 625\n",
      "Luvun 26 neliö on 676\n",
      "Luvun 27 neliö on 729\n",
      "Luvun 28 neliö on 784\n",
      "Luvun 29 neliö on 841\n",
      "Luvun 30 neliö on 900\n",
      "Luvun 31 neliö on 961\n",
      "Luvun 32 neliö on 1024\n",
      "Luvun 33 neliö on 1089\n",
      "Luvun 34 neliö on 1156\n",
      "Luvun 35 neliö on 1225\n",
      "Luvun 36 neliö on 1296\n",
      "Luvun 37 neliö on 1369\n",
      "Luvun 38 neliö on 1444\n",
      "Luvun 39 neliö on 1521\n",
      "Luvun 40 neliö on 1600\n",
      "Luvun 41 neliö on 1681\n",
      "Luvun 42 neliö on 1764\n",
      "Luvun 43 neliö on 1849\n",
      "Luvun 44 neliö on 1936\n",
      "Luvun 45 neliö on 2025\n",
      "Luvun 46 neliö on 2116\n",
      "Luvun 47 neliö on 2209\n",
      "Luvun 48 neliö on 2304\n",
      "Luvun 49 neliö on 2401\n",
      "Luvun 50 neliö on 2500\n",
      "Luvun 51 neliö on 2601\n",
      "Luvun 52 neliö on 2704\n",
      "Luvun 53 neliö on 2809\n",
      "Luvun 54 neliö on 2916\n",
      "Luvun 55 neliö on 3025\n",
      "Luvun 56 neliö on 3136\n",
      "Luvun 57 neliö on 3249\n",
      "Luvun 58 neliö on 3364\n",
      "Luvun 59 neliö on 3481\n",
      "Luvun 60 neliö on 3600\n",
      "Luvun 61 neliö on 3721\n",
      "Luvun 62 neliö on 3844\n",
      "Luvun 63 neliö on 3969\n",
      "Luvun 64 neliö on 4096\n",
      "Luvun 65 neliö on 4225\n",
      "Luvun 66 neliö on 4356\n",
      "Luvun 67 neliö on 4489\n",
      "Luvun 68 neliö on 4624\n",
      "Luvun 69 neliö on 4761\n",
      "Luvun 70 neliö on 4900\n",
      "Luvun 71 neliö on 5041\n",
      "Luvun 72 neliö on 5184\n",
      "Luvun 73 neliö on 5329\n",
      "Luvun 74 neliö on 5476\n",
      "Luvun 75 neliö on 5625\n",
      "Luvun 76 neliö on 5776\n",
      "Luvun 77 neliö on 5929\n",
      "Luvun 78 neliö on 6084\n",
      "Luvun 79 neliö on 6241\n",
      "Luvun 80 neliö on 6400\n",
      "Luvun 81 neliö on 6561\n",
      "Luvun 82 neliö on 6724\n",
      "Luvun 83 neliö on 6889\n",
      "Luvun 84 neliö on 7056\n",
      "Luvun 85 neliö on 7225\n",
      "Luvun 86 neliö on 7396\n",
      "Luvun 87 neliö on 7569\n",
      "Luvun 88 neliö on 7744\n",
      "Luvun 89 neliö on 7921\n",
      "Luvun 90 neliö on 8100\n",
      "Luvun 91 neliö on 8281\n",
      "Luvun 92 neliö on 8464\n",
      "Luvun 93 neliö on 8649\n",
      "Luvun 94 neliö on 8836\n",
      "Luvun 95 neliö on 9025\n",
      "Luvun 96 neliö on 9216\n",
      "Luvun 97 neliö on 9409\n",
      "Luvun 98 neliö on 9604\n",
      "Luvun 99 neliö on 9801\n",
      "Luvun 100 neliö on 10000\n"
     ]
    }
   ],
   "source": [
    "sanakirja = {}\n",
    "\n",
    "for luku in range(1, 101):\n",
    "    sanakirja[luku] = luku ** 2\n",
    "print(sanakirja)\n",
    "\n",
    "for avain in sanakirja:\n",
    "    print(\"Luvun\", avain, \"neliö on\", sanakirja[avain])"
   ]
  },
  {
   "cell_type": "markdown",
   "metadata": {},
   "source": [
    "Laske kirjainten yleisyys annetussa tekstissä:"
   ]
  },
  {
   "cell_type": "code",
   "execution_count": 19,
   "metadata": {},
   "outputs": [
    {
     "name": "stdout",
     "output_type": "stream",
     "text": [
      "lorem ipsum dolor sit amet consectetur adipiscing elit sed do eiusmod tempor incididunt ut labore et dolore magna aliqua ut enim ad minim veniam quis nostrud exercitation ullamco laboris nisi ut aliquip ex ea commodo consequat duis aute irure dolor in reprehenderit in voluptate velit esse cillum dolore eu fugiat nulla pariatur excepteur sint occaecat cupidatat non proident sunt in culpa qui officia deserunt mollit anim id est laborum\n",
      "{'q': 5, 'w': 0, 'e': 38, 'r': 22, 't': 32, 'y': 0, 'u': 29, 'i': 42, 'o': 29, 'p': 11, 'a': 29, 's': 18, 'd': 19, 'f': 3, 'g': 3, 'h': 1, 'j': 0, 'k': 0, 'l': 22, 'z': 0, 'x': 3, 'c': 16, 'v': 3, 'b': 3, 'n': 24, 'm': 17}\n",
      "Kirjaimia q on 5\n",
      "Kirjaimia w on 0\n",
      "Kirjaimia e on 38\n",
      "Kirjaimia r on 22\n",
      "Kirjaimia t on 32\n",
      "Kirjaimia y on 0\n",
      "Kirjaimia u on 29\n",
      "Kirjaimia i on 42\n",
      "Kirjaimia o on 29\n",
      "Kirjaimia p on 11\n",
      "Kirjaimia a on 29\n",
      "Kirjaimia s on 18\n",
      "Kirjaimia d on 19\n",
      "Kirjaimia f on 3\n",
      "Kirjaimia g on 3\n",
      "Kirjaimia h on 1\n",
      "Kirjaimia j on 0\n",
      "Kirjaimia k on 0\n",
      "Kirjaimia l on 22\n",
      "Kirjaimia z on 0\n",
      "Kirjaimia x on 3\n",
      "Kirjaimia c on 16\n",
      "Kirjaimia v on 3\n",
      "Kirjaimia b on 3\n",
      "Kirjaimia n on 24\n",
      "Kirjaimia m on 17\n"
     ]
    }
   ],
   "source": [
    "teksti = \"lorem ipsum dolor sit amet consectetur adipiscing elit sed do eiusmod tempor incididunt ut labore et dolore magna aliqua Ut enim ad minim veniam quis nostrud exercitation ullamco laboris nisi ut aliquip ex ea commodo consequat Duis aute irure dolor in reprehenderit in voluptate velit esse cillum dolore eu fugiat nulla pariatur Excepteur sint occaecat cupidatat non proident sunt in culpa qui officia deserunt mollit anim id est laborum\".lower()\n",
    "print(teksti)\n",
    "\n",
    "sanakirja = {}\n",
    "\n",
    "for merkki in \"qwertyuiopasdfghjklzxcvbnm\":\n",
    "    sanakirja[merkki] = 0\n",
    "\n",
    "\n",
    "for merkki in teksti:\n",
    "    if merkki != \" \":\n",
    "        sanakirja[merkki] = sanakirja[merkki] + 1\n",
    "print(sanakirja)\n",
    "for avain in sanakirja:\n",
    "    print(\"Kirjaimia\", avain, \"on\", sanakirja[avain])"
   ]
  },
  {
   "cell_type": "markdown",
   "metadata": {},
   "source": [
    "Abihuppareista äänestettiin lukiossa, ja saatiin seuraavat tulokset:\n",
    "\n",
    "| Ehdotus    | Äänet |\n",
    "|------------|-------|\n",
    "| Buranabi   | 97    |\n",
    "| Abimeister | 44    |\n",
    "| Abinat     | 36    |\n",
    "| Teletabit  | 67    |\n",
    "| Abidas     | 35    |\n",
    "| Absolut abi| 28    |\n",
    "\n",
    "Esitä tulokset sekä listana että sanakirjana ja vastaa kummallakin tavalla kysymyksiin:\n",
    "1. Mikä ehdotuksista voitti?\n",
    "2. Tulosta ehdotukset järjestyksessä\n",
    "3. Tulosta ehdotukset ja niiden prosenttiosuus äänestyksessä"
   ]
  },
  {
   "cell_type": "code",
   "execution_count": 29,
   "metadata": {},
   "outputs": [
    {
     "name": "stdout",
     "output_type": "stream",
     "text": [
      "eniten ääniä sai buranabi äänimäärällä 97\n",
      "paras oli buranabi äänimäärällä 97\n",
      "absolut abi\n",
      "abidas\n",
      "abinat\n",
      "abimeister\n",
      "teletabit\n",
      "buranabi\n"
     ]
    }
   ],
   "source": [
    "ehdotukset = [\"buranabi\", \"abimeister\", \"abinat\", \"teletabit\", \"abidas\", \"absolut abi\"]\n",
    "äänet = [97, 44, 36, 67, 35, 28]\n",
    "\n",
    "sanakirja = {\"buranabi\": 97, \"abimeister\": 44, \"abinat\": 36, \"teletabit\": 67, \"abidas\": 35, \"absolut abi\": 28}\n",
    "\n",
    "suurin = äänet[0]\n",
    "kohta = 0\n",
    "for i in range(len(äänet)):\n",
    "    if äänet[i] > suurin:\n",
    "        suurin = äänet[i]\n",
    "        kohta = i\n",
    "print(\"eniten ääniä sai\", ehdotukset[kohta], \"äänimäärällä\", suurin)\n",
    "\n",
    "suurin = 0\n",
    "\n",
    "ehdotus = \"\"\n",
    "\n",
    "for avain in sanakirja:\n",
    "    if sanakirja[avain] > suurin:\n",
    "        suurin = sanakirja[avain]\n",
    "        ehdotus = avain\n",
    "print(\"paras oli\", ehdotus, \"äänimäärällä\", suurin)\n",
    "\n",
    "\n",
    "sanakirja_järjestetty = sorted(sanakirja, key=sanakirja.get)\n",
    "\n",
    "for i in range(len(sanakirja_järjestetty)):\n",
    "    print(sanakirja_järjestetty[i])"
   ]
  },
  {
   "cell_type": "code",
   "execution_count": null,
   "metadata": {},
   "outputs": [],
   "source": []
  },
  {
   "cell_type": "markdown",
   "metadata": {},
   "source": [
    "Seuravassa kertaus_kysely sanakirjassa on oikein/väärin väitelauseita. Sanakirjan avaimia ovat väitelauseet, ja mahdollisia arvoja ovat True/False. Toteuta komentorivillä toimiva ohjelma, jonka suorituksella voidaan suorittaa läksynkuulustelu.\n",
    "\n",
    "Oikea vastaus 1p, väärä vastaus 0p.\n",
    "\n",
    "Lopussa ohjelma tulostaa käyttäjän pisteet, ja jonkun seuraavista kannustuslauseista 1-3 saavutettujen pisteiden mukaisesti: \n",
    "\n",
    "1: Aijai, meni huonosti, nyt on aika opiskella ja keskittyä asiaan enemmän.  \n",
    "\n",
    "2: Pystyt kyllä parempaan, kertaa vielä asiat. \n",
    "\n",
    "3: Hyvä, hallitset asiat hyvin."
   ]
  },
  {
   "cell_type": "code",
   "execution_count": null,
   "metadata": {},
   "outputs": [],
   "source": [
    "laksy_kysely = { \n",
    "  \"Metallilangan resistanssi on suoraan verrannollinen langan pituuteen. \" : True,\n",
    "  \"Kun paristoa kuormitetaan, sen napajännite on aina suurempi kuin lähdejännite.\" : False,\n",
    "  \"Metallilangan resistanssi  pienenee, kun lankaa ohennetaan.\": False,\n",
    "  \"Rinnankytkettyjen vastusten kokonaisresistanssi on kytkennän jokaisen vastuksen resistanssiin verrattuna pienempi.\" : True,\n",
    "  \"Laitteen kuluttama sähköteho on suoraan verrannollinen laitteen jännitehäviöön ja laitteen läpi kulkevaan sähkövirtaan\": True,\n",
    "  \"Paristo yhdistelmän sarjaankytkennässä paristoyhdystelmän jännite ei muutu.\" : False,\n",
    "  \"Kun paristo ikääntyy eli kuluu, sen sisäinen resistanssi kasvaa\": True,\n",
    "  \"Sähkölaitteessa muuntuneen energian suuruus lasketaan jakamalla laitteen kuluttama teho käyttöajalla\": False\n",
    " }"
   ]
  },
  {
   "cell_type": "markdown",
   "metadata": {},
   "source": [
    "Seuraava sanakirja kasitteet sisältää avaimina fysiikan käsitteiden määritelmiä, sanakirjan arvoja ovat suureiden nimet.\n",
    "\n",
    "Tee komentoriviltä toimiva ohjelma, jolla voi esittää käyttäjälle määritelmiä, ja käyttäjä vastaa esittämällä suureen nimen. Oikeasta vastauksesta käyttäjä saa aina yhden pisteen."
   ]
  },
  {
   "cell_type": "code",
   "execution_count": null,
   "metadata": {},
   "outputs": [],
   "source": [
    "kasitteet = {\n",
    "  \"Aineen ominaisresistanssi, joka kuvaa miten hyvin aine johtaa sähköä. yksikkönä ohmi*m\" : \"resistiivisyys\",\n",
    "  \"Suure kuvaa miten paljon kondensaattoriin mahtuu sähkövarausta. Yksikkö 1 Faradi.\" : \"kapasitanssi\",\n",
    "  \"Vastuksen ominaisuus, joka ilmaisee miten hyvin vastus estää virtailmiön syntyä\" : \"resistanssi\",\n",
    "  \"Pienin luonnossa vapaana esiintyvä sähkövaraus eli yhden elektronin sähkövaraus\": \"alkeisvaraus\",\n",
    "  \"Sähkölaitteen kuluttaman energian mittaamisessa käytettävä johdannaisyksikkö\": \"kilowattitunti\",\n",
    "  \"Sähkölaitteen toimintaa kuvaava suure, joka  lasketaan laitteen jännitehäviö (V) kertaa laitteen läpi menevä sähkövirta (A)\" : \"teho\"\n",
    "}"
   ]
  },
  {
   "cell_type": "code",
   "execution_count": null,
   "metadata": {},
   "outputs": [],
   "source": []
  }
 ],
 "metadata": {
  "kernelspec": {
   "display_name": "Python 3",
   "language": "python",
   "name": "python3"
  },
  "language_info": {
   "codemirror_mode": {
    "name": "ipython",
    "version": 3
   },
   "file_extension": ".py",
   "mimetype": "text/x-python",
   "name": "python",
   "nbconvert_exporter": "python",
   "pygments_lexer": "ipython3",
   "version": "3.7.3"
  }
 },
 "nbformat": 4,
 "nbformat_minor": 4
}

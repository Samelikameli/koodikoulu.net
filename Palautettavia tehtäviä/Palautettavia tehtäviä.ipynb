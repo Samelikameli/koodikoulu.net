{
 "cells": [
  {
   "cell_type": "markdown",
   "metadata": {},
   "source": [
    "# Palautettavia tehtäviä"
   ]
  },
  {
   "cell_type": "markdown",
   "metadata": {},
   "source": [
    "Palauta seuraavista tehtävistä 5 valitsemaasi tehtäävää joko classroomiin tai koodikoulu.net-palveluun ke 13.5.2020 klo 16.15 mennessä"
   ]
  },
  {
   "cell_type": "markdown",
   "metadata": {},
   "source": [
    "<img src=geometrinen.jpg >"
   ]
  },
  {
   "cell_type": "code",
   "execution_count": null,
   "metadata": {},
   "outputs": [],
   "source": []
  },
  {
   "cell_type": "markdown",
   "metadata": {},
   "source": [
    "<img src=auto.jpg >"
   ]
  },
  {
   "cell_type": "code",
   "execution_count": 2,
   "metadata": {},
   "outputs": [],
   "source": [
    "t_lista = [0.0, 1.0, 2.0, 3.0,  4.0, 5.0, 6.0, 7.0, 8.0]\n",
    "v_lista = [0, 7.8, 15.8, 23.9, 32.2, 41.4, 52.2, 65.6, 76.6]"
   ]
  },
  {
   "cell_type": "markdown",
   "metadata": {},
   "source": [
    "<img src=arvuuttelu.jpg >\n",
    "Toteuta ohjelma, joka arvuuttelee käyttäjältä lukuja väliltä 0 - n ylläolevan algoritmin mukaisesti."
   ]
  },
  {
   "cell_type": "code",
   "execution_count": null,
   "metadata": {},
   "outputs": [],
   "source": []
  },
  {
   "cell_type": "markdown",
   "metadata": {},
   "source": [
    "<img src=keitto.jpg >"
   ]
  },
  {
   "cell_type": "code",
   "execution_count": null,
   "metadata": {},
   "outputs": [],
   "source": []
  },
  {
   "cell_type": "markdown",
   "metadata": {},
   "source": [
    "<img src=putoamiskiihtyvyys.jpg >"
   ]
  },
  {
   "cell_type": "code",
   "execution_count": 4,
   "metadata": {},
   "outputs": [],
   "source": [
    "with open(\"putoamisliike.csv\") as f:\n",
    "    rivit = f.read().splitlines()"
   ]
  },
  {
   "cell_type": "markdown",
   "metadata": {},
   "source": [
    "<img src=rekursio.jpg >"
   ]
  },
  {
   "cell_type": "code",
   "execution_count": null,
   "metadata": {},
   "outputs": [],
   "source": []
  },
  {
   "cell_type": "markdown",
   "metadata": {},
   "source": [
    "<img src=summa.jpg >"
   ]
  },
  {
   "cell_type": "code",
   "execution_count": null,
   "metadata": {},
   "outputs": [],
   "source": []
  },
  {
   "cell_type": "markdown",
   "metadata": {},
   "source": [
    "<img src=vektorit.jpg >"
   ]
  },
  {
   "cell_type": "code",
   "execution_count": null,
   "metadata": {},
   "outputs": [],
   "source": []
  },
  {
   "cell_type": "markdown",
   "metadata": {},
   "source": [
    "Seuravassa kertaus_kysely sanakirjassa on oikein/väärin väitelauseita. Sanakirjan avaimia ovat väitelauseet, ja mahdollisia arvoja ovat True/False. Toteuta komentorivillä toimiva ohjelma, jonka suorituksella voidaan suorittaa läksynkuulustelu.\n",
    "\n",
    "Seuraava sanakirja kasitteet sisältää avaimina fysiikan käsitteiden määritelmiä, sanakirjan arvoja ovat suureiden nimet.\n",
    "\n",
    "Tee komentoriviltä toimiva ohjelma, jolla voi esittää käyttäjälle määritelmiä ja väitteitä, ja käyttäjä vastaa esittämällä suureen nimen tai kyllä/ei -vastauksen. Oikeasta vastauksesta käyttäjä saa aina yhden pisteen.\n",
    "\n",
    "Oikea vastaus 1p, väärä vastaus 0p.\n",
    "\n",
    "Lopussa ohjelma tulostaa käyttäjän pisteet, ja jonkun seuraavista kannustuslauseista 1-3 saavutettujen pisteiden mukaisesti: \n",
    "\n",
    "1: Aijai, meni huonosti, nyt on aika opiskella ja keskittyä asiaan enemmän.  \n",
    "\n",
    "2: Pystyt kyllä parempaan, kertaa vielä asiat. \n",
    "\n",
    "3: Hyvä, hallitset asiat hyvin.\n",
    "\n"
   ]
  },
  {
   "cell_type": "code",
   "execution_count": 5,
   "metadata": {},
   "outputs": [],
   "source": [
    "laksy_kysely = { \n",
    "  \"Metallilangan resistanssi on suoraan verrannollinen langan pituuteen. \" : True,\n",
    "  \"Kun paristoa kuormitetaan, sen napajännite on aina suurempi kuin lähdejännite.\" : False,\n",
    "  \"Metallilangan resistanssi  pienenee, kun lankaa ohennetaan.\": False,\n",
    "  \"Rinnankytkettyjen vastusten kokonaisresistanssi on kytkennän jokaisen vastuksen resistanssiin verrattuna pienempi.\" : True,\n",
    "  \"Laitteen kuluttama sähköteho on suoraan verrannollinen laitteen jännitehäviöön ja laitteen läpi kulkevaan sähkövirtaan\": True,\n",
    "  \"Paristo yhdistelmän sarjaankytkennässä paristoyhdystelmän jännite ei muutu.\" : False,\n",
    "  \"Kun paristo ikääntyy eli kuluu, sen sisäinen resistanssi kasvaa\": True,\n",
    "  \"Sähkölaitteessa muuntuneen energian suuruus lasketaan jakamalla laitteen kuluttama teho käyttöajalla\": False\n",
    " }\n",
    "\n",
    "\n",
    "kasitteet = {\n",
    "  \"Aineen ominaisresistanssi, joka kuvaa miten hyvin aine johtaa sähköä. yksikkönä ohmi*m\" : \"resistiivisyys\",\n",
    "  \"Suure kuvaa miten paljon kondensaattoriin mahtuu sähkövarausta. Yksikkö 1 Faradi.\" : \"kapasitanssi\",\n",
    "  \"Vastuksen ominaisuus, joka ilmaisee miten hyvin vastus estää virtailmiön syntyä\" : \"resistanssi\",\n",
    "  \"Pienin luonnossa vapaana esiintyvä sähkövaraus eli yhden elektronin sähkövaraus\": \"alkeisvaraus\",\n",
    "  \"Sähkölaitteen kuluttaman energian mittaamisessa käytettävä johdannaisyksikkö\": \"kilowattitunti\",\n",
    "  \"Sähkölaitteen toimintaa kuvaava suure, joka  lasketaan laitteen jännitehäviö (V) kertaa laitteen läpi menevä sähkövirta (A)\" : \"teho\"\n",
    "}"
   ]
  }
 ],
 "metadata": {
  "kernelspec": {
   "display_name": "Python 3",
   "language": "python",
   "name": "python3"
  },
  "language_info": {
   "codemirror_mode": {
    "name": "ipython",
    "version": 3
   },
   "file_extension": ".py",
   "mimetype": "text/x-python",
   "name": "python",
   "nbconvert_exporter": "python",
   "pygments_lexer": "ipython3",
   "version": "3.7.3"
  }
 },
 "nbformat": 4,
 "nbformat_minor": 4
}

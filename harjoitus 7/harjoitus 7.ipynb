{
 "cells": [
  {
   "cell_type": "markdown",
   "metadata": {},
   "source": [
    "# Tiedonkäsittely ulkoisesta tiedostosta"
   ]
  },
  {
   "cell_type": "code",
   "execution_count": 14,
   "metadata": {},
   "outputs": [],
   "source": [
    "import matplotlib.pyplot as kuvaaja\n",
    "\n",
    "with open(\"testi.csv\") as f:\n",
    "    rivit = f.read().splitlines()\n",
    "x_lista = []\n",
    "y_lista = []\n",
    "for rivi in rivit:\n",
    "    x, y = rivi.split(\",\")\n",
    "    x_lista.append(x)\n",
    "    y_lista.append(y)"
   ]
  },
  {
   "cell_type": "code",
   "execution_count": 16,
   "metadata": {},
   "outputs": [
    {
     "data": {
      "image/png": "[encoded data removed]",
      "text/plain": [
       "<Figure size 432x288 with 1 Axes>"
      ]
     },
     "metadata": {
      "needs_background": "light"
     },
     "output_type": "display_data"
    }
   ],
   "source": [
    "kuvaaja.plot(x_lista, y_lista)\n",
    "kuvaaja.grid()\n",
    "kuvaaja.show()"
   ]
  },
  {
   "cell_type": "markdown",
   "metadata": {},
   "source": [
    "## Tehtäviä"
   ]
  },
  {
   "cell_type": "markdown",
   "metadata": {},
   "source": [
    "<img src=matikka.jpg>"
   ]
  },
  {
   "cell_type": "code",
   "execution_count": 19,
   "metadata": {},
   "outputs": [],
   "source": [
    "with open(\"matikka_ala2.csv\") as f:\n",
    "    rivit = f.read().splitlines()"
   ]
  },
  {
   "cell_type": "markdown",
   "metadata": {},
   "source": [
    "Liitetiedostossa on kondensaattorin lautausjännite U (V) ja kondensaattorin lataus Q (Coulombi) arvoja. Esitä mittaustulokset (jännite, varaus)-kuvaajassa, ja määritä kuvaajan kulmakertoimesta  kondensaattorin kapasitanssi C.  Kondensaattorilaki Q= CU"
   ]
  },
  {
   "cell_type": "code",
   "execution_count": 20,
   "metadata": {},
   "outputs": [],
   "source": [
    "with open(\"kondensaattorilaki.csv\") as f:\n",
    "    rivit = f.read().splitlines()"
   ]
  },
  {
   "cell_type": "markdown",
   "metadata": {},
   "source": [
    "Tasaisesti kiihtyvä liike: Piirrä liikkuvan kappaleen (aika, sijainti)-kuvaaja sekä (aika, nopeus)-kuvaaja. Määritä nopeuden kuvaajasta graafisen integroinnin avulla kuljettu matka."
   ]
  },
  {
   "cell_type": "code",
   "execution_count": 21,
   "metadata": {},
   "outputs": [],
   "source": [
    "with open(\"tasaisesti kiihtyva liike.csv\") as f:\n",
    "    rivit = f.read().splitlines()"
   ]
  },
  {
   "cell_type": "code",
   "execution_count": null,
   "metadata": {},
   "outputs": [],
   "source": []
  }
 ],
 "metadata": {
  "kernelspec": {
   "display_name": "Python 3",
   "language": "python",
   "name": "python3"
  },
  "language_info": {
   "codemirror_mode": {
    "name": "ipython",
    "version": 3
   },
   "file_extension": ".py",
   "mimetype": "text/x-python",
   "name": "python",
   "nbconvert_exporter": "python",
   "pygments_lexer": "ipython3",
   "version": "3.7.3"
  }
 },
 "nbformat": 4,
 "nbformat_minor": 4
}

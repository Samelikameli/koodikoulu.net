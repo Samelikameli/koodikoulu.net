{
 "cells": [
  {
   "cell_type": "markdown",
   "metadata": {},
   "source": [
    "# Sanakirjat\n",
    "Sanakirjat ovat listan kaltaisia rakenteita, joissa yhteen muuttujaan voi tallentaa enemmän tietoa.\n",
    "Erona on se, että sanakirjassa tieto ei ole järjestyksessä, vaan jokaiselle arvolle on oma avain."
   ]
  },
  {
   "cell_type": "code",
   "execution_count": 2,
   "metadata": {},
   "outputs": [],
   "source": [
    "sanakirja = {}"
   ]
  },
  {
   "cell_type": "markdown",
   "metadata": {},
   "source": [
    "Sanakirjaan lisätään arvoja []-merkinnällä:"
   ]
  },
  {
   "cell_type": "code",
   "execution_count": 3,
   "metadata": {},
   "outputs": [],
   "source": [
    "sanakirja[\"a\"] = 10"
   ]
  },
  {
   "cell_type": "markdown",
   "metadata": {},
   "source": [
    "Hakasulkujen sisällä on avain (\"a\") ja arvo on yhtäsuuruusmerkin oikealla puolella (10). Avain voi olla mitä tahansa tyyppiä, mutta harvoin käytetään mitään muita kuin kokonaislukuja tai merkkijonoja."
   ]
  },
  {
   "cell_type": "markdown",
   "metadata": {},
   "source": [
    "Sanakirjasta voidaan hakea arvoja myös []-merkinnällä:"
   ]
  },
  {
   "cell_type": "code",
   "execution_count": 4,
   "metadata": {},
   "outputs": [
    {
     "name": "stdout",
     "output_type": "stream",
     "text": [
      "10\n"
     ]
    }
   ],
   "source": [
    "print(sanakirja[\"a\"])"
   ]
  },
  {
   "cell_type": "markdown",
   "metadata": {},
   "source": [
    "## Tehtäviä"
   ]
  },
  {
   "cell_type": "markdown",
   "metadata": {},
   "source": [
    "Tee sanakirja, jossa avain on luku ja arvo luvun neliö. Toteuta sanakirja luvuille 1 - 100:"
   ]
  },
  {
   "cell_type": "code",
   "execution_count": null,
   "metadata": {},
   "outputs": [],
   "source": []
  },
  {
   "cell_type": "markdown",
   "metadata": {},
   "source": [
    "Laske kirjainten yleisyys annetussa tekstissä:"
   ]
  },
  {
   "cell_type": "code",
   "execution_count": 11,
   "metadata": {},
   "outputs": [],
   "source": [
    "teksti = \"Lorem ipsum dolor sit amet, consectetur adipiscing elit, sed do eiusmod tempor incididunt ut labore et dolore magna aliqua. Ut enim ad minim veniam, quis nostrud exercitation ullamco laboris nisi ut aliquip ex ea commodo consequat. Duis aute irure dolor in reprehenderit in voluptate velit esse cillum dolore eu fugiat nulla pariatur. Excepteur sint occaecat cupidatat non proident, sunt in culpa qui officia deserunt mollit anim id est laborum.\"\n"
   ]
  },
  {
   "cell_type": "markdown",
   "metadata": {},
   "source": [
    "Abihuppareista äänestettiin lukiossa, ja saatiin seuraavat tulokset:\n",
    "\n",
    "| Ehdotus    | Äänet |\n",
    "|------------|-------|\n",
    "| Buranabi   | 97    |\n",
    "| Abimeister | 44    |\n",
    "| Abinat     | 36    |\n",
    "| Teletabit  | 67    |\n",
    "| Abidas     | 35    |\n",
    "| Absolut abi| 28    |\n",
    "\n",
    "Esitä tulokset sekä listana että sanakirjana ja vastaa kummallakin tavalla kysymyksiin:\n",
    "1. Mikä ehdotuksista voitti?\n",
    "2. Tulosta ehdotukset järjestyksessä\n",
    "3. Tulosta ehdotukset ja niiden prosenttiosuus äänestyksessä"
   ]
  },
  {
   "cell_type": "markdown",
   "metadata": {},
   "source": [
    "Seuravassa kertaus_kysely sanakirjassa on oikein/väärin väitelauseita. Sanakirjan avaimia ovat väitelauseet, ja mahdollisia arvoja ovat True/False. Toteuta komentorivillä toimiva ohjelma, jonka suorituksella voidaan suorittaa läksynkuulustelu.\n",
    "\n",
    "Oikea vastaus 1p, väärä vastaus 0p.\n",
    "\n",
    "Lopussa ohjelma tulostaa käyttäjän pisteet, ja jonkun seuraavista kannustuslauseista 1-3 saavutettujen pisteiden mukaisesti: \n",
    "\n",
    "1: Aijai, meni huonosti, nyt on aika opiskella ja keskittyä asiaan enemmän.  \n",
    "\n",
    "2: Pystyt kyllä parempaan, kertaa vielä asiat. \n",
    "\n",
    "3: Hyvä, hallitset asiat hyvin."
   ]
  },
  {
   "cell_type": "code",
   "execution_count": 7,
   "metadata": {},
   "outputs": [],
   "source": [
    "laksy_kysely = { \n",
    "  \"Metallilangan resistanssi on suoraan verrannollinen langan pituuteen. \" : True,\n",
    "  \"Kun paristoa kuormitetaan, sen napajännite on aina suurempi kuin lähdejännite.\" : False,\n",
    "  \"Metallilangan resistanssi  pienenee, kun lankaa ohennetaan.\": False,\n",
    "  \"Rinnankytkettyjen vastusten kokonaisresistanssi on kytkennän jokaisen vastuksen resistanssiin verrattuna pienempi.\" : True,\n",
    "  \"Laitteen kuluttama sähköteho on suoraan verrannollinen laitteen jännitehäviöön ja laitteen läpi kulkevaan sähkövirtaan\": True,\n",
    "  \"Paristo yhdistelmän sarjaankytkennässä paristoyhdystelmän jännite ei muutu.\" : False,\n",
    "  \"Kun paristo ikääntyy eli kuluu, sen sisäinen resistanssi kasvaa\": True,\n",
    "  \"Sähkölaitteessa muuntuneen energian suuruus lasketaan jakamalla laitteen kuluttama teho käyttöajalla\": False\n",
    " }"
   ]
  },
  {
   "cell_type": "markdown",
   "metadata": {},
   "source": [
    "Seuraava sanakirja kasitteet sisältää avaimina fysiikan käsitteiden määritelmiä, sanakirjan arvoja ovat suureiden nimet.\n",
    "\n",
    "Tee komentoriviltä toimiva ohjelma, jolla voi esittää käyttäjälle määritelmiä, ja käyttäjä vastaa esittämällä suureen nimen. Oikeasta vastauksesta käyttäjä saa aina yhden pisteen."
   ]
  },
  {
   "cell_type": "code",
   "execution_count": 8,
   "metadata": {},
   "outputs": [],
   "source": [
    "kasitteet = {\n",
    "  \"Aineen ominaisresistanssi, joka kuvaa miten hyvin aine johtaa sähköä. yksikkönä ohmi*m\" : \"resistiivisyys\",\n",
    "  \"Suure kuvaa miten paljon kondensaattoriin mahtuu sähkövarausta. Yksikkö 1 Faradi.\" : \"kapasitanssi\",\n",
    "  \"Vastuksen ominaisuus, joka ilmaisee miten hyvin vastus estää virtailmiön syntyä\" : \"resistanssi\",\n",
    "  \"Pienin luonnossa vapaana esiintyvä sähkövaraus eli yhden elektronin sähkövaraus\": \"alkeisvaraus\",\n",
    "  \"Sähkölaitteen kuluttaman energian mittaamisessa käytettävä johdannaisyksikkö\": \"kilowattitunti\",\n",
    "  \"Sähkölaitteen toimintaa kuvaava suure, joka  lasketaan laitteen jännitehäviö (V) kertaa laitteen läpi menevä sähkövirta (A)\" : \"teho\"\n",
    "}"
   ]
  },
  {
   "cell_type": "code",
   "execution_count": null,
   "metadata": {},
   "outputs": [],
   "source": []
  }
 ],
 "metadata": {
  "kernelspec": {
   "display_name": "Python 3",
   "language": "python",
   "name": "python3"
  },
  "language_info": {
   "codemirror_mode": {
    "name": "ipython",
    "version": 3
   },
   "file_extension": ".py",
   "mimetype": "text/x-python",
   "name": "python",
   "nbconvert_exporter": "python",
   "pygments_lexer": "ipython3",
   "version": "3.7.3"
  }
 },
 "nbformat": 4,
 "nbformat_minor": 4
}

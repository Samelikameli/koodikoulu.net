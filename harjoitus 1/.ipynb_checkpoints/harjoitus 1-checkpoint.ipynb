{
 "cells": [
  {
   "cell_type": "markdown",
   "metadata": {},
   "source": [
    "# Lukion matematiikkaa ja fysiikkaa ohjelmoimalla\n",
    "\n",
    "## JupyterHubin käytön perusteet\n",
    "\n",
    "- Koodin kirjoittaminen ja suorittaminen\n",
    "- Tehtävien hakeminen ja palautus\n",
    "- Oman Jupyternotebook-tiedoston luominen\n",
    "- Solun käyttö python-koodauksessa ja markdown-alustana\n",
    "- Solun lisääminen ja poistaminen\n",
    "- Yksittäisen solun suorittaminen ja kaikkien solujen suorittaminen\n",
    "\n",
    "\n",
    "## Python-ohjelmoinnin perusteet\n",
    "- tulostaminen print-komennolla ja ilman print-komentoa JupyterNotebookissa.\n",
    "- Muuttujat, muuttujien tyypit ja muunnokset tyyppien välillä.\n",
    "- peruslaskutoimitukset\n",
    "\n",
    "\n"
   ]
  },
  {
   "cell_type": "markdown",
   "metadata": {},
   "source": [
    "## Tulostaminen"
   ]
  },
  {
   "cell_type": "code",
   "execution_count": 1,
   "metadata": {},
   "outputs": [],
   "source": [
    "# Ohjelmointi alkaa tästä, kirjoita koodi alle.\n"
   ]
  },
  {
   "cell_type": "markdown",
   "metadata": {},
   "source": [
    "# Muuttujat\n",
    "\n",
    "Muuttujat on ohjelmointikielissä tapa tallentaa tietoa tietokoneen muistiin. Jokaisella muuttujalla on pythonissa nimi, tyyppi ja arvo. Pythonissa ei voi määrittää muuttujan tyyppiä suoraan, vaan se tapahtuu antamalla sille tietyn tyyppinen arvo.\n",
    "\n",
    "Pythonissa on 4 alkeellista tietotyyppiä:\n",
    "1. **int**eger\n",
    "Kokonaisluku\n",
    "2. **float**\n",
    "Liukuluku eli desimaaliluku\n",
    "3. **str**ing\n",
    "Merkkijono\n",
    "4. **bool**ean\n",
    "Totuusarvo. Ainoat mahdolliset arvot ovat `True` ja `False`.\n",
    "Minkä tahansa nollasta poikkeavan luvun voi muuntaa `True`:ksi ja nollan `False`ksi.\n",
    "Tyhjä merkkijono `\"\"` muuntuu myös `False`:ksi.\n",
    "\n",
    "Muut tyypit on yleensä määritelty näillä neljällä alkeellisella tyypillä.\n",
    "\n",
    "Tyyppien lyhenteet on tummennettu.\n",
    "Lyhenteiden nimiset funktiot ottavat parametrikseen arvon ja yrittävät palauttaa funktiota vastaavan arvon ja tyypin.\n",
    "\n",
    "\n"
   ]
  },
  {
   "cell_type": "code",
   "execution_count": null,
   "metadata": {},
   "outputs": [],
   "source": [
    "# Syötä koodi tähän"
   ]
  },
  {
   "cell_type": "code",
   "execution_count": null,
   "metadata": {},
   "outputs": [],
   "source": []
  },
  {
   "cell_type": "markdown",
   "metadata": {},
   "source": [
    "Muuttujan nimi voi olla melkein mikä tahansa merkki- tai kirjainyhdistelmä, mutta ota huomioon seuraavat asiat:\n",
    "\n",
    "1. Nimi ei saa alkaa numerolla\n",
    "2. Nimessä ei saa olla välilyöntejä\n",
    "3. Ainoa erikoismerkki, jota saa käyttää nimissä, on alaviiva `_`\n",
    "4. Kirjainkoolla on väliä. `Kameli` ja `kameli` ovat eri muuttujia\n",
    "5. Yritä tehdä muuttujien nimistä järkeviä ja käyttöä vastaavia.\n",
    "Esimerkiksi `username` on paljon järkevämpi nimi muuttujalle kuin `asdf`\n",
    "\n",
    "\n",
    "Muuttujan voi luoda käyttämällä merkintää `muuttuja = \"arvo\"`, jossa yhtäsuuruusmerkin vasemmalla puolella on muuttujan nimi ja oikealla siihen tallennettava arvo. Esimerkiksi allaoleva ohjelma tulostaa `Hello world!`:"
   ]
  },
  {
   "cell_type": "code",
   "execution_count": 5,
   "metadata": {},
   "outputs": [
    {
     "name": "stdout",
     "output_type": "stream",
     "text": [
      "Hello world!\n"
     ]
    }
   ],
   "source": [
    "eka = \"Hello\"\n",
    "toka = \"world!\"\n",
    "print(eka, toka)"
   ]
  },
  {
   "cell_type": "markdown",
   "metadata": {},
   "source": [
    "# Operaattorit ja vertailu\n",
    "\n",
    "Pythonissa voidaan käyttää matemaattisia operaattoreita lukujen käsittelyyn. "
   ]
  },
  {
   "cell_type": "markdown",
   "metadata": {},
   "source": [
    "Esimerkkejä peruslaskutoimituksista"
   ]
  },
  {
   "cell_type": "code",
   "execution_count": null,
   "metadata": {},
   "outputs": [],
   "source": [
    "# Kirjoita esimerkkejä tähän"
   ]
  },
  {
   "cell_type": "markdown",
   "metadata": {},
   "source": [
    "Jos int ja float ovat samassa laskussa, tulos on tyyppiä float"
   ]
  },
  {
   "cell_type": "code",
   "execution_count": null,
   "metadata": {},
   "outputs": [],
   "source": []
  },
  {
   "cell_type": "markdown",
   "metadata": {},
   "source": [
    "Normaali jakolasku: antaa luvun aina float-muodossa"
   ]
  },
  {
   "cell_type": "code",
   "execution_count": null,
   "metadata": {},
   "outputs": [],
   "source": []
  },
  {
   "cell_type": "markdown",
   "metadata": {},
   "source": [
    "Alaspäin pyöristävä jakolasku: antaa luvun aina int-muodossa"
   ]
  },
  {
   "cell_type": "code",
   "execution_count": null,
   "metadata": {},
   "outputs": [],
   "source": []
  },
  {
   "cell_type": "markdown",
   "metadata": {},
   "source": [
    "Potenssi"
   ]
  },
  {
   "cell_type": "code",
   "execution_count": null,
   "metadata": {},
   "outputs": [],
   "source": []
  },
  {
   "cell_type": "markdown",
   "metadata": {},
   "source": [
    "Jakojäännös"
   ]
  },
  {
   "cell_type": "code",
   "execution_count": null,
   "metadata": {},
   "outputs": [],
   "source": []
  },
  {
   "cell_type": "markdown",
   "metadata": {},
   "source": [
    "\n",
    "Laskujärjestystä voi tarvittaessa muuttaa suluilla: `(4+10)*4` on 56.\n",
    "\n",
    "Usein on tarpeellista muuttaa muuttujan arvoa, esimerkiksi lisäämällä siihen jotain:\n",
    "\n"
   ]
  },
  {
   "cell_type": "code",
   "execution_count": 11,
   "metadata": {},
   "outputs": [],
   "source": [
    "# tutki suorittamalla solut\n",
    "x = 10\n",
    "x = x * 4 # Nyt x = 40"
   ]
  },
  {
   "cell_type": "code",
   "execution_count": 12,
   "metadata": {},
   "outputs": [],
   "source": [
    "x = x +1 # Nyt x = 40"
   ]
  },
  {
   "cell_type": "code",
   "execution_count": 13,
   "metadata": {},
   "outputs": [],
   "source": [
    "x = x ** 2 # Nyt x = 1681"
   ]
  },
  {
   "cell_type": "code",
   "execution_count": null,
   "metadata": {},
   "outputs": [],
   "source": [
    "x"
   ]
  },
  {
   "cell_type": "markdown",
   "metadata": {},
   "source": [
    "## Tehtävä 1\n",
    "\n",
    "Tee ohjelma, jossa määritellään kolme muuttujaa, joiden arvot ovat lukuja. Ohjelma laskee ja tulostaa lukujen summan ja keskiarvon.\n"
   ]
  },
  {
   "cell_type": "code",
   "execution_count": null,
   "metadata": {},
   "outputs": [],
   "source": [
    "# Kirjoita vastaus tähän"
   ]
  },
  {
   "cell_type": "markdown",
   "metadata": {},
   "source": [
    "## Tehtävä 2\n",
    "Tee ohjelma, jossa määritellään pallon säde, ja ohjelma tulostaa pallon tilavuuden ja pinta-alan. Pallon pinta-ala ja tilavuus lasketaan kaavoilla\n",
    "\n",
    "$$\n",
    "A=4\\pi\\cdot r^2 \\ \\text{ja} \\ V=\\frac{4}{3}\\pi r^3 \n",
    "$$"
   ]
  },
  {
   "cell_type": "code",
   "execution_count": null,
   "metadata": {},
   "outputs": [],
   "source": [
    "# Kirjoita vastaus tähän"
   ]
  },
  {
   "cell_type": "markdown",
   "metadata": {},
   "source": [
    "## Tehtävä 2b\n",
    "Tee ohjelma, joka laskee tunnetusta pallon pinta-alasta pallon säteen ja pallon tilavuuden."
   ]
  },
  {
   "cell_type": "code",
   "execution_count": null,
   "metadata": {},
   "outputs": [],
   "source": []
  },
  {
   "cell_type": "markdown",
   "metadata": {},
   "source": [
    "## Tehtävä 3\n",
    "Suorakulmion sivujen pituus on 50 cm ja 30 cm. Tee ohjelma, joka tulostaa suorakulmion piirin ja pinta-alan."
   ]
  },
  {
   "cell_type": "code",
   "execution_count": 12,
   "metadata": {},
   "outputs": [],
   "source": [
    "# Kirjoita koodi tähän"
   ]
  },
  {
   "cell_type": "markdown",
   "metadata": {},
   "source": [
    "## Tehtävä 4\n",
    "Puhelinliittymän A kuukausimaksu on 6 euroa ja minuuttitaksa 0.15 eur/min. Tee ohjelma, jonka avulla voi tutkia\n",
    "puhelinlaskua erilaisilla puheajoilla. Puhelinliittymän B kiinteä kuukausimaksu on 15 euroa. Ets kokeilemalla eli haarukoi kuinka paljon pitää puhua, että liittymä B tulee halvemmaksi?"
   ]
  },
  {
   "cell_type": "code",
   "execution_count": null,
   "metadata": {},
   "outputs": [],
   "source": [
    "# Kirjoita vastaus tähän"
   ]
  },
  {
   "cell_type": "markdown",
   "metadata": {},
   "source": [
    "## Tehtävä 5\n",
    "Jaettava on luku 145 ja jakaja on luku 6. Tee ohjelma, joka tulostaa jakolaskun osamäärän ja jakojäännöksen."
   ]
  },
  {
   "cell_type": "code",
   "execution_count": null,
   "metadata": {},
   "outputs": [],
   "source": []
  },
  {
   "cell_type": "markdown",
   "metadata": {},
   "source": [
    "## Tehtävä 6\n",
    "Auto lähtee levosta liikkeelle. Auton kiihtyvys on 3 $m/s^2$. Tee ohjelma, joka tulostaa auton nopeuden sekunnin välein aikavälillä $0s \\dots 4s$. Lopuksi ohjelma tulostaa auton kulkeman matkan metreissä."
   ]
  },
  {
   "cell_type": "code",
   "execution_count": null,
   "metadata": {},
   "outputs": [],
   "source": []
  },
  {
   "cell_type": "markdown",
   "metadata": {},
   "source": [
    "## Tehtäviä\n",
    "\n",
    "1. Luo kaksi muuttujaa: tallenna toiseen merkkijono `Hei,` ja toiseen joku nimi. Tulosta ne niin, että tuloste on esimerkiksi `Hei, Maria`\n",
    "3. Luo neljä muuttujaa, joiden tyypit ovat int, float, str ja bool. Tarkista ja tulosta tyypit `type`-funktiolla."
   ]
  },
  {
   "cell_type": "code",
   "execution_count": null,
   "metadata": {},
   "outputs": [],
   "source": []
  },
  {
   "cell_type": "markdown",
   "metadata": {},
   "source": [
    "\n",
    "\n",
    "Muuttujan tyypin voi selvittää funktiolla `type`:"
   ]
  },
  {
   "cell_type": "code",
   "execution_count": 2,
   "metadata": {},
   "outputs": [
    {
     "data": {
      "text/plain": [
       "int"
      ]
     },
     "execution_count": 2,
     "metadata": {},
     "output_type": "execute_result"
    }
   ],
   "source": [
    "# Suorita alla oleva koodi\n",
    "numero = 2\n",
    "type(numero)"
   ]
  },
  {
   "cell_type": "code",
   "execution_count": 3,
   "metadata": {},
   "outputs": [
    {
     "data": {
      "text/plain": [
       "str"
      ]
     },
     "execution_count": 3,
     "metadata": {},
     "output_type": "execute_result"
    }
   ],
   "source": [
    "# Suorita alla oleva koodi\n",
    "merkki = \"2\"\n",
    "type(merkki)"
   ]
  },
  {
   "cell_type": "code",
   "execution_count": 4,
   "metadata": {},
   "outputs": [
    {
     "data": {
      "text/plain": [
       "float"
      ]
     },
     "execution_count": 4,
     "metadata": {},
     "output_type": "execute_result"
    }
   ],
   "source": [
    "# Suorita \n",
    "liukuluku = 2.345\n",
    "type(liukuluku)"
   ]
  }
 ],
 "metadata": {
  "kernelspec": {
   "display_name": "Python 3",
   "language": "python",
   "name": "python3"
  },
  "language_info": {
   "codemirror_mode": {
    "name": "ipython",
    "version": 3
   },
   "file_extension": ".py",
   "mimetype": "text/x-python",
   "name": "python",
   "nbconvert_exporter": "python",
   "pygments_lexer": "ipython3",
   "version": "3.7.3"
  }
 },
 "nbformat": 4,
 "nbformat_minor": 4
}

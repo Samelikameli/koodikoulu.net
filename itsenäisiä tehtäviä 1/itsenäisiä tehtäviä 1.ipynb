{
 "cells": [
  {
   "cell_type": "markdown",
   "metadata": {},
   "source": [
    "# Itsenäisiä tehtäviä 1"
   ]
  },
  {
   "cell_type": "markdown",
   "metadata": {},
   "source": [
    "## Keskiarvot\n",
    "Tee ohjelma, joka\n",
    "\n",
    "a) laskee muuttujien a ja b keskiarvon\n",
    "\n",
    "b) laskee listan keskiarvon"
   ]
  },
  {
   "cell_type": "code",
   "execution_count": null,
   "metadata": {},
   "outputs": [],
   "source": []
  },
  {
   "cell_type": "markdown",
   "metadata": {},
   "source": [
    "Pallon tilavuus on 50 litraa. Mikä on pallon pinta-ala? \n",
    "\n",
    "$$\n",
    "A=4\\pi\\cdot r^2 \\ \\text{ja} \\ V=\\frac{4}{3}\\pi r^3 \n",
    "$$"
   ]
  },
  {
   "cell_type": "code",
   "execution_count": null,
   "metadata": {},
   "outputs": [],
   "source": []
  },
  {
   "cell_type": "code",
   "execution_count": null,
   "metadata": {},
   "outputs": [],
   "source": []
  },
  {
   "cell_type": "markdown",
   "metadata": {},
   "source": [
    "## Vektorit listana\n",
    "\n",
    "Vektoreita voi esittää pythonissa listoilla. Esimerkiksi jos vektori $\\bar{A} = 3i - 5j$, saman voi kirjoittaa pythonissa `A = [3, -5]`.\n",
    "\n",
    "Pistetulo: $A\\cdot B = A_i\\cdot B_i + A_j\\cdot B_j + A_k\\cdot B_k$"
   ]
  },
  {
   "cell_type": "markdown",
   "metadata": {},
   "source": [
    "<img src=\"images/pistetulo.jpg\" width=\"400\">\n"
   ]
  },
  {
   "cell_type": "code",
   "execution_count": 1,
   "metadata": {},
   "outputs": [],
   "source": [
    "# a)\n",
    "\n",
    "a = [2, 4, -1]\n",
    "b = [5, -2, 2]"
   ]
  },
  {
   "cell_type": "markdown",
   "metadata": {},
   "source": [
    "<img src=\"images/AB.jpg\" width=\"400\">\n"
   ]
  },
  {
   "cell_type": "code",
   "execution_count": null,
   "metadata": {},
   "outputs": [],
   "source": []
  },
  {
   "cell_type": "markdown",
   "metadata": {},
   "source": [
    "<img src=\"images/ABC.jpg\" width=\"400\">\n"
   ]
  },
  {
   "cell_type": "code",
   "execution_count": null,
   "metadata": {},
   "outputs": [],
   "source": []
  },
  {
   "cell_type": "markdown",
   "metadata": {},
   "source": [
    "<img src=\"images/suunta.jpg\" width=\"400\">\n"
   ]
  },
  {
   "cell_type": "code",
   "execution_count": null,
   "metadata": {},
   "outputs": [],
   "source": []
  },
  {
   "cell_type": "markdown",
   "metadata": {},
   "source": [
    "Seuravassa kertaus_kysely sanakirjassa on oikein/väärin väitelauseita. Sanakirjan avaimia ovat väitelauseet, ja mahdollisia arvoja ovat True/False. Toteuta komentorivillä toimiva ohjelma, jonka suorituksella voidaan suorittaa läksynkuulustelu.\n",
    "\n",
    "Oikea vastaus 1p, väärä vastaus 0p.\n",
    "\n",
    "Lopussa ohjelma tulostaa käyttäjän pisteet, ja jonkun seuraavista kannustuslauseista 1-3 saavutettujen pisteiden mukaisesti: \n",
    "\n",
    "1: Aijai, meni huonosti, nyt on aika opiskella ja keskittyä asiaan enemmän.  \n",
    "\n",
    "2: Pystyt kyllä parempaan, kertaa vielä asiat. \n",
    "\n",
    "3: Hyvä, hallitset asiat hyvin."
   ]
  },
  {
   "cell_type": "code",
   "execution_count": 7,
   "metadata": {},
   "outputs": [],
   "source": [
    "laksy_kysely = { \n",
    "  \"Metallilangan resistanssi on suoraan verrannollinen langan pituuteen. \" : True,\n",
    "  \"Kun paristoa kuormitetaan, sen napajännite on aina suurempi kuin lähdejännite.\" : False,\n",
    "  \"Metallilangan resistanssi  pienenee, kun lankaa ohennetaan.\": False,\n",
    "  \"Rinnankytkettyjen vastusten kokonaisresistanssi on kytkennän jokaisen vastuksen resistanssiin verrattuna pienempi.\" : True,\n",
    "  \"Laitteen kuluttama sähköteho on suoraan verrannollinen laitteen jännitehäviöön ja laitteen läpi kulkevaan sähkövirtaan\": True,\n",
    "  \"Paristo yhdistelmän sarjaankytkennässä paristoyhdystelmän jännite ei muutu.\" : False,\n",
    "  \"Kun paristo ikääntyy eli kuluu, sen sisäinen resistanssi kasvaa\": True,\n",
    "  \"Sähkölaitteessa muuntuneen energian suuruus lasketaan jakamalla laitteen kuluttama teho käyttöajalla\": False\n",
    " }\n",
    "\n"
   ]
  },
  {
   "cell_type": "markdown",
   "metadata": {},
   "source": [
    "Seuraava sanakirja kasitteet sisältää avaimina fysiikan käsitteiden määritelmiä, sanakirjan arvoja ovat suureiden nimet.\n",
    "\n",
    "Tee komentoriviltä toimiva ohjelma, jolla voi esittää käyttäjälle määritelmiä, ja käyttäjä vastaa esittämällä suureen nimen. Oikeasta vastauksesta käyttäjä saa aina yhden pisteen."
   ]
  },
  {
   "cell_type": "code",
   "execution_count": 8,
   "metadata": {},
   "outputs": [],
   "source": [
    "kasitteet = {\n",
    "  \"Aineen ominaisresistanssi, joka kuvaa miten hyvin aine johtaa sähköä. yksikkönä ohmi*m\" : \"resistiivisyys\",\n",
    "  \"Suure kuvaa miten paljon kondensaattoriin mahtuu sähkövarausta. Yksikkö 1 Faradi.\" : \"kapasitanssi\",\n",
    "  \"Vastuksen ominaisuus, joka ilmaisee miten hyvin vastus estää virtailmiön syntyä\" : \"resistanssi\",\n",
    "  \"Pienin luonnossa vapaana esiintyvä sähkövaraus eli yhden elektronin sähkövaraus\": \"alkeisvaraus\",\n",
    "  \"Sähkölaitteen kuluttaman energian mittaamisessa käytettävä johdannaisyksikkö\": \"kilowattitunti\",\n",
    "  \"Sähkölaitteen toimintaa kuvaava suure, joka  lasketaan laitteen jännitehäviö (V) kertaa laitteen läpi menevä sähkövirta (A)\" : \"teho\"\n",
    "}"
   ]
  },
  {
   "cell_type": "code",
   "execution_count": null,
   "metadata": {},
   "outputs": [],
   "source": []
  }
 ],
 "metadata": {
  "kernelspec": {
   "display_name": "Python 3",
   "language": "python",
   "name": "python3"
  },
  "language_info": {
   "codemirror_mode": {
    "name": "ipython",
    "version": 3
   },
   "file_extension": ".py",
   "mimetype": "text/x-python",
   "name": "python",
   "nbconvert_exporter": "python",
   "pygments_lexer": "ipython3",
   "version": "3.7.3"
  }
 },
 "nbformat": 4,
 "nbformat_minor": 4
}
